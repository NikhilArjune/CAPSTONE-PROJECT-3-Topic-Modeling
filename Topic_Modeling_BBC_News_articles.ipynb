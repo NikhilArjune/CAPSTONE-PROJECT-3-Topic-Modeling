{
  "cells": [
    {
      "cell_type": "markdown",
      "metadata": {
        "id": "view-in-github",
        "colab_type": "text"
      },
      "source": [
        "<a href=\"https://colab.research.google.com/github/NikhilArjune/CAPSTONE-PROJECT-4-Topic-Modeling/blob/main/Topic_Modeling_BBC_News_articles.ipynb\" target=\"_parent\"><img src=\"https://colab.research.google.com/assets/colab-badge.svg\" alt=\"Open In Colab\"/></a>"
      ]
    },
    {
      "cell_type": "markdown",
      "metadata": {
        "id": "vncDsAP0Gaoa"
      },
      "source": [
        "# **Project Name**    - Topic Modeling BBC News articles\n",
        "\n"
      ]
    },
    {
      "cell_type": "markdown",
      "metadata": {
        "id": "beRrZCGUAJYm"
      },
      "source": [
        "##### **Project Type**    - Unsupervised\n",
        "##### **Contribution**    - Team\n",
        "##### **Team Member 1 -** - Nikhil Arjune\n",
        "##### **Team Member 2 -** - Chandan Taksande\n"
      ]
    },
    {
      "cell_type": "markdown",
      "metadata": {
        "id": "FJNUwmbgGyua"
      },
      "source": [
        "# **Project Summary -**"
      ]
    },
    {
      "cell_type": "markdown",
      "metadata": {
        "id": "F6v_1wHtG2nS"
      },
      "source": [
        "When we had our last session at at almabetter, next day we both had discussion on how to proceed with this project. And we first did the revision on session's for better understanding and insights. Our second step was to study all the projects topics given on Alma Better Dashboard. We spent three days only to select for project topic. During these three days, each of us carefully observe given dataset for each project and had group discussion once or twice a day. In that group discussion we talk about various possibilities we can obtain from given dataset. We also discuss how can we approach this topic in depth and how should we start working on it. We had lot of debates on which topic we should proceed with. The most interesting discussion we had on was Topic Modeling. Even though it was a complicated but we are relatively familiar with all termilogies given in dataframe. We thought we could learn lot of things from doing this project. As this data had lot of outliers and high skewness. We wanted to learn how to perform NLP on text data try different model on it. And That's why we  selected this project. We selected Topic Modeling because there were a lot of things we could learn while working on it and do lot of exploring too, with more hardcore difficulty. Each of us created a personal rough collab and tried applying and generating results. In the rough collab we had our personal data visualization, wrangling outlier handling , skewness handling and model implementation. Then we came on alma better lounge-table and had a group activity again. We shared our personal rough colab with data visualization, wrangling, text pre-processing, model implementation and discussed in the group with each other. After the discussion and comparing our collab, we studied each others personal colab to find out what are each others mistakes and important points ,which is most logical to be noted. Finally we created a list of our own mistake and important point so that when we start working individually on actual project again, so we won't repeat any mistake or trend already done by other team members. We again had a group discussion session next day on alma better table. We again studied each others colab. And finally created a combine rough colab from the two colab that were created by each of us separately. In that collab we combined data visualization and wrangling data, text preprocessing and model implementaion from each of us. Then we filtered out unnecessary or repeated observation. And tried looking for each and every possible scenario we could come up with. During this project we has lots of questions , queries and ways to apply new ideas. We started finding answers to all queries and questions and also look for ways to how to implement our ideas. We had lot of exploring to do and experimentation to do. That's why we ended up taking more than a two weeks to complete this project. During this period we learn and explore a lot of things that we couldn’t even do it whole ML sessions. It was a wonderful experience. Thank you!"
      ]
    },
    {
      "cell_type": "markdown",
      "metadata": {
        "id": "w6K7xa23Elo4"
      },
      "source": [
        "# **GitHub Link -**\n"
      ]
    },
    {
      "cell_type": "markdown",
      "metadata": {
        "id": "h1o69JH3Eqqn"
      },
      "source": [
        "https://github.com/NikhilArjune/CAPSTONE-PROJECT-4-Topic-Modeling/blob/main/Topic_Modeling_BBC_News_articles.ipynb"
      ]
    },
    {
      "cell_type": "markdown",
      "metadata": {
        "id": "yQaldy8SH6Dl"
      },
      "source": [
        "# **Problem Statement**\n"
      ]
    },
    {
      "cell_type": "markdown",
      "metadata": {
        "id": "DpeJGUA3kjGy"
      },
      "source": [
        "**In this project your task is to identify major themes/topics across a collection of BBC news articles. You can use clustering algorithms such as Latent Dirichlet Allocation (LDA), Latent Semantic Analysis (LSA) etc**"
      ]
    },
    {
      "cell_type": "markdown",
      "metadata": {
        "id": "HhfV-JJviCcP"
      },
      "source": [
        "## 1. Introduction to Data"
      ]
    },
    {
      "cell_type": "markdown",
      "metadata": {
        "id": "Y3lxredqlCYt"
      },
      "source": [
        "### 1.1 Import Libraries"
      ]
    },
    {
      "cell_type": "code",
      "execution_count": null,
      "metadata": {
        "colab": {
          "base_uri": "https://localhost:8080/"
        },
        "id": "M8Vqi-pPk-HR",
        "outputId": "625f9e64-629e-4185-c766-a08003f3d717"
      },
      "outputs": [
        {
          "output_type": "stream",
          "name": "stdout",
          "text": [
            "Requirement already satisfied: pyLDAvis in /usr/local/lib/python3.10/dist-packages (3.4.1)\n",
            "Requirement already satisfied: numpy>=1.24.2 in /usr/local/lib/python3.10/dist-packages (from pyLDAvis) (1.25.1)\n",
            "Requirement already satisfied: scipy in /usr/local/lib/python3.10/dist-packages (from pyLDAvis) (1.10.1)\n",
            "Requirement already satisfied: pandas>=2.0.0 in /usr/local/lib/python3.10/dist-packages (from pyLDAvis) (2.0.3)\n",
            "Requirement already satisfied: joblib>=1.2.0 in /usr/local/lib/python3.10/dist-packages (from pyLDAvis) (1.3.1)\n",
            "Requirement already satisfied: jinja2 in /usr/local/lib/python3.10/dist-packages (from pyLDAvis) (3.1.2)\n",
            "Requirement already satisfied: numexpr in /usr/local/lib/python3.10/dist-packages (from pyLDAvis) (2.8.4)\n",
            "Requirement already satisfied: funcy in /usr/local/lib/python3.10/dist-packages (from pyLDAvis) (2.0)\n",
            "Requirement already satisfied: scikit-learn>=1.0.0 in /usr/local/lib/python3.10/dist-packages (from pyLDAvis) (1.2.2)\n",
            "Requirement already satisfied: gensim in /usr/local/lib/python3.10/dist-packages (from pyLDAvis) (4.3.1)\n",
            "Requirement already satisfied: setuptools in /usr/local/lib/python3.10/dist-packages (from pyLDAvis) (67.7.2)\n",
            "Requirement already satisfied: python-dateutil>=2.8.2 in /usr/local/lib/python3.10/dist-packages (from pandas>=2.0.0->pyLDAvis) (2.8.2)\n",
            "Requirement already satisfied: pytz>=2020.1 in /usr/local/lib/python3.10/dist-packages (from pandas>=2.0.0->pyLDAvis) (2022.7.1)\n",
            "Requirement already satisfied: tzdata>=2022.1 in /usr/local/lib/python3.10/dist-packages (from pandas>=2.0.0->pyLDAvis) (2023.3)\n",
            "Requirement already satisfied: threadpoolctl>=2.0.0 in /usr/local/lib/python3.10/dist-packages (from scikit-learn>=1.0.0->pyLDAvis) (3.2.0)\n",
            "Requirement already satisfied: smart-open>=1.8.1 in /usr/local/lib/python3.10/dist-packages (from gensim->pyLDAvis) (6.3.0)\n",
            "Requirement already satisfied: MarkupSafe>=2.0 in /usr/local/lib/python3.10/dist-packages (from jinja2->pyLDAvis) (2.1.3)\n",
            "Requirement already satisfied: six>=1.5 in /usr/local/lib/python3.10/dist-packages (from python-dateutil>=2.8.2->pandas>=2.0.0->pyLDAvis) (1.16.0)\n"
          ]
        }
      ],
      "source": [
        "# Import Libraries\n",
        "import pandas as pd\n",
        "import numpy as np\n",
        "import matplotlib.pyplot as plt\n",
        "import seaborn as sns\n",
        "import nltk\n",
        "from nltk.corpus import stopwords\n",
        "from nltk.tokenize import word_tokenize\n",
        "from nltk.stem import WordNetLemmatizer\n",
        "from sklearn.feature_extraction.text import CountVectorizer, TfidfVectorizer\n",
        "from sklearn.decomposition import LatentDirichletAllocation\n",
        "from sklearn.model_selection import GridSearchCV\n",
        "from wordcloud import WordCloud\n",
        "from gensim.models import Phrases\n",
        "from gensim.models.phrases import Phraser\n",
        "from gensim import corpora, models\n",
        "from gensim.models import LdaModel\n",
        "from gensim.models.coherencemodel import CoherenceModel\n",
        "!pip install pyLDAvis\n",
        "import pyLDAvis\n",
        "import pyLDAvis.gensim_models\n",
        "import warnings\n",
        "warnings.filterwarnings('ignore')"
      ]
    },
    {
      "cell_type": "markdown",
      "metadata": {
        "id": "3RnN4peoiCZX"
      },
      "source": [
        "### 1.2 Dataset Loading"
      ]
    },
    {
      "cell_type": "code",
      "execution_count": null,
      "metadata": {
        "colab": {
          "base_uri": "https://localhost:8080/"
        },
        "id": "4CkvbW_SlZ_R",
        "outputId": "fb82f75e-6169-4d1c-8147-91a08cfe9a4d"
      },
      "outputs": [
        {
          "output_type": "stream",
          "name": "stdout",
          "text": [
            "Drive already mounted at /content/drive; to attempt to forcibly remount, call drive.mount(\"/content/drive\", force_remount=True).\n"
          ]
        }
      ],
      "source": [
        "from pathlib import Path\n",
        "\n",
        "# Mount Google Drive\n",
        "from google.colab import drive\n",
        "drive.mount('/content/drive')\n",
        "\n",
        "# Set folder path\n",
        "folder_path = '/content/drive/MyDrive/Alma Better/Capstone Project/Capstone Project 4/bbc'\n",
        "\n",
        "# Iterate over subfolders\n",
        "subfolders = [subfolder for subfolder in Path(folder_path).iterdir() if subfolder.is_dir()]\n",
        "data = []\n",
        "\n",
        "for subfolder in subfolders:\n",
        "    # Iterate over text files in subfolder\n",
        "    for file_path in subfolder.glob('*.txt'):\n",
        "        # Read the contents of the file\n",
        "        with open(file_path, 'r', encoding='latin-1') as file:\n",
        "            content = file.read()\n",
        "\n",
        "        # Append the content and sub-category to the data list\n",
        "        data.append((content, subfolder.name))\n",
        "\n",
        "# Create a data frame\n",
        "df = pd.DataFrame(data, columns=['Content', 'Category'])\n"
      ]
    },
    {
      "cell_type": "markdown",
      "metadata": {
        "id": "x71ZqKXriCWQ"
      },
      "source": [
        "### 1.3 Dataset First View"
      ]
    },
    {
      "cell_type": "code",
      "execution_count": null,
      "metadata": {
        "colab": {
          "base_uri": "https://localhost:8080/",
          "height": 206
        },
        "id": "CsdqH12IWlGr",
        "outputId": "846a5b5e-49b9-44e6-e915-902917ba9bf1"
      },
      "outputs": [
        {
          "output_type": "execute_result",
          "data": {
            "text/plain": [
              "                                             Content       Category\n",
              "0  Redford's vision of Sundance\\n\\nDespite sporti...  entertainment\n",
              "1  West End to honour finest shows\\n\\nThe West En...  entertainment\n",
              "2  Dirty Den's demise seen by 14m\\n\\nMore than 14...  entertainment\n",
              "3  Musical treatment for Capra film\\n\\nThe classi...  entertainment\n",
              "4  Bennett play takes theatre prizes\\n\\nThe Histo...  entertainment"
            ],
            "text/html": [
              "\n",
              "\n",
              "  <div id=\"df-395dba01-ab67-4148-a340-69be96589484\">\n",
              "    <div class=\"colab-df-container\">\n",
              "      <div>\n",
              "<style scoped>\n",
              "    .dataframe tbody tr th:only-of-type {\n",
              "        vertical-align: middle;\n",
              "    }\n",
              "\n",
              "    .dataframe tbody tr th {\n",
              "        vertical-align: top;\n",
              "    }\n",
              "\n",
              "    .dataframe thead th {\n",
              "        text-align: right;\n",
              "    }\n",
              "</style>\n",
              "<table border=\"1\" class=\"dataframe\">\n",
              "  <thead>\n",
              "    <tr style=\"text-align: right;\">\n",
              "      <th></th>\n",
              "      <th>Content</th>\n",
              "      <th>Category</th>\n",
              "    </tr>\n",
              "  </thead>\n",
              "  <tbody>\n",
              "    <tr>\n",
              "      <th>0</th>\n",
              "      <td>Redford's vision of Sundance\\n\\nDespite sporti...</td>\n",
              "      <td>entertainment</td>\n",
              "    </tr>\n",
              "    <tr>\n",
              "      <th>1</th>\n",
              "      <td>West End to honour finest shows\\n\\nThe West En...</td>\n",
              "      <td>entertainment</td>\n",
              "    </tr>\n",
              "    <tr>\n",
              "      <th>2</th>\n",
              "      <td>Dirty Den's demise seen by 14m\\n\\nMore than 14...</td>\n",
              "      <td>entertainment</td>\n",
              "    </tr>\n",
              "    <tr>\n",
              "      <th>3</th>\n",
              "      <td>Musical treatment for Capra film\\n\\nThe classi...</td>\n",
              "      <td>entertainment</td>\n",
              "    </tr>\n",
              "    <tr>\n",
              "      <th>4</th>\n",
              "      <td>Bennett play takes theatre prizes\\n\\nThe Histo...</td>\n",
              "      <td>entertainment</td>\n",
              "    </tr>\n",
              "  </tbody>\n",
              "</table>\n",
              "</div>\n",
              "      <button class=\"colab-df-convert\" onclick=\"convertToInteractive('df-395dba01-ab67-4148-a340-69be96589484')\"\n",
              "              title=\"Convert this dataframe to an interactive table.\"\n",
              "              style=\"display:none;\">\n",
              "\n",
              "  <svg xmlns=\"http://www.w3.org/2000/svg\" height=\"24px\"viewBox=\"0 0 24 24\"\n",
              "       width=\"24px\">\n",
              "    <path d=\"M0 0h24v24H0V0z\" fill=\"none\"/>\n",
              "    <path d=\"M18.56 5.44l.94 2.06.94-2.06 2.06-.94-2.06-.94-.94-2.06-.94 2.06-2.06.94zm-11 1L8.5 8.5l.94-2.06 2.06-.94-2.06-.94L8.5 2.5l-.94 2.06-2.06.94zm10 10l.94 2.06.94-2.06 2.06-.94-2.06-.94-.94-2.06-.94 2.06-2.06.94z\"/><path d=\"M17.41 7.96l-1.37-1.37c-.4-.4-.92-.59-1.43-.59-.52 0-1.04.2-1.43.59L10.3 9.45l-7.72 7.72c-.78.78-.78 2.05 0 2.83L4 21.41c.39.39.9.59 1.41.59.51 0 1.02-.2 1.41-.59l7.78-7.78 2.81-2.81c.8-.78.8-2.07 0-2.86zM5.41 20L4 18.59l7.72-7.72 1.47 1.35L5.41 20z\"/>\n",
              "  </svg>\n",
              "      </button>\n",
              "\n",
              "\n",
              "\n",
              "    <div id=\"df-14c174ab-cbb7-49ec-b5fe-15de5102449b\">\n",
              "      <button class=\"colab-df-quickchart\" onclick=\"quickchart('df-14c174ab-cbb7-49ec-b5fe-15de5102449b')\"\n",
              "              title=\"Suggest charts.\"\n",
              "              style=\"display:none;\">\n",
              "\n",
              "<svg xmlns=\"http://www.w3.org/2000/svg\" height=\"24px\"viewBox=\"0 0 24 24\"\n",
              "     width=\"24px\">\n",
              "    <g>\n",
              "        <path d=\"M19 3H5c-1.1 0-2 .9-2 2v14c0 1.1.9 2 2 2h14c1.1 0 2-.9 2-2V5c0-1.1-.9-2-2-2zM9 17H7v-7h2v7zm4 0h-2V7h2v10zm4 0h-2v-4h2v4z\"/>\n",
              "    </g>\n",
              "</svg>\n",
              "      </button>\n",
              "    </div>\n",
              "\n",
              "<style>\n",
              "  .colab-df-quickchart {\n",
              "    background-color: #E8F0FE;\n",
              "    border: none;\n",
              "    border-radius: 50%;\n",
              "    cursor: pointer;\n",
              "    display: none;\n",
              "    fill: #1967D2;\n",
              "    height: 32px;\n",
              "    padding: 0 0 0 0;\n",
              "    width: 32px;\n",
              "  }\n",
              "\n",
              "  .colab-df-quickchart:hover {\n",
              "    background-color: #E2EBFA;\n",
              "    box-shadow: 0px 1px 2px rgba(60, 64, 67, 0.3), 0px 1px 3px 1px rgba(60, 64, 67, 0.15);\n",
              "    fill: #174EA6;\n",
              "  }\n",
              "\n",
              "  [theme=dark] .colab-df-quickchart {\n",
              "    background-color: #3B4455;\n",
              "    fill: #D2E3FC;\n",
              "  }\n",
              "\n",
              "  [theme=dark] .colab-df-quickchart:hover {\n",
              "    background-color: #434B5C;\n",
              "    box-shadow: 0px 1px 3px 1px rgba(0, 0, 0, 0.15);\n",
              "    filter: drop-shadow(0px 1px 2px rgba(0, 0, 0, 0.3));\n",
              "    fill: #FFFFFF;\n",
              "  }\n",
              "</style>\n",
              "\n",
              "    <script>\n",
              "      async function quickchart(key) {\n",
              "        const containerElement = document.querySelector('#' + key);\n",
              "        const charts = await google.colab.kernel.invokeFunction(\n",
              "            'suggestCharts', [key], {});\n",
              "      }\n",
              "    </script>\n",
              "\n",
              "      <script>\n",
              "\n",
              "function displayQuickchartButton(domScope) {\n",
              "  let quickchartButtonEl =\n",
              "    domScope.querySelector('#df-14c174ab-cbb7-49ec-b5fe-15de5102449b button.colab-df-quickchart');\n",
              "  quickchartButtonEl.style.display =\n",
              "    google.colab.kernel.accessAllowed ? 'block' : 'none';\n",
              "}\n",
              "\n",
              "        displayQuickchartButton(document);\n",
              "      </script>\n",
              "      <style>\n",
              "    .colab-df-container {\n",
              "      display:flex;\n",
              "      flex-wrap:wrap;\n",
              "      gap: 12px;\n",
              "    }\n",
              "\n",
              "    .colab-df-convert {\n",
              "      background-color: #E8F0FE;\n",
              "      border: none;\n",
              "      border-radius: 50%;\n",
              "      cursor: pointer;\n",
              "      display: none;\n",
              "      fill: #1967D2;\n",
              "      height: 32px;\n",
              "      padding: 0 0 0 0;\n",
              "      width: 32px;\n",
              "    }\n",
              "\n",
              "    .colab-df-convert:hover {\n",
              "      background-color: #E2EBFA;\n",
              "      box-shadow: 0px 1px 2px rgba(60, 64, 67, 0.3), 0px 1px 3px 1px rgba(60, 64, 67, 0.15);\n",
              "      fill: #174EA6;\n",
              "    }\n",
              "\n",
              "    [theme=dark] .colab-df-convert {\n",
              "      background-color: #3B4455;\n",
              "      fill: #D2E3FC;\n",
              "    }\n",
              "\n",
              "    [theme=dark] .colab-df-convert:hover {\n",
              "      background-color: #434B5C;\n",
              "      box-shadow: 0px 1px 3px 1px rgba(0, 0, 0, 0.15);\n",
              "      filter: drop-shadow(0px 1px 2px rgba(0, 0, 0, 0.3));\n",
              "      fill: #FFFFFF;\n",
              "    }\n",
              "  </style>\n",
              "\n",
              "      <script>\n",
              "        const buttonEl =\n",
              "          document.querySelector('#df-395dba01-ab67-4148-a340-69be96589484 button.colab-df-convert');\n",
              "        buttonEl.style.display =\n",
              "          google.colab.kernel.accessAllowed ? 'block' : 'none';\n",
              "\n",
              "        async function convertToInteractive(key) {\n",
              "          const element = document.querySelector('#df-395dba01-ab67-4148-a340-69be96589484');\n",
              "          const dataTable =\n",
              "            await google.colab.kernel.invokeFunction('convertToInteractive',\n",
              "                                                     [key], {});\n",
              "          if (!dataTable) return;\n",
              "\n",
              "          const docLinkHtml = 'Like what you see? Visit the ' +\n",
              "            '<a target=\"_blank\" href=https://colab.research.google.com/notebooks/data_table.ipynb>data table notebook</a>'\n",
              "            + ' to learn more about interactive tables.';\n",
              "          element.innerHTML = '';\n",
              "          dataTable['output_type'] = 'display_data';\n",
              "          await google.colab.output.renderOutput(dataTable, element);\n",
              "          const docLink = document.createElement('div');\n",
              "          docLink.innerHTML = docLinkHtml;\n",
              "          element.appendChild(docLink);\n",
              "        }\n",
              "      </script>\n",
              "    </div>\n",
              "  </div>\n"
            ]
          },
          "metadata": {},
          "execution_count": 7
        }
      ],
      "source": [
        "df.head()"
      ]
    },
    {
      "cell_type": "code",
      "execution_count": null,
      "metadata": {
        "colab": {
          "base_uri": "https://localhost:8080/",
          "height": 206
        },
        "id": "slBFEH9WXsjF",
        "outputId": "453959cf-e76c-4768-f295-c1073495ba78"
      },
      "outputs": [
        {
          "output_type": "execute_result",
          "data": {
            "text/plain": [
              "                                                Content  Category\n",
              "2220  Sainsbury's Labour election gift\\n\\nScience Mi...  politics\n",
              "2221  MPs demand 'Budget leak' answers\\n\\nMinisters ...  politics\n",
              "2222  Howard hits back at mongrel jibe\\n\\nMichael Ho...  politics\n",
              "2223  Straw backs ending China embargo\\n\\nUK Foreign...  politics\n",
              "2224  Plan to give elderly care control\\n\\nElderly a...  politics"
            ],
            "text/html": [
              "\n",
              "\n",
              "  <div id=\"df-5b0e0a5b-2db1-49c6-84fa-0c15d7e06e8b\">\n",
              "    <div class=\"colab-df-container\">\n",
              "      <div>\n",
              "<style scoped>\n",
              "    .dataframe tbody tr th:only-of-type {\n",
              "        vertical-align: middle;\n",
              "    }\n",
              "\n",
              "    .dataframe tbody tr th {\n",
              "        vertical-align: top;\n",
              "    }\n",
              "\n",
              "    .dataframe thead th {\n",
              "        text-align: right;\n",
              "    }\n",
              "</style>\n",
              "<table border=\"1\" class=\"dataframe\">\n",
              "  <thead>\n",
              "    <tr style=\"text-align: right;\">\n",
              "      <th></th>\n",
              "      <th>Content</th>\n",
              "      <th>Category</th>\n",
              "    </tr>\n",
              "  </thead>\n",
              "  <tbody>\n",
              "    <tr>\n",
              "      <th>2220</th>\n",
              "      <td>Sainsbury's Labour election gift\\n\\nScience Mi...</td>\n",
              "      <td>politics</td>\n",
              "    </tr>\n",
              "    <tr>\n",
              "      <th>2221</th>\n",
              "      <td>MPs demand 'Budget leak' answers\\n\\nMinisters ...</td>\n",
              "      <td>politics</td>\n",
              "    </tr>\n",
              "    <tr>\n",
              "      <th>2222</th>\n",
              "      <td>Howard hits back at mongrel jibe\\n\\nMichael Ho...</td>\n",
              "      <td>politics</td>\n",
              "    </tr>\n",
              "    <tr>\n",
              "      <th>2223</th>\n",
              "      <td>Straw backs ending China embargo\\n\\nUK Foreign...</td>\n",
              "      <td>politics</td>\n",
              "    </tr>\n",
              "    <tr>\n",
              "      <th>2224</th>\n",
              "      <td>Plan to give elderly care control\\n\\nElderly a...</td>\n",
              "      <td>politics</td>\n",
              "    </tr>\n",
              "  </tbody>\n",
              "</table>\n",
              "</div>\n",
              "      <button class=\"colab-df-convert\" onclick=\"convertToInteractive('df-5b0e0a5b-2db1-49c6-84fa-0c15d7e06e8b')\"\n",
              "              title=\"Convert this dataframe to an interactive table.\"\n",
              "              style=\"display:none;\">\n",
              "\n",
              "  <svg xmlns=\"http://www.w3.org/2000/svg\" height=\"24px\"viewBox=\"0 0 24 24\"\n",
              "       width=\"24px\">\n",
              "    <path d=\"M0 0h24v24H0V0z\" fill=\"none\"/>\n",
              "    <path d=\"M18.56 5.44l.94 2.06.94-2.06 2.06-.94-2.06-.94-.94-2.06-.94 2.06-2.06.94zm-11 1L8.5 8.5l.94-2.06 2.06-.94-2.06-.94L8.5 2.5l-.94 2.06-2.06.94zm10 10l.94 2.06.94-2.06 2.06-.94-2.06-.94-.94-2.06-.94 2.06-2.06.94z\"/><path d=\"M17.41 7.96l-1.37-1.37c-.4-.4-.92-.59-1.43-.59-.52 0-1.04.2-1.43.59L10.3 9.45l-7.72 7.72c-.78.78-.78 2.05 0 2.83L4 21.41c.39.39.9.59 1.41.59.51 0 1.02-.2 1.41-.59l7.78-7.78 2.81-2.81c.8-.78.8-2.07 0-2.86zM5.41 20L4 18.59l7.72-7.72 1.47 1.35L5.41 20z\"/>\n",
              "  </svg>\n",
              "      </button>\n",
              "\n",
              "\n",
              "\n",
              "    <div id=\"df-79ddadf5-4430-4f2c-994e-c05a2a5dcb2d\">\n",
              "      <button class=\"colab-df-quickchart\" onclick=\"quickchart('df-79ddadf5-4430-4f2c-994e-c05a2a5dcb2d')\"\n",
              "              title=\"Suggest charts.\"\n",
              "              style=\"display:none;\">\n",
              "\n",
              "<svg xmlns=\"http://www.w3.org/2000/svg\" height=\"24px\"viewBox=\"0 0 24 24\"\n",
              "     width=\"24px\">\n",
              "    <g>\n",
              "        <path d=\"M19 3H5c-1.1 0-2 .9-2 2v14c0 1.1.9 2 2 2h14c1.1 0 2-.9 2-2V5c0-1.1-.9-2-2-2zM9 17H7v-7h2v7zm4 0h-2V7h2v10zm4 0h-2v-4h2v4z\"/>\n",
              "    </g>\n",
              "</svg>\n",
              "      </button>\n",
              "    </div>\n",
              "\n",
              "<style>\n",
              "  .colab-df-quickchart {\n",
              "    background-color: #E8F0FE;\n",
              "    border: none;\n",
              "    border-radius: 50%;\n",
              "    cursor: pointer;\n",
              "    display: none;\n",
              "    fill: #1967D2;\n",
              "    height: 32px;\n",
              "    padding: 0 0 0 0;\n",
              "    width: 32px;\n",
              "  }\n",
              "\n",
              "  .colab-df-quickchart:hover {\n",
              "    background-color: #E2EBFA;\n",
              "    box-shadow: 0px 1px 2px rgba(60, 64, 67, 0.3), 0px 1px 3px 1px rgba(60, 64, 67, 0.15);\n",
              "    fill: #174EA6;\n",
              "  }\n",
              "\n",
              "  [theme=dark] .colab-df-quickchart {\n",
              "    background-color: #3B4455;\n",
              "    fill: #D2E3FC;\n",
              "  }\n",
              "\n",
              "  [theme=dark] .colab-df-quickchart:hover {\n",
              "    background-color: #434B5C;\n",
              "    box-shadow: 0px 1px 3px 1px rgba(0, 0, 0, 0.15);\n",
              "    filter: drop-shadow(0px 1px 2px rgba(0, 0, 0, 0.3));\n",
              "    fill: #FFFFFF;\n",
              "  }\n",
              "</style>\n",
              "\n",
              "    <script>\n",
              "      async function quickchart(key) {\n",
              "        const containerElement = document.querySelector('#' + key);\n",
              "        const charts = await google.colab.kernel.invokeFunction(\n",
              "            'suggestCharts', [key], {});\n",
              "      }\n",
              "    </script>\n",
              "\n",
              "      <script>\n",
              "\n",
              "function displayQuickchartButton(domScope) {\n",
              "  let quickchartButtonEl =\n",
              "    domScope.querySelector('#df-79ddadf5-4430-4f2c-994e-c05a2a5dcb2d button.colab-df-quickchart');\n",
              "  quickchartButtonEl.style.display =\n",
              "    google.colab.kernel.accessAllowed ? 'block' : 'none';\n",
              "}\n",
              "\n",
              "        displayQuickchartButton(document);\n",
              "      </script>\n",
              "      <style>\n",
              "    .colab-df-container {\n",
              "      display:flex;\n",
              "      flex-wrap:wrap;\n",
              "      gap: 12px;\n",
              "    }\n",
              "\n",
              "    .colab-df-convert {\n",
              "      background-color: #E8F0FE;\n",
              "      border: none;\n",
              "      border-radius: 50%;\n",
              "      cursor: pointer;\n",
              "      display: none;\n",
              "      fill: #1967D2;\n",
              "      height: 32px;\n",
              "      padding: 0 0 0 0;\n",
              "      width: 32px;\n",
              "    }\n",
              "\n",
              "    .colab-df-convert:hover {\n",
              "      background-color: #E2EBFA;\n",
              "      box-shadow: 0px 1px 2px rgba(60, 64, 67, 0.3), 0px 1px 3px 1px rgba(60, 64, 67, 0.15);\n",
              "      fill: #174EA6;\n",
              "    }\n",
              "\n",
              "    [theme=dark] .colab-df-convert {\n",
              "      background-color: #3B4455;\n",
              "      fill: #D2E3FC;\n",
              "    }\n",
              "\n",
              "    [theme=dark] .colab-df-convert:hover {\n",
              "      background-color: #434B5C;\n",
              "      box-shadow: 0px 1px 3px 1px rgba(0, 0, 0, 0.15);\n",
              "      filter: drop-shadow(0px 1px 2px rgba(0, 0, 0, 0.3));\n",
              "      fill: #FFFFFF;\n",
              "    }\n",
              "  </style>\n",
              "\n",
              "      <script>\n",
              "        const buttonEl =\n",
              "          document.querySelector('#df-5b0e0a5b-2db1-49c6-84fa-0c15d7e06e8b button.colab-df-convert');\n",
              "        buttonEl.style.display =\n",
              "          google.colab.kernel.accessAllowed ? 'block' : 'none';\n",
              "\n",
              "        async function convertToInteractive(key) {\n",
              "          const element = document.querySelector('#df-5b0e0a5b-2db1-49c6-84fa-0c15d7e06e8b');\n",
              "          const dataTable =\n",
              "            await google.colab.kernel.invokeFunction('convertToInteractive',\n",
              "                                                     [key], {});\n",
              "          if (!dataTable) return;\n",
              "\n",
              "          const docLinkHtml = 'Like what you see? Visit the ' +\n",
              "            '<a target=\"_blank\" href=https://colab.research.google.com/notebooks/data_table.ipynb>data table notebook</a>'\n",
              "            + ' to learn more about interactive tables.';\n",
              "          element.innerHTML = '';\n",
              "          dataTable['output_type'] = 'display_data';\n",
              "          await google.colab.output.renderOutput(dataTable, element);\n",
              "          const docLink = document.createElement('div');\n",
              "          docLink.innerHTML = docLinkHtml;\n",
              "          element.appendChild(docLink);\n",
              "        }\n",
              "      </script>\n",
              "    </div>\n",
              "  </div>\n"
            ]
          },
          "metadata": {},
          "execution_count": 8
        }
      ],
      "source": [
        "df.tail()"
      ]
    },
    {
      "cell_type": "markdown",
      "metadata": {
        "id": "7hBIi_osiCS2"
      },
      "source": [
        "### 1.4 Dataset Rows & Columns count"
      ]
    },
    {
      "cell_type": "code",
      "execution_count": null,
      "metadata": {
        "colab": {
          "base_uri": "https://localhost:8080/"
        },
        "id": "Kllu7SJgmLij",
        "outputId": "0f73c3f1-c811-45a2-ae2c-6db220cf6073"
      },
      "outputs": [
        {
          "output_type": "execute_result",
          "data": {
            "text/plain": [
              "(2225, 2)"
            ]
          },
          "metadata": {},
          "execution_count": 9
        }
      ],
      "source": [
        "# Dataset Rows & Columns count\n",
        "df.shape"
      ]
    },
    {
      "cell_type": "markdown",
      "metadata": {
        "id": "JlHwYmJAmNHm"
      },
      "source": [
        "### 1.5 Dataset Information"
      ]
    },
    {
      "cell_type": "code",
      "execution_count": null,
      "metadata": {
        "colab": {
          "base_uri": "https://localhost:8080/"
        },
        "id": "e9hRXRi6meOf",
        "outputId": "f2968504-97d7-484b-9d96-55d649f918a8"
      },
      "outputs": [
        {
          "output_type": "stream",
          "name": "stdout",
          "text": [
            "<class 'pandas.core.frame.DataFrame'>\n",
            "RangeIndex: 2225 entries, 0 to 2224\n",
            "Data columns (total 2 columns):\n",
            " #   Column    Non-Null Count  Dtype \n",
            "---  ------    --------------  ----- \n",
            " 0   Content   2225 non-null   object\n",
            " 1   Category  2225 non-null   object\n",
            "dtypes: object(2)\n",
            "memory usage: 34.9+ KB\n"
          ]
        }
      ],
      "source": [
        "# Dataset Info\n",
        "df.info()"
      ]
    },
    {
      "cell_type": "markdown",
      "metadata": {
        "id": "35m5QtbWiB9F"
      },
      "source": [
        "#### 1.6 Duplicate Values"
      ]
    },
    {
      "cell_type": "code",
      "execution_count": null,
      "metadata": {
        "colab": {
          "base_uri": "https://localhost:8080/"
        },
        "id": "1sLdpKYkmox0",
        "outputId": "cd03dc1a-1dcb-49c2-dad7-a7d872744a3c"
      },
      "outputs": [
        {
          "output_type": "execute_result",
          "data": {
            "text/plain": [
              "98"
            ]
          },
          "metadata": {},
          "execution_count": 11
        }
      ],
      "source": [
        "# Dataset Duplicate Value Count\n",
        "df.duplicated().sum()"
      ]
    },
    {
      "cell_type": "code",
      "execution_count": null,
      "metadata": {
        "id": "foAXWJr5flK0"
      },
      "outputs": [],
      "source": [
        "#droping the duplicates\n",
        "df = df.drop_duplicates()\n"
      ]
    },
    {
      "cell_type": "code",
      "execution_count": null,
      "metadata": {
        "colab": {
          "base_uri": "https://localhost:8080/"
        },
        "id": "VTtZyBiXfrKx",
        "outputId": "83c30946-b42c-4719-8e22-c1a1d52d62ba"
      },
      "outputs": [
        {
          "output_type": "execute_result",
          "data": {
            "text/plain": [
              "0"
            ]
          },
          "metadata": {},
          "execution_count": 13
        }
      ],
      "source": [
        "# Dataset Duplicate Value Count\n",
        "df.duplicated().sum()"
      ]
    },
    {
      "cell_type": "markdown",
      "metadata": {
        "id": "PoPl-ycgm1ru"
      },
      "source": [
        "#### 1.7 Missing Values/Null Values"
      ]
    },
    {
      "cell_type": "code",
      "execution_count": null,
      "metadata": {
        "colab": {
          "base_uri": "https://localhost:8080/"
        },
        "id": "GgHWkxvamxVg",
        "outputId": "07e99691-6364-4fc6-91d9-3ce53ed760ec"
      },
      "outputs": [
        {
          "output_type": "execute_result",
          "data": {
            "text/plain": [
              "Content     0\n",
              "Category    0\n",
              "dtype: int64"
            ]
          },
          "metadata": {},
          "execution_count": 14
        }
      ],
      "source": [
        "# Missing Values/Null Values Count\n",
        "df.isnull().sum()"
      ]
    },
    {
      "cell_type": "code",
      "execution_count": null,
      "metadata": {
        "id": "3q5wnI3om9sJ"
      },
      "outputs": [],
      "source": [
        "# Visualizing the missing values\n",
        "# sns.set_theme()\n",
        "# sns.set(rc={\"figure.dpi\":120, \"figure.figsize\":(10,8)})\n",
        "# sns.heatmap(df.isnull(), cbar=False)"
      ]
    },
    {
      "cell_type": "markdown",
      "metadata": {
        "id": "H0kj-8xxnORC"
      },
      "source": [
        "### 1.8 Data Set features"
      ]
    },
    {
      "cell_type": "markdown",
      "source": [
        "#### Content - News articles content\n",
        "#### Category- Main category of News article"
      ],
      "metadata": {
        "id": "ftktB3r9fe_i"
      }
    },
    {
      "cell_type": "markdown",
      "source": [
        "## 2. Data Wrangling"
      ],
      "metadata": {
        "id": "wBG8cpR4gLbh"
      }
    },
    {
      "cell_type": "code",
      "execution_count": null,
      "metadata": {
        "colab": {
          "base_uri": "https://localhost:8080/"
        },
        "id": "ZD0y5u20bNPR",
        "outputId": "7acbe4f0-2249-46e8-98b2-39b9f48c39c5"
      },
      "outputs": [
        {
          "output_type": "execute_result",
          "data": {
            "text/plain": [
              "Category\n",
              "business         503\n",
              "entertainment    369\n",
              "politics         403\n",
              "sport            505\n",
              "tech             347\n",
              "Name: Category, dtype: int64"
            ]
          },
          "metadata": {},
          "execution_count": 15
        }
      ],
      "source": [
        "# Checking articles count per category\n",
        "df.groupby(['Category'])['Category'].count()"
      ]
    },
    {
      "cell_type": "code",
      "execution_count": null,
      "metadata": {
        "colab": {
          "base_uri": "https://localhost:8080/",
          "height": 847
        },
        "id": "5RSilezeaYxb",
        "outputId": "6d85261a-25f6-4b1e-89d1-8a779fe7d3c6"
      },
      "outputs": [
        {
          "output_type": "stream",
          "name": "stdout",
          "text": [
            "Requirement already satisfied: matplotlib in /usr/local/lib/python3.10/dist-packages (3.7.1)\n",
            "Requirement already satisfied: contourpy>=1.0.1 in /usr/local/lib/python3.10/dist-packages (from matplotlib) (1.1.0)\n",
            "Requirement already satisfied: cycler>=0.10 in /usr/local/lib/python3.10/dist-packages (from matplotlib) (0.11.0)\n",
            "Requirement already satisfied: fonttools>=4.22.0 in /usr/local/lib/python3.10/dist-packages (from matplotlib) (4.41.1)\n",
            "Requirement already satisfied: kiwisolver>=1.0.1 in /usr/local/lib/python3.10/dist-packages (from matplotlib) (1.4.4)\n",
            "Requirement already satisfied: numpy>=1.20 in /usr/local/lib/python3.10/dist-packages (from matplotlib) (1.25.1)\n",
            "Requirement already satisfied: packaging>=20.0 in /usr/local/lib/python3.10/dist-packages (from matplotlib) (23.1)\n",
            "Requirement already satisfied: pillow>=6.2.0 in /usr/local/lib/python3.10/dist-packages (from matplotlib) (9.4.0)\n",
            "Requirement already satisfied: pyparsing>=2.3.1 in /usr/local/lib/python3.10/dist-packages (from matplotlib) (3.1.0)\n",
            "Requirement already satisfied: python-dateutil>=2.7 in /usr/local/lib/python3.10/dist-packages (from matplotlib) (2.8.2)\n",
            "Requirement already satisfied: six>=1.5 in /usr/local/lib/python3.10/dist-packages (from python-dateutil>=2.7->matplotlib) (1.16.0)\n"
          ]
        },
        {
          "output_type": "display_data",
          "data": {
            "text/plain": [
              "<Figure size 1000x600 with 1 Axes>"
            ],
            "image/png": "[encoded data removed]"
          },
          "metadata": {}
        }
      ],
      "source": [
        "#Plotting article distribution as per category\n",
        "!pip install matplotlib\n",
        "\n",
        "import matplotlib.pyplot as plt\n",
        "\n",
        "# Count the occurrences of each category\n",
        "category_counts = df['Category'].value_counts()\n",
        "\n",
        "# Set the color palette\n",
        "colors = sns.color_palette('pastel')\n",
        "\n",
        "# Plot the bar plot\n",
        "plt.figure(figsize=(10, 6))\n",
        "category_counts.plot(kind='bar',color=colors)\n",
        "plt.xlabel('Category')\n",
        "plt.ylabel('Count')\n",
        "plt.title('Distribution of Categories')\n",
        "plt.show()\n"
      ]
    },
    {
      "cell_type": "markdown",
      "metadata": {
        "id": "yLjJCtPM0KBk"
      },
      "source": [
        "## 3. Data Pre-processing"
      ]
    },
    {
      "cell_type": "markdown",
      "metadata": {
        "id": "Iwf50b-R2tYG"
      },
      "source": [
        "#### Textual Data Preprocessing\n",
        "#### For topic modeling Expand contactions ,lower casing, removing punctuation, removing URLs and words/digits containing digits, removing stopwords and white spaces, tokenization and text normalization (such as lemmatization or stemming) are the pre processing steps that are necessary."
      ]
    },
    {
      "cell_type": "markdown",
      "metadata": {
        "id": "Hlsf0x5436Go"
      },
      "source": [
        "#### Create a complete fuction to apply all text pre-processing steps in one go"
      ]
    },
    {
      "cell_type": "code",
      "execution_count": null,
      "metadata": {
        "id": "2sxKgKxu4Ip3",
        "colab": {
          "base_uri": "https://localhost:8080/"
        },
        "outputId": "2fdfefb3-f8cb-404f-c770-8a5804252ea2"
      },
      "outputs": [
        {
          "output_type": "stream",
          "name": "stdout",
          "text": [
            "Collecting contractions\n",
            "  Downloading contractions-0.1.73-py2.py3-none-any.whl (8.7 kB)\n",
            "Collecting textsearch>=0.0.21 (from contractions)\n",
            "  Downloading textsearch-0.0.24-py2.py3-none-any.whl (7.6 kB)\n",
            "Collecting anyascii (from textsearch>=0.0.21->contractions)\n",
            "  Downloading anyascii-0.3.2-py3-none-any.whl (289 kB)\n",
            "\u001b[2K     \u001b[90m━━━━━━━━━━━━━━━━━━━━━━━━━━━━━━━━━━━━━━━\u001b[0m \u001b[32m289.9/289.9 kB\u001b[0m \u001b[31m6.3 MB/s\u001b[0m eta \u001b[36m0:00:00\u001b[0m\n",
            "\u001b[?25hCollecting pyahocorasick (from textsearch>=0.0.21->contractions)\n",
            "  Downloading pyahocorasick-2.0.0-cp310-cp310-manylinux_2_5_x86_64.manylinux1_x86_64.manylinux_2_12_x86_64.manylinux2010_x86_64.whl (110 kB)\n",
            "\u001b[2K     \u001b[90m━━━━━━━━━━━━━━━━━━━━━━━━━━━━━━━━━━━━━━\u001b[0m \u001b[32m110.8/110.8 kB\u001b[0m \u001b[31m10.1 MB/s\u001b[0m eta \u001b[36m0:00:00\u001b[0m\n",
            "\u001b[?25hInstalling collected packages: pyahocorasick, anyascii, textsearch, contractions\n",
            "Successfully installed anyascii-0.3.2 contractions-0.1.73 pyahocorasick-2.0.0 textsearch-0.0.24\n"
          ]
        },
        {
          "output_type": "stream",
          "name": "stderr",
          "text": [
            "[nltk_data] Downloading package punkt to /root/nltk_data...\n",
            "[nltk_data]   Unzipping tokenizers/punkt.zip.\n",
            "[nltk_data] Downloading package stopwords to /root/nltk_data...\n",
            "[nltk_data]   Unzipping corpora/stopwords.zip.\n",
            "[nltk_data] Downloading package wordnet to /root/nltk_data...\n",
            "[nltk_data] Downloading package omw-1.4 to /root/nltk_data...\n"
          ]
        }
      ],
      "source": [
        "!pip install contractions\n",
        "\n",
        "import contractions\n",
        "import re\n",
        "\n",
        "# Download necessary NLTK resources\n",
        "nltk.download('punkt')      # Download resource for tokenization\n",
        "nltk.download('stopwords')  # Download list of stop words\n",
        "nltk.download('wordnet')    # Download WordNet lexical database for lemmatization\n",
        "nltk.download('omw-1.4')    # Download WordNet lexical database for lemmatization\n",
        "\n",
        "def preprocess_text(text):\n",
        "    # Expand Contractions: Expand contracted words to their full forms\n",
        "    expanded_text = contractions.fix(text)\n",
        "    # Example: text = \"I can't believe it's Friday!\" => expanded_text = \"I cannot believe it is Friday!\"\n",
        "\n",
        "    # Lowercasing: Convert the text to lowercase\n",
        "    lowercased_text = expanded_text.lower()\n",
        "    # Example: expanded_text = \"I cannot believe it is Friday!\" => lowercased_text = \"i cannot believe it is friday!\"\n",
        "\n",
        "    # Removing Punctuation: Remove punctuation marks from the text\n",
        "    no_punctuation_text = re.sub(r'[^\\w\\s]', '', lowercased_text)\n",
        "    # Example: lowercased_text = \"i cannot believe it is friday!\" => no_punctuation_text = \"i cannot believe it is friday\"\n",
        "\n",
        "    # Removing URLs and Words/Digits containing digits: Remove URLs and words/digits containing digits\n",
        "    no_url_digits_text = re.sub(r'\\b\\w*\\d\\w*\\b|\\bhttps?\\S+\\b', '', no_punctuation_text)\n",
        "    # Example: no_punctuation_text = \"i cannot believe it is friday\" => no_url_digits_text = \"i cannot believe it is friday\"\n",
        "\n",
        "    # Removing Stopwords and White Spaces: Remove common words (stopwords) and extra white spaces\n",
        "    stop_words = set(stopwords.words('english'))\n",
        "    tokens = nltk.word_tokenize(no_url_digits_text)\n",
        "    filtered_tokens = [word for word in tokens if word not in stop_words]\n",
        "    filtered_text = ' '.join(filtered_tokens)\n",
        "    # Example: no_url_digits_text = \"i cannot believe it is friday\" => filtered_text = \"cannot believe friday\"\n",
        "\n",
        "    # Lemmatization: Reduce words to their base or dictionary form\n",
        "    lemmatizer = WordNetLemmatizer()\n",
        "    lemmatized_tokens = [lemmatizer.lemmatize(word) for word in filtered_tokens]\n",
        "    lemmatized_text = ' '.join(lemmatized_tokens)\n",
        "    # Example: filtered_text = \"running, carrying\" => lemmatized_text = \"run, carry\"\n",
        "\n",
        "    # Return the preprocessed text\n",
        "    return lemmatized_text\n",
        "\n",
        "# Applying preprocessing to the DataFrame\n",
        "df['Preprocessed_Content'] = df['Content'].apply(preprocess_text)\n"
      ]
    },
    {
      "cell_type": "code",
      "execution_count": null,
      "metadata": {
        "id": "D5ciWOCRxElY",
        "colab": {
          "base_uri": "https://localhost:8080/",
          "height": 206
        },
        "outputId": "3bd041af-ae1a-4135-df8e-60bd750628e6"
      },
      "outputs": [
        {
          "output_type": "execute_result",
          "data": {
            "text/plain": [
              "                                             Content       Category  \\\n",
              "0  Redford's vision of Sundance\\n\\nDespite sporti...  entertainment   \n",
              "1  West End to honour finest shows\\n\\nThe West En...  entertainment   \n",
              "2  Dirty Den's demise seen by 14m\\n\\nMore than 14...  entertainment   \n",
              "3  Musical treatment for Capra film\\n\\nThe classi...  entertainment   \n",
              "4  Bennett play takes theatre prizes\\n\\nThe Histo...  entertainment   \n",
              "\n",
              "                                Preprocessed_Content  \n",
              "0  redford vision sundance despite sporting cordu...  \n",
              "1  west end honour finest show west end honouring...  \n",
              "2  dirty den demise seen million people saw dirty...  \n",
              "3  musical treatment capra film classic film wond...  \n",
              "4  bennett play take theatre prize history boy al...  "
            ],
            "text/html": [
              "\n",
              "\n",
              "  <div id=\"df-ec75992f-2f34-4a88-bd09-2ff7929f075d\">\n",
              "    <div class=\"colab-df-container\">\n",
              "      <div>\n",
              "<style scoped>\n",
              "    .dataframe tbody tr th:only-of-type {\n",
              "        vertical-align: middle;\n",
              "    }\n",
              "\n",
              "    .dataframe tbody tr th {\n",
              "        vertical-align: top;\n",
              "    }\n",
              "\n",
              "    .dataframe thead th {\n",
              "        text-align: right;\n",
              "    }\n",
              "</style>\n",
              "<table border=\"1\" class=\"dataframe\">\n",
              "  <thead>\n",
              "    <tr style=\"text-align: right;\">\n",
              "      <th></th>\n",
              "      <th>Content</th>\n",
              "      <th>Category</th>\n",
              "      <th>Preprocessed_Content</th>\n",
              "    </tr>\n",
              "  </thead>\n",
              "  <tbody>\n",
              "    <tr>\n",
              "      <th>0</th>\n",
              "      <td>Redford's vision of Sundance\\n\\nDespite sporti...</td>\n",
              "      <td>entertainment</td>\n",
              "      <td>redford vision sundance despite sporting cordu...</td>\n",
              "    </tr>\n",
              "    <tr>\n",
              "      <th>1</th>\n",
              "      <td>West End to honour finest shows\\n\\nThe West En...</td>\n",
              "      <td>entertainment</td>\n",
              "      <td>west end honour finest show west end honouring...</td>\n",
              "    </tr>\n",
              "    <tr>\n",
              "      <th>2</th>\n",
              "      <td>Dirty Den's demise seen by 14m\\n\\nMore than 14...</td>\n",
              "      <td>entertainment</td>\n",
              "      <td>dirty den demise seen million people saw dirty...</td>\n",
              "    </tr>\n",
              "    <tr>\n",
              "      <th>3</th>\n",
              "      <td>Musical treatment for Capra film\\n\\nThe classi...</td>\n",
              "      <td>entertainment</td>\n",
              "      <td>musical treatment capra film classic film wond...</td>\n",
              "    </tr>\n",
              "    <tr>\n",
              "      <th>4</th>\n",
              "      <td>Bennett play takes theatre prizes\\n\\nThe Histo...</td>\n",
              "      <td>entertainment</td>\n",
              "      <td>bennett play take theatre prize history boy al...</td>\n",
              "    </tr>\n",
              "  </tbody>\n",
              "</table>\n",
              "</div>\n",
              "      <button class=\"colab-df-convert\" onclick=\"convertToInteractive('df-ec75992f-2f34-4a88-bd09-2ff7929f075d')\"\n",
              "              title=\"Convert this dataframe to an interactive table.\"\n",
              "              style=\"display:none;\">\n",
              "\n",
              "  <svg xmlns=\"http://www.w3.org/2000/svg\" height=\"24px\"viewBox=\"0 0 24 24\"\n",
              "       width=\"24px\">\n",
              "    <path d=\"M0 0h24v24H0V0z\" fill=\"none\"/>\n",
              "    <path d=\"M18.56 5.44l.94 2.06.94-2.06 2.06-.94-2.06-.94-.94-2.06-.94 2.06-2.06.94zm-11 1L8.5 8.5l.94-2.06 2.06-.94-2.06-.94L8.5 2.5l-.94 2.06-2.06.94zm10 10l.94 2.06.94-2.06 2.06-.94-2.06-.94-.94-2.06-.94 2.06-2.06.94z\"/><path d=\"M17.41 7.96l-1.37-1.37c-.4-.4-.92-.59-1.43-.59-.52 0-1.04.2-1.43.59L10.3 9.45l-7.72 7.72c-.78.78-.78 2.05 0 2.83L4 21.41c.39.39.9.59 1.41.59.51 0 1.02-.2 1.41-.59l7.78-7.78 2.81-2.81c.8-.78.8-2.07 0-2.86zM5.41 20L4 18.59l7.72-7.72 1.47 1.35L5.41 20z\"/>\n",
              "  </svg>\n",
              "      </button>\n",
              "\n",
              "\n",
              "\n",
              "    <div id=\"df-5f172683-daaf-45fb-8bae-bd63690c7c0c\">\n",
              "      <button class=\"colab-df-quickchart\" onclick=\"quickchart('df-5f172683-daaf-45fb-8bae-bd63690c7c0c')\"\n",
              "              title=\"Suggest charts.\"\n",
              "              style=\"display:none;\">\n",
              "\n",
              "<svg xmlns=\"http://www.w3.org/2000/svg\" height=\"24px\"viewBox=\"0 0 24 24\"\n",
              "     width=\"24px\">\n",
              "    <g>\n",
              "        <path d=\"M19 3H5c-1.1 0-2 .9-2 2v14c0 1.1.9 2 2 2h14c1.1 0 2-.9 2-2V5c0-1.1-.9-2-2-2zM9 17H7v-7h2v7zm4 0h-2V7h2v10zm4 0h-2v-4h2v4z\"/>\n",
              "    </g>\n",
              "</svg>\n",
              "      </button>\n",
              "    </div>\n",
              "\n",
              "<style>\n",
              "  .colab-df-quickchart {\n",
              "    background-color: #E8F0FE;\n",
              "    border: none;\n",
              "    border-radius: 50%;\n",
              "    cursor: pointer;\n",
              "    display: none;\n",
              "    fill: #1967D2;\n",
              "    height: 32px;\n",
              "    padding: 0 0 0 0;\n",
              "    width: 32px;\n",
              "  }\n",
              "\n",
              "  .colab-df-quickchart:hover {\n",
              "    background-color: #E2EBFA;\n",
              "    box-shadow: 0px 1px 2px rgba(60, 64, 67, 0.3), 0px 1px 3px 1px rgba(60, 64, 67, 0.15);\n",
              "    fill: #174EA6;\n",
              "  }\n",
              "\n",
              "  [theme=dark] .colab-df-quickchart {\n",
              "    background-color: #3B4455;\n",
              "    fill: #D2E3FC;\n",
              "  }\n",
              "\n",
              "  [theme=dark] .colab-df-quickchart:hover {\n",
              "    background-color: #434B5C;\n",
              "    box-shadow: 0px 1px 3px 1px rgba(0, 0, 0, 0.15);\n",
              "    filter: drop-shadow(0px 1px 2px rgba(0, 0, 0, 0.3));\n",
              "    fill: #FFFFFF;\n",
              "  }\n",
              "</style>\n",
              "\n",
              "    <script>\n",
              "      async function quickchart(key) {\n",
              "        const containerElement = document.querySelector('#' + key);\n",
              "        const charts = await google.colab.kernel.invokeFunction(\n",
              "            'suggestCharts', [key], {});\n",
              "      }\n",
              "    </script>\n",
              "\n",
              "      <script>\n",
              "\n",
              "function displayQuickchartButton(domScope) {\n",
              "  let quickchartButtonEl =\n",
              "    domScope.querySelector('#df-5f172683-daaf-45fb-8bae-bd63690c7c0c button.colab-df-quickchart');\n",
              "  quickchartButtonEl.style.display =\n",
              "    google.colab.kernel.accessAllowed ? 'block' : 'none';\n",
              "}\n",
              "\n",
              "        displayQuickchartButton(document);\n",
              "      </script>\n",
              "      <style>\n",
              "    .colab-df-container {\n",
              "      display:flex;\n",
              "      flex-wrap:wrap;\n",
              "      gap: 12px;\n",
              "    }\n",
              "\n",
              "    .colab-df-convert {\n",
              "      background-color: #E8F0FE;\n",
              "      border: none;\n",
              "      border-radius: 50%;\n",
              "      cursor: pointer;\n",
              "      display: none;\n",
              "      fill: #1967D2;\n",
              "      height: 32px;\n",
              "      padding: 0 0 0 0;\n",
              "      width: 32px;\n",
              "    }\n",
              "\n",
              "    .colab-df-convert:hover {\n",
              "      background-color: #E2EBFA;\n",
              "      box-shadow: 0px 1px 2px rgba(60, 64, 67, 0.3), 0px 1px 3px 1px rgba(60, 64, 67, 0.15);\n",
              "      fill: #174EA6;\n",
              "    }\n",
              "\n",
              "    [theme=dark] .colab-df-convert {\n",
              "      background-color: #3B4455;\n",
              "      fill: #D2E3FC;\n",
              "    }\n",
              "\n",
              "    [theme=dark] .colab-df-convert:hover {\n",
              "      background-color: #434B5C;\n",
              "      box-shadow: 0px 1px 3px 1px rgba(0, 0, 0, 0.15);\n",
              "      filter: drop-shadow(0px 1px 2px rgba(0, 0, 0, 0.3));\n",
              "      fill: #FFFFFF;\n",
              "    }\n",
              "  </style>\n",
              "\n",
              "      <script>\n",
              "        const buttonEl =\n",
              "          document.querySelector('#df-ec75992f-2f34-4a88-bd09-2ff7929f075d button.colab-df-convert');\n",
              "        buttonEl.style.display =\n",
              "          google.colab.kernel.accessAllowed ? 'block' : 'none';\n",
              "\n",
              "        async function convertToInteractive(key) {\n",
              "          const element = document.querySelector('#df-ec75992f-2f34-4a88-bd09-2ff7929f075d');\n",
              "          const dataTable =\n",
              "            await google.colab.kernel.invokeFunction('convertToInteractive',\n",
              "                                                     [key], {});\n",
              "          if (!dataTable) return;\n",
              "\n",
              "          const docLinkHtml = 'Like what you see? Visit the ' +\n",
              "            '<a target=\"_blank\" href=https://colab.research.google.com/notebooks/data_table.ipynb>data table notebook</a>'\n",
              "            + ' to learn more about interactive tables.';\n",
              "          element.innerHTML = '';\n",
              "          dataTable['output_type'] = 'display_data';\n",
              "          await google.colab.output.renderOutput(dataTable, element);\n",
              "          const docLink = document.createElement('div');\n",
              "          docLink.innerHTML = docLinkHtml;\n",
              "          element.appendChild(docLink);\n",
              "        }\n",
              "      </script>\n",
              "    </div>\n",
              "  </div>\n"
            ]
          },
          "metadata": {},
          "execution_count": 18
        }
      ],
      "source": [
        "df.head()"
      ]
    },
    {
      "cell_type": "code",
      "execution_count": null,
      "metadata": {
        "id": "v5Laicyx51id",
        "colab": {
          "base_uri": "https://localhost:8080/",
          "height": 593
        },
        "outputId": "2944776a-8eca-4170-86d2-381db02494d2"
      },
      "outputs": [
        {
          "output_type": "display_data",
          "data": {
            "text/plain": [
              "<Figure size 1000x600 with 1 Axes>"
            ],
            "image/png": "[encoded data removed]"
          },
          "metadata": {}
        }
      ],
      "source": [
        "# plotting graph for top 10 most appeared words in whole corpus\n",
        "# Concatenate the preprocessed text from all articles\n",
        "text = ' '.join(df['Preprocessed_Content'])\n",
        "\n",
        "# Tokenize the text into individual words\n",
        "words = text.split()\n",
        "\n",
        "# Calculate the frequency of each word\n",
        "word_freq = pd.Series(words).value_counts()\n",
        "\n",
        "# Select the top 10 most frequent words\n",
        "top_words = word_freq.head(10)\n",
        "\n",
        "# Set a colorful color palette\n",
        "colors = sns.color_palette('Set2')\n",
        "\n",
        "# Plot the bar graph with custom colors\n",
        "plt.figure(figsize=(10, 6))\n",
        "top_words.plot(kind='bar', color=colors)\n",
        "plt.title('Top 10 Most Appearing Words')\n",
        "plt.xlabel('Words')\n",
        "plt.ylabel('Frequency')\n",
        "plt.xticks(rotation=45)\n",
        "plt.show()\n"
      ]
    },
    {
      "cell_type": "code",
      "execution_count": null,
      "metadata": {
        "id": "XPa7XP1DB8bt",
        "colab": {
          "base_uri": "https://localhost:8080/"
        },
        "outputId": "8322cedf-81bd-4fa9-ffff-4749bf878b67"
      },
      "outputs": [
        {
          "output_type": "stream",
          "name": "stdout",
          "text": [
            "said          6928\n",
            "mr            2899\n",
            "year          2718\n",
            "would         2636\n",
            "also          2037\n",
            "u             1904\n",
            "people        1894\n",
            "new           1869\n",
            "one           1724\n",
            "could         1480\n",
            "game          1434\n",
            "time          1395\n",
            "last          1323\n",
            "first         1227\n",
            "say           1206\n",
            "world         1171\n",
            "government    1163\n",
            "two           1137\n",
            "company       1069\n",
            "film          1045\n",
            "uk            1025\n",
            "make          1012\n",
            "get            918\n",
            "firm           909\n",
            "best           891\n",
            "told           873\n",
            "like           835\n",
            "number         826\n",
            "made           820\n",
            "take           812\n",
            "Name: count, dtype: int64\n"
          ]
        }
      ],
      "source": [
        "#printing top 30 words most appeared in corpus\n",
        "# Concatenate the preprocessed text from all articles\n",
        "text = ' '.join(df['Preprocessed_Content'])\n",
        "\n",
        "# Tokenize the text into individual words\n",
        "words = text.split()\n",
        "\n",
        "# Calculate the frequency of each word\n",
        "word_freq = pd.Series(words).value_counts()\n",
        "\n",
        "# Select the top 10 most frequent words\n",
        "top_words = word_freq.head(30)\n",
        "\n",
        "#print\n",
        "print(top_words)"
      ]
    },
    {
      "cell_type": "code",
      "execution_count": null,
      "metadata": {
        "id": "Jo-gWuUL-KXw"
      },
      "outputs": [],
      "source": [
        "# Added extra stopwords in variable\n",
        "extra_stopwords = ['said','mr','also','u','would','could','say']\n",
        "\n",
        "#created fuction to remove extra stopwords\n",
        "def remove_extra_stopwords(text):\n",
        "    # Define additional stopwords\n",
        "    extra_stopwords\n",
        "\n",
        "    # Remove extra stopwords from the text\n",
        "    tokens = nltk.word_tokenize(text)\n",
        "    filtered_tokens = [word for word in tokens if word not in extra_stopwords]\n",
        "    filtered_text = ' '.join(filtered_tokens)\n",
        "\n",
        "    return filtered_text"
      ]
    },
    {
      "cell_type": "code",
      "execution_count": null,
      "metadata": {
        "id": "_gEcmMiAFcmb"
      },
      "outputs": [],
      "source": [
        "# Apply remove_extra_stopwords on pre-processed text\n",
        "df['Preprocessed_Content'] = df['Preprocessed_Content'].apply(remove_extra_stopwords)"
      ]
    },
    {
      "cell_type": "code",
      "execution_count": null,
      "metadata": {
        "id": "2rUCbTfd5LeM",
        "colab": {
          "base_uri": "https://localhost:8080/",
          "height": 620
        },
        "outputId": "256d3aca-a6f6-4391-f6f6-07a5fd704987"
      },
      "outputs": [
        {
          "output_type": "display_data",
          "data": {
            "text/plain": [
              "<Figure size 1000x600 with 1 Axes>"
            ],
            "image/png": "[encoded data removed]"
          },
          "metadata": {}
        }
      ],
      "source": [
        "# Concatenate the preprocessed text from all articles\n",
        "text = ' '.join(df['Preprocessed_Content'])\n",
        "\n",
        "# Tokenize the text into individual words\n",
        "words = text.split()\n",
        "\n",
        "# Calculate the frequency of each word\n",
        "word_freq = pd.Series(words).value_counts()\n",
        "\n",
        "# Select the top 10 most frequent words\n",
        "top_words = word_freq.head(10)\n",
        "\n",
        "# Set a colorful color palette\n",
        "colors = sns.color_palette('Set2')\n",
        "\n",
        "# Plot the bar graph with custom colors\n",
        "plt.figure(figsize=(10, 6))\n",
        "top_words.plot(kind='bar', color=colors)\n",
        "plt.title('Top 10 Most Appearing Words')\n",
        "plt.xlabel('Words')\n",
        "plt.ylabel('Frequency')\n",
        "plt.xticks(rotation=45)\n",
        "plt.show()"
      ]
    },
    {
      "cell_type": "markdown",
      "metadata": {
        "id": "117fU4VwGSNG"
      },
      "source": [
        "From above word cloud we can say that we have remove extra stopwords"
      ]
    },
    {
      "cell_type": "markdown",
      "metadata": {
        "id": "T0VqWOYE6DLQ"
      },
      "source": [
        "## 4. Text Vectorization\n",
        "\n"
      ]
    },
    {
      "cell_type": "markdown",
      "source": [
        "#### In text Vectorization we apply three diffrent methods to process the data,which are as follows\n",
        "\n",
        "####1. BoW\n",
        "####2. Count Vectorization\n",
        "####3. Tf-Idf Vectorization"
      ],
      "metadata": {
        "id": "5w65znLWiilP"
      }
    },
    {
      "cell_type": "code",
      "execution_count": null,
      "metadata": {
        "id": "yBRtdhth6JDE",
        "colab": {
          "base_uri": "https://localhost:8080/"
        },
        "outputId": "10424c01-bf4c-47d1-bbbb-72c96bcfc68a"
      },
      "outputs": [
        {
          "output_type": "stream",
          "name": "stdout",
          "text": [
            "   aa  aaa  aac  aadc  aaliyah  aaliyahs  aaltra  aamir  aara  aarhus  ...  \\\n",
            "0   0    0    0     0        0         0       0      0     0       0  ...   \n",
            "1   0    0    0     0        0         0       0      0     0       0  ...   \n",
            "2   0    0    0     0        0         0       0      0     0       0  ...   \n",
            "3   0    0    0     0        0         0       0      0     0       0  ...   \n",
            "4   0    0    0     0        0         0       0      0     0       0  ...   \n",
            "\n",
            "   zoom  zooropa  zornotza  zorro  zubair  zuluaga  zurich  zutons  zvonareva  \\\n",
            "0     0        0         0      0       0        0       0       0          0   \n",
            "1     0        0         0      0       0        0       0       0          0   \n",
            "2     0        0         0      0       0        0       0       0          0   \n",
            "3     0        0         0      0       0        0       0       0          0   \n",
            "4     0        0         0      0       0        0       0       0          0   \n",
            "\n",
            "   zvyagintsev  \n",
            "0            0  \n",
            "1            0  \n",
            "2            0  \n",
            "3            0  \n",
            "4            0  \n",
            "\n",
            "[5 rows x 27699 columns]\n",
            "==================================================\n",
            "    aa  aaa  aac  aadc  aaliyah  aaliyahs  aaltra  aamir  aara  aarhus  ...  \\\n",
            "0  0.0  0.0  0.0   0.0      0.0       0.0     0.0    0.0   0.0     0.0  ...   \n",
            "1  0.0  0.0  0.0   0.0      0.0       0.0     0.0    0.0   0.0     0.0  ...   \n",
            "2  0.0  0.0  0.0   0.0      0.0       0.0     0.0    0.0   0.0     0.0  ...   \n",
            "3  0.0  0.0  0.0   0.0      0.0       0.0     0.0    0.0   0.0     0.0  ...   \n",
            "4  0.0  0.0  0.0   0.0      0.0       0.0     0.0    0.0   0.0     0.0  ...   \n",
            "\n",
            "   zoom  zooropa  zornotza  zorro  zubair  zuluaga  zurich  zutons  zvonareva  \\\n",
            "0   0.0      0.0       0.0    0.0     0.0      0.0     0.0     0.0        0.0   \n",
            "1   0.0      0.0       0.0    0.0     0.0      0.0     0.0     0.0        0.0   \n",
            "2   0.0      0.0       0.0    0.0     0.0      0.0     0.0     0.0        0.0   \n",
            "3   0.0      0.0       0.0    0.0     0.0      0.0     0.0     0.0        0.0   \n",
            "4   0.0      0.0       0.0    0.0     0.0      0.0     0.0     0.0        0.0   \n",
            "\n",
            "   zvyagintsev  \n",
            "0          0.0  \n",
            "1          0.0  \n",
            "2          0.0  \n",
            "3          0.0  \n",
            "4          0.0  \n",
            "\n",
            "[5 rows x 27699 columns]\n"
          ]
        }
      ],
      "source": [
        "from sklearn.feature_extraction.text import CountVectorizer, TfidfVectorizer\n",
        "\n",
        "#create dataframe of BoW\n",
        "# Convert count_vectorized_df to a list of tokenized texts\n",
        "texts = df['Preprocessed_Content'].apply(lambda x: x.split()).tolist()\n",
        "\n",
        "# Create a Gensim dictionary\n",
        "train_id2word = corpora.Dictionary(texts)\n",
        "\n",
        "# Create a Gensim corpus\n",
        "train_corpus = [train_id2word.doc2bow(text) for text in texts]\n",
        "\n",
        "#===========================================================================================================================\n",
        "\n",
        "# Create an instance of the CountVectorizer\n",
        "count_vectorizer = CountVectorizer()\n",
        "\n",
        "# Apply count-based vectorization on the \"Preprocessed_Content\" column\n",
        "count_vectorized_data = count_vectorizer.fit_transform(df['Preprocessed_Content'])\n",
        "\n",
        "# Convert the count vectorized data into a DataFrame\n",
        "count_vectorized_df = pd.DataFrame(count_vectorized_data.toarray(), columns=count_vectorizer.get_feature_names_out())\n",
        "\n",
        "print(count_vectorized_df.head())\n",
        "print('='*50)\n",
        "#===========================================================================================================================\n",
        "\n",
        "# Create an instance of the TfidfVectorizer\n",
        "tfidf_vectorizer = TfidfVectorizer()\n",
        "\n",
        "# Apply TF-IDF vectorization on the \"Preprocessed_Content\" column\n",
        "tfidf_vectorized_data = tfidf_vectorizer.fit_transform(df['Preprocessed_Content'])\n",
        "\n",
        "# Convert the TF-IDF vectorized data into a DataFrame\n",
        "tfidf_vectorized_df = pd.DataFrame(tfidf_vectorized_data.toarray(), columns=tfidf_vectorizer.get_feature_names_out())\n",
        "\n",
        "print(tfidf_vectorized_df.head())\n",
        "\n",
        "# Concatenate the vectorized data with the original DataFrame\n",
        "# df_count_vectorized = pd.concat([df, count_vectorized_df], axis=1)\n",
        "# df_tfidf_vectorized = pd.concat([df, tfidf_vectorized_df], axis=1)\n",
        "\n"
      ]
    },
    {
      "cell_type": "markdown",
      "metadata": {
        "id": "EyNgTHvd2WFk"
      },
      "source": [
        "## **5. Model Implementation**"
      ]
    },
    {
      "cell_type": "markdown",
      "metadata": {
        "id": "_JojDTifyMCb"
      },
      "source": [
        "For Topic Modeling we are using LDA as it tries to discover underlying topics in a corpus of text."
      ]
    },
    {
      "cell_type": "markdown",
      "metadata": {
        "id": "KH5McJBi2d8v"
      },
      "source": [
        "### 5.1 Model 1 -LDA Multi core Model for BoW\n"
      ]
    },
    {
      "cell_type": "code",
      "execution_count": null,
      "metadata": {
        "id": "sGl_nWxByKvv",
        "colab": {
          "base_uri": "https://localhost:8080/",
          "height": 628
        },
        "outputId": "689edb7f-50db-4602-8cf6-6b4bd1c9f208"
      },
      "outputs": [
        {
          "output_type": "stream",
          "name": "stdout",
          "text": [
            "                                               Model  Coherence Score\n",
            "0  LdaMulticore<num_terms=27719, num_topics=5, de...         0.532703\n",
            "1  LdaMulticore<num_terms=27719, num_topics=7, de...         0.510728\n",
            "2  LdaMulticore<num_terms=27719, num_topics=9, de...         0.530868\n",
            "3  LdaMulticore<num_terms=27719, num_topics=11, d...         0.542864\n",
            "4  LdaMulticore<num_terms=27719, num_topics=13, d...         0.465660\n",
            "5  LdaMulticore<num_terms=27719, num_topics=15, d...         0.555341\n",
            "6  LdaMulticore<num_terms=27719, num_topics=17, d...         0.530084\n",
            "7  LdaMulticore<num_terms=27719, num_topics=19, d...         0.545843\n",
            "==================================================\n"
          ]
        },
        {
          "output_type": "display_data",
          "data": {
            "text/plain": [
              "<Figure size 640x480 with 1 Axes>"
            ],
            "image/png": "[encoded data removed]"
          },
          "metadata": {}
        }
      ],
      "source": [
        "#Finding coherence score for number of topics varying from 5 to 20\n",
        "# Which topic will offer best coherence score will be used below to create model\n",
        "import gensim\n",
        "from gensim import corpora\n",
        "from gensim.models import CoherenceModel\n",
        "\n",
        "\n",
        "def compute_coherence_values(dictionary, corpus, texts, limit, start=2, step=3):\n",
        "    coherence_values = []\n",
        "    model_list = []\n",
        "    for num_topics in range(start, limit, step):\n",
        "        model = gensim.models.ldamulticore.LdaMulticore(\n",
        "                           corpus=corpus,\n",
        "                           num_topics=num_topics,\n",
        "                           id2word=dictionary,\n",
        "                           chunksize=1000,\n",
        "                           workers=5, # Num. Processing Cores - 1\n",
        "                           passes=50,\n",
        "                           eval_every=1,\n",
        "                           per_word_topics=True)\n",
        "        model_list.append(model)\n",
        "        coherencemodel = CoherenceModel(model=model, texts=texts, dictionary=dictionary, coherence='c_v')\n",
        "        coherence_values.append(coherencemodel.get_coherence())\n",
        "\n",
        "    return model_list, coherence_values\n",
        "\n",
        "model_list, coherence_values = compute_coherence_values(dictionary=train_id2word,\n",
        "                                                        corpus=train_corpus, texts=texts, start=5, limit=20, step=2)\n",
        "\n",
        "bow_score= {'Model': model_list, 'Coherence Score': coherence_values}\n",
        "bow_score_df= pd.DataFrame(bow_score)\n",
        "print(bow_score_df)\n",
        "print(\"=\"*50)\n",
        "\n",
        "import matplotlib.pyplot as plt\n",
        "\n",
        "%matplotlib inline\n",
        "\n",
        "# Show graph\n",
        "limit = 20\n",
        "start = 5\n",
        "step = 2\n",
        "x = range(start, limit, step)\n",
        "plt.plot(x, coherence_values)\n",
        "plt.xlabel(\"Num Topics\")\n",
        "plt.ylabel(\"Coherence score\")\n",
        "plt.legend((\"coherence_values\"), loc='best')\n",
        "plt.show()"
      ]
    },
    {
      "cell_type": "markdown",
      "metadata": {
        "id": "yGVJCw9H5YqO"
      },
      "source": [
        "#### From above coherence score we found that we got highest coherence score for 9 topics. That's why we are inputing 9 topic in below"
      ]
    },
    {
      "cell_type": "code",
      "execution_count": null,
      "metadata": {
        "id": "2cao0OP154nK",
        "colab": {
          "base_uri": "https://localhost:8080/"
        },
        "outputId": "8a92f4ee-40bc-4dc3-8ae8-b7b7429ba7de"
      },
      "outputs": [
        {
          "output_type": "stream",
          "name": "stdout",
          "text": [
            "Topic #1:\n",
            "['drug', 'music', 'apple', 'test', 'world', 'one', 'year', 'mac', 'computer', 'new']\n",
            "\n",
            "Topic #2:\n",
            "['england', 'wale', 'ireland', 'game', 'rugby', 'six', 'player', 'side', 'scotland', 'nation']\n",
            "\n",
            "Topic #3:\n",
            "['game', 'win', 'world', 'time', 'first', 'year', 'player', 'one', 'second', 'play']\n",
            "\n",
            "Topic #4:\n",
            "['people', 'game', 'technology', 'mobile', 'phone', 'service', 'new', 'user', 'one', 'use']\n",
            "\n",
            "Topic #5:\n",
            "['labour', 'blair', 'party', 'election', 'tory', 'minister', 'brown', 'howard', 'people', 'told']\n",
            "\n",
            "Topic #6:\n",
            "['year', 'company', 'market', 'firm', 'sale', 'bank', 'price', 'share', 'growth', 'last']\n",
            "\n",
            "Topic #7:\n",
            "['law', 'court', 'lord', 'police', 'case', 'government', 'right', 'people', 'told', 'legal']\n",
            "\n",
            "Topic #8:\n",
            "['film', 'best', 'award', 'year', 'show', 'music', 'star', 'one', 'new', 'actor']\n",
            "\n",
            "Topic #9:\n",
            "['government', 'tax', 'people', 'year', 'eu', 'country', 'uk', 'minister', 'council', 'plan']\n",
            "\n"
          ]
        }
      ],
      "source": [
        "#From above result we found out that for 9 topics it generated highest coherence score.\n",
        "#Thats why we are using 9 topics as argument in lda multicore\n",
        "\n",
        "from gensim.models import LdaMulticore\n",
        "from gensim import corpora\n",
        "\n",
        "\n",
        "# Create an instance of LdaMulticore\n",
        "num_topics = 9\n",
        "random_state = 42\n",
        "chunksize = 1000\n",
        "passes = 50\n",
        "workers = 5\n",
        "\n",
        "lda = LdaMulticore(corpus=train_corpus,\n",
        "                   id2word=train_id2word,\n",
        "                   num_topics=num_topics,\n",
        "                   random_state=random_state,\n",
        "                   chunksize=chunksize,\n",
        "                   passes=passes,\n",
        "                   workers=workers)\n",
        "\n",
        "# Obtain the document-topic distributions\n",
        "document_topic_distributions = [lda[doc] for doc in train_corpus]\n",
        "\n",
        "# Print the top words for each topic\n",
        "num_top_words = 10\n",
        "for topic_idx, topic in enumerate(lda.print_topics()):\n",
        "    top_words = [word for word, _ in lda.show_topic(topic_idx, topn=num_top_words)]\n",
        "    print(f\"Topic #{topic_idx+1}:\")\n",
        "    print(top_words)\n",
        "    print()\n",
        "\n",
        "# Assign the dominant topic for each document\n",
        "dominant_topics = [max(doc, key=lambda x: x[1])[0] for doc in document_topic_distributions]\n",
        "\n",
        "# Add the dominant topic information to the count_vectorized_df DataFrame\n",
        "count_vectorized_df['Dominant Topic'] = dominant_topics"
      ]
    },
    {
      "cell_type": "code",
      "execution_count": null,
      "metadata": {
        "id": "asN4FisL4ggV",
        "colab": {
          "base_uri": "https://localhost:8080/",
          "height": 861
        },
        "outputId": "f90e259d-a92b-4180-a2e9-b7002324516a"
      },
      "outputs": [
        {
          "output_type": "execute_result",
          "data": {
            "text/plain": [
              "<IPython.core.display.HTML object>"
            ],
            "text/html": [
              "\n",
              "<link rel=\"stylesheet\" type=\"text/css\" href=\"https://cdn.jsdelivr.net/gh/bmabey/pyLDAvis@3.4.0/pyLDAvis/js/ldavis.v1.0.0.css\">\n",
              "\n",
              "\n",
              "<div id=\"ldavis_el8081375378350622569027820046\" style=\"background-color:white;\"></div>\n",
              "<script type=\"text/javascript\">\n",
              "\n",
              "var ldavis_el8081375378350622569027820046_data = {\"mdsDat\": {\"x\": [-0.078087257439137, -0.10750822839213388, 0.16412340998283614, 0.10755525659132849, -0.06682181193418094, -0.1278814971694616, -0.0751775502672709, 0.19506339217953905, -0.011265713551518976], \"y\": [0.1231892428997699, 0.03009636937809223, -0.04501768495661459, 0.1472618392054378, -0.102676807529542, -0.07516688533975589, -0.07936540139077565, -0.0873182345329902, 0.08899756226637727], \"topics\": [1, 2, 3, 4, 5, 6, 7, 8, 9], \"cluster\": [1, 1, 1, 1, 1, 1, 1, 1, 1], \"Freq\": [17.715216306261787, 15.784308703713684, 12.719011181236132, 12.020260438725566, 11.029388585252004, 10.895502882653359, 8.335839160066232, 6.8424657672875195, 4.658006974803705]}, \"tinfo\": {\"Term\": [\"film\", \"labour\", \"award\", \"game\", \"government\", \"england\", \"blair\", \"election\", \"mobile\", \"party\", \"music\", \"best\", \"phone\", \"tory\", \"technology\", \"player\", \"minister\", \"tax\", \"company\", \"bank\", \"wale\", \"market\", \"firm\", \"ireland\", \"law\", \"people\", \"court\", \"user\", \"lord\", \"brown\", \"broadband\", \"mobile\", \"microsoft\", \"gaming\", \"google\", \"handset\", \"bt\", \"gamers\", \"spam\", \"wireless\", \"nintendo\", \"xbox\", \"portable\", \"d\", \"multimedia\", \"yahoo\", \"handheld\", \"microsofts\", \"console\", \"satellite\", \"wifi\", \"spyware\", \"desktop\", \"highdefinition\", \"antivirus\", \"psp\", \"device\", \"nokia\", \"intel\", \"worm\", \"phone\", \"user\", \"web\", \"blog\", \"technology\", \"pc\", \"fiat\", \"digital\", \"online\", \"program\", \"virus\", \"software\", \"content\", \"search\", \"internet\", \"site\", \"network\", \"net\", \"video\", \"computer\", \"gadget\", \"machine\", \"using\", \"use\", \"people\", \"service\", \"game\", \"data\", \"website\", \"tv\", \"firm\", \"many\", \"system\", \"new\", \"one\", \"make\", \"way\", \"million\", \"get\", \"company\", \"year\", \"uk\", \"time\", \"yukos\", \"investor\", \"gazprom\", \"airline\", \"currency\", \"rosneft\", \"yugansk\", \"creditor\", \"sri\", \"indonesia\", \"oil\", \"lanka\", \"lending\", \"khodorkovsky\", \"aircraft\", \"insurer\", \"yuganskneftegas\", \"baikal\", \"barclays\", \"carmaker\", \"jet\", \"airway\", \"stateowned\", \"restructuring\", \"economist\", \"putin\", \"corp\", \"nissan\", \"bmw\", \"gas\", \"stock\", \"bank\", \"shareholder\", \"profit\", \"takeover\", \"trading\", \"export\", \"gm\", \"euro\", \"asset\", \"banking\", \"growth\", \"price\", \"china\", \"share\", \"india\", \"bankruptcy\", \"dollar\", \"rate\", \"sale\", \"analyst\", \"investment\", \"market\", \"exchange\", \"company\", \"economy\", \"quarter\", \"financial\", \"firm\", \"rose\", \"december\", \"year\", \"economic\", \"business\", \"deal\", \"rise\", \"month\", \"however\", \"last\", \"figure\", \"new\", \"chief\", \"country\", \"cost\", \"may\", \"chelsea\", \"arsenal\", \"roddick\", \"striker\", \"mourinho\", \"nadal\", \"federer\", \"marathon\", \"henman\", \"wenger\", \"semifinal\", \"benitez\", \"moya\", \"everton\", \"davenport\", \"agassi\", \"souness\", \"safin\", \"gardener\", \"uefa\", \"ac\", \"sub\", \"rusedski\", \"midfielder\", \"mcilroy\", \"mirza\", \"ronaldo\", \"jeeves\", \"fa\", \"gallas\", \"barcelona\", \"indoor\", \"seed\", \"tennis\", \"radcliffe\", \"ferguson\", \"wimbledon\", \"champion\", \"holmes\", \"madrid\", \"league\", \"liverpool\", \"goal\", \"gerrard\", \"cup\", \"season\", \"championship\", \"match\", \"olympic\", \"club\", \"football\", \"win\", \"race\", \"final\", \"v\", \"round\", \"title\", \"manager\", \"game\", \"play\", \"second\", \"player\", \"team\", \"open\", \"world\", \"first\", \"time\", \"injury\", \"back\", \"set\", \"good\", \"last\", \"two\", \"one\", \"year\", \"get\", \"think\", \"take\", \"actor\", \"oscar\", \"actress\", \"festival\", \"nomination\", \"comedy\", \"award\", \"theatre\", \"aviator\", \"nominated\", \"starring\", \"nominee\", \"concert\", \"foxx\", \"dance\", \"drake\", \"pop\", \"singer\", \"sideways\", \"scorsese\", \"swank\", \"gig\", \"staunton\", \"comic\", \"dicaprio\", \"bluray\", \"franz\", \"filmmaker\", \"album\", \"eastwood\", \"hollywood\", \"film\", \"chart\", \"band\", \"musical\", \"rock\", \"drama\", \"song\", \"academy\", \"star\", \"prize\", \"ceremony\", \"best\", \"category\", \"artist\", \"show\", \"music\", \"movie\", \"director\", \"year\", \"tv\", \"top\", \"one\", \"winner\", \"single\", \"new\", \"british\", \"first\", \"number\", \"including\", \"uk\", \"last\", \"two\", \"bbc\", \"time\", \"glazer\", \"milburn\", \"asylum\", \"regiment\", \"rift\", \"unity\", \"poster\", \"blunkett\", \"ethnic\", \"kinnock\", \"tb\", \"pm\", \"peston\", \"callaghan\", \"magnier\", \"mcmanus\", \"feta\", \"dossier\", \"refugee\", \"fagin\", \"antisemitic\", \"mock\", \"vaccine\", \"fourkings\", \"fightstar\", \"jewish\", \"gogh\", \"backbench\", \"flynn\", \"livingstone\", \"blair\", \"backbencher\", \"constituency\", \"howard\", \"parry\", \"tory\", \"labour\", \"immigration\", \"seeker\", \"prime\", \"politics\", \"election\", \"tony\", \"cabinet\", \"campaigning\", \"chancellor\", \"party\", \"brown\", \"conservative\", \"minority\", \"campaign\", \"leader\", \"school\", \"mp\", \"minister\", \"michael\", \"liberal\", \"secretary\", \"plan\", \"kennedy\", \"told\", \"issue\", \"britain\", \"government\", \"people\", \"bbc\", \"general\", \"new\", \"claim\", \"public\", \"home\", \"time\", \"uk\", \"lse\", \"boerse\", \"referendum\", \"euronext\", \"forsyth\", \"eu\", \"directive\", \"palestinian\", \"embargo\", \"rebate\", \"cuba\", \"quango\", \"threshold\", \"mubanga\", \"pensioner\", \"galloway\", \"taxpayer\", \"patenting\", \"lisbon\", \"lira\", \"tuc\", \"unison\", \"republican\", \"pension\", \"chidambaram\", \"boer\", \"carers\", \"cocoa\", \"tci\", \"panda\", \"turkey\", \"maternity\", \"constitution\", \"wage\", \"tps\", \"council\", \"tax\", \"straw\", \"minimum\", \"budget\", \"income\", \"poverty\", \"worker\", \"government\", \"spending\", \"union\", \"commission\", \"bush\", \"local\", \"reform\", \"increase\", \"country\", \"social\", \"vote\", \"minister\", \"plan\", \"public\", \"fund\", \"people\", \"state\", \"policy\", \"uk\", \"european\", \"report\", \"pay\", \"economic\", \"year\", \"party\", \"service\", \"change\", \"new\", \"cut\", \"election\", \"make\", \"economy\", \"world\", \"one\", \"work\", \"ukip\", \"kilroysilk\", \"ebbers\", \"worldcom\", \"mci\", \"goldsmith\", \"detainee\", \"veritas\", \"detention\", \"falconer\", \"suspect\", \"prosecution\", \"binge\", \"verizon\", \"custody\", \"hockney\", \"kilroy\", \"woolf\", \"worldcoms\", \"drunk\", \"hantuchova\", \"hunting\", \"ukips\", \"sentence\", \"commodore\", \"curfew\", \"prosecuted\", \"csos\", \"burglar\", \"countryside\", \"prison\", \"mcconnell\", \"witness\", \"drinking\", \"arrested\", \"sullivan\", \"hunt\", \"attorney\", \"lawyer\", \"urban\", \"animal\", \"police\", \"court\", \"arrest\", \"houston\", \"law\", \"lord\", \"judge\", \"murder\", \"trial\", \"fraud\", \"case\", \"legal\", \"guilty\", \"act\", \"evidence\", \"ruling\", \"bill\", \"m\", \"right\", \"government\", \"charge\", \"told\", \"order\", \"action\", \"without\", \"people\", \"former\", \"house\", \"new\", \"one\", \"rule\", \"spokesman\", \"group\", \"public\", \"year\", \"time\", \"made\", \"home\", \"rugby\", \"odriscoll\", \"henson\", \"ogara\", \"flanker\", \"flyhalf\", \"ruddock\", \"dallaglio\", \"capt\", \"wilkinson\", \"gloucester\", \"osullivan\", \"ulster\", \"lewsey\", \"barkley\", \"twickenham\", \"tait\", \"cairn\", \"fullback\", \"laporte\", \"oconnor\", \"cueto\", \"oconnell\", \"parmalat\", \"corry\", \"lansdowne\", \"easterby\", \"hodgson\", \"paterson\", \"tindall\", \"robinson\", \"j\", \"woodward\", \"ireland\", \"zealand\", \"wale\", \"lion\", \"g\", \"england\", \"bath\", \"scotland\", \"italy\", \"r\", \"penalty\", \"captain\", \"coach\", \"irish\", \"squad\", \"nation\", \"six\", \"france\", \"side\", \"try\", \"williams\", \"player\", \"injury\", \"game\", \"team\", \"cardiff\", \"centre\", \"match\", \"jones\", \"minute\", \"back\", \"first\", \"win\", \"two\", \"last\", \"year\", \"international\", \"one\", \"new\", \"kenteris\", \"thanou\", \"computing\", \"filesharing\", \"conte\", \"bittorrent\", \"balco\", \"mac\", \"antidoping\", \"orchestra\", \"iaaf\", \"kostas\", \"supercomputer\", \"tzekos\", \"katerina\", \"podcasting\", \"doping\", \"performanceenhancing\", \"mpaa\", \"donofrio\", \"fbi\", \"ahold\", \"reddy\", \"asimo\", \"podcasts\", \"jailhouse\", \"copyrighted\", \"copyright\", \"ioannidis\", \"contes\", \"greek\", \"mcdonalds\", \"peertopeer\", \"robot\", \"grid\", \"drug\", \"steroid\", \"domain\", \"apple\", \"mutu\", \"athletics\", \"piracy\", \"sprinter\", \"ipod\", \"test\", \"banned\", \"musician\", \"athlete\", \"olympics\", \"mini\", \"athens\", \"music\", \"federation\", \"charge\", \"computer\", \"world\", \"file\", \"legal\", \"industry\", \"one\", \"case\", \"year\", \"product\", \"decision\", \"body\", \"new\", \"take\", \"company\", \"used\", \"set\", \"three\"], \"Freq\": [992.0, 721.0, 551.0, 1362.0, 1096.0, 560.0, 530.0, 622.0, 545.0, 698.0, 701.0, 845.0, 531.0, 470.0, 577.0, 719.0, 672.0, 499.0, 1020.0, 462.0, 353.0, 752.0, 872.0, 301.0, 412.0, 1804.0, 357.0, 390.0, 358.0, 413.0, 228.88037302380758, 543.2467078831548, 176.51957525013768, 156.8179220310102, 112.5386714141857, 98.01056006959192, 96.05131449258477, 79.56172574575177, 74.73718104223435, 93.86441374261183, 67.9574269456476, 72.55488343180255, 76.31442003309938, 53.41707205981099, 53.4168740753146, 54.33946382991414, 50.50423415592825, 50.49968951180651, 119.97403317198639, 42.73291970563496, 41.78033529983193, 40.81443643664648, 45.54317914214805, 62.63821797789294, 39.838678845470206, 40.7799421377977, 215.45758212468854, 33.05512029679936, 41.498175894938775, 31.116748585218698, 517.463042929205, 378.55622033053703, 155.00557195103116, 116.72800535926527, 547.8589187139387, 251.7157968462015, 66.78822950220034, 303.42178789593834, 291.09777495461776, 164.77067127365683, 145.89062671667332, 271.0866719676285, 171.41632687111868, 191.95765033803832, 233.54944140223733, 254.913894412205, 310.05408853918897, 324.5374823854838, 269.40839338888844, 286.77399153789696, 163.54291541575378, 153.67634003943152, 222.10707142194417, 341.0855665517056, 829.5363213513317, 431.867001713671, 634.1889064561911, 206.79367257099923, 212.05323870921558, 268.47298863779514, 338.7984496493768, 314.0410643303646, 247.25840989159676, 393.5470304424959, 365.66008619041327, 301.33485131805315, 276.31668442011056, 253.48696615093087, 278.53879041326024, 281.41849291188305, 321.49701647579013, 251.33379475970702, 255.1113569494709, 184.78608270773523, 144.47948830857993, 69.03050864954945, 153.19353044440498, 67.08162899748918, 54.680126081863946, 54.67903958893508, 51.804427869489736, 51.784013028184226, 45.09499726101717, 281.49933266430185, 34.5613400672741, 34.56321236320687, 39.19570950357478, 33.55503512759585, 30.738234053123954, 28.815251822001027, 28.80178091336267, 27.86794224560058, 27.824819301161842, 31.49353306644032, 24.993194213389252, 24.03578546470904, 24.014855441332095, 106.23015022883972, 23.077344347286456, 23.991465774368947, 23.052058329196537, 32.249008484512665, 66.12030326138644, 183.4368910236238, 436.30040757634674, 115.6185075627905, 239.54880630738708, 83.75082802731781, 96.12654377497819, 116.6792534156831, 72.74320332785256, 222.9447727980965, 80.71458144100818, 46.29957713721623, 352.92135257225357, 389.1547611558657, 253.0030206411099, 389.03679448450407, 169.90922816422994, 87.43557858859434, 209.76061810898074, 285.2814185588885, 454.62148479635187, 271.6138025808197, 179.98500275863688, 492.77940512050526, 126.95972969260706, 600.5906471219861, 290.43304683170805, 161.48003159892215, 179.23900308239988, 466.8252299621272, 132.69334131059367, 183.5868350662055, 787.3052026588741, 215.742984488091, 240.22248003367292, 236.39632502368363, 200.4858333642881, 304.3559365284737, 233.0550425406952, 323.67963423427653, 206.70389253418162, 305.0218163719045, 207.4649828354528, 222.6299544558589, 201.45716606109363, 201.07266784024452, 176.92783556825424, 146.51132350912368, 106.58899400107299, 75.18453359527105, 61.902467994785006, 56.19219839993376, 52.389678875626984, 50.48427746322104, 47.63931264629076, 51.34526904575448, 40.981422489559584, 40.98311533256452, 38.13158913368188, 38.11555881499766, 38.086376656860914, 35.277575360154565, 35.25705771526068, 33.37760784456984, 30.52513507507565, 30.515595064782524, 31.439076460759896, 30.511324189873104, 29.563839313882884, 29.553882554071365, 26.72018935783622, 26.721008319099106, 26.717708244424394, 25.738175653531425, 57.92723971657693, 24.819819630506995, 48.588913576037164, 79.0576227046923, 87.3268764895967, 68.269534830623, 42.879655164125886, 69.70442603676369, 43.745838347248906, 231.5669926582748, 62.42834127466804, 89.99382788046132, 160.50060335047272, 131.75134781422628, 168.27857083490423, 60.94490682617567, 209.1870783118272, 188.08867196505332, 113.96619705716623, 219.86807771275173, 105.96136276514088, 249.42615037632197, 122.51135840694506, 339.42517954922215, 127.95073435360827, 202.82970332525417, 94.31715507810199, 94.00594979820463, 170.78850134521107, 141.13962251526115, 454.7959452467955, 252.4990351817995, 252.70452823114772, 281.97107006882845, 189.32934497315736, 180.24752654588002, 333.13863259707733, 307.6195541186456, 321.36975542232705, 137.55796731323676, 216.50083206139928, 207.86442518140743, 199.8802022221522, 248.9750529441344, 225.26599838949235, 255.36740904532107, 295.31439461790177, 170.94234329920997, 159.20751682154383, 159.6104263791861, 233.29236990427535, 170.73788348564278, 146.08907447340624, 135.64904010332688, 129.0211982143237, 121.44017997340606, 547.8332385134598, 88.25024575321467, 83.52304110041507, 78.77641851273425, 63.609515334640975, 58.87356039860716, 58.81711404953736, 47.49929742879458, 48.41713069671772, 42.758805535019654, 95.74631968843025, 133.8044462024503, 40.86290676342861, 39.91483219912207, 38.96731635841352, 38.011865421359644, 35.17505473880032, 34.216971999880464, 30.434196468895557, 30.42365704889399, 29.4809468417551, 29.479111907971514, 193.58640568363737, 26.642975968117966, 100.83958905135377, 937.102209844893, 145.70187596685972, 222.6951845995724, 88.13453806514418, 114.50422797174994, 79.43126088839352, 219.50446373499642, 72.71037778121894, 312.8917363735745, 158.18856067341926, 99.5807756256627, 577.6128276980461, 108.40441957360157, 118.70283735696232, 391.93868091430954, 353.0804133578068, 143.3613431241018, 214.28099040179865, 500.7743740428767, 193.354391893151, 190.4493589220821, 302.6737259381747, 125.03243686374273, 128.64497877913456, 253.85723304739997, 164.6071529421364, 209.89590777903828, 180.72933913489072, 144.9277232045199, 177.4505048110896, 179.51787982398073, 166.62648383186863, 150.77064087296614, 149.09192987114088, 70.04334072788845, 61.53652976173194, 89.45955678714041, 25.437591104247684, 20.89002175249843, 19.90433859090187, 73.79709849784074, 76.52006689643807, 35.91722795109586, 16.159516058265552, 15.222408707122122, 15.217426321304142, 14.277595956938853, 14.274629217224913, 12.384797809994375, 12.38478940563258, 12.380812741776168, 12.365873988684019, 23.671462097563516, 10.496439967532044, 10.493427003828227, 10.493669329593342, 10.484446242885863, 10.48251744185371, 10.48386914337588, 35.854923615649184, 13.103589256947517, 9.548971439021281, 9.538386845702872, 23.3169675177409, 484.60087994112035, 18.038940064138878, 40.20274089768825, 289.0140119369657, 45.818412185712184, 393.1174519811941, 595.3918387535545, 112.08645196291161, 18.991206082508114, 241.87343115643588, 79.61772975843436, 472.47511156530936, 163.95555080610956, 71.86401684408172, 37.50875914292487, 181.42809571573972, 477.31633772256794, 293.19960822762096, 172.1311346680753, 46.40120425008464, 201.3549944151556, 209.5329763216871, 145.22235162709967, 177.06266849428437, 347.6348612841211, 147.42344277562097, 98.44221711527094, 134.59406123026017, 228.07212438973835, 77.8385655866048, 244.91587736143333, 161.1164341274934, 150.72704051615528, 226.8481579610515, 281.19268873341923, 176.58155800182615, 125.36590389116456, 221.32357874907902, 127.17685335930608, 139.62959623223912, 136.38909844006818, 140.22893928644157, 128.6157025103896, 65.90291686708404, 52.744132120938964, 38.644938410261204, 36.76072205616416, 30.183233686692443, 255.99543166928592, 31.047288785895688, 29.19281418572019, 25.476420552685756, 22.66155878740444, 22.66007681948549, 20.778638982271044, 18.89881871788317, 17.01702526371712, 35.723881397633534, 15.124611731327013, 29.946730425467827, 12.318961413698798, 28.156715203010812, 11.376920347242313, 11.376822102870468, 11.371038138443557, 11.365221656513288, 124.9738813718303, 10.4370461918606, 10.435054321814539, 10.423200654048237, 9.497697159565014, 9.494967764868344, 9.494738758621297, 60.08269888323815, 18.89863191520431, 40.33463367555289, 77.63655491801485, 17.945354321683535, 188.04284939102422, 366.9922661428359, 66.7878357499306, 60.01620819935252, 180.641245718813, 88.84253490127986, 56.50638235232456, 88.00959420975688, 521.5837648293485, 135.16379868934806, 121.70438616535826, 96.77337408600062, 76.27970328219165, 125.204453993932, 77.03364996385731, 136.79371432995757, 241.1175475324731, 62.434824122236876, 103.58688418090256, 204.12258045191322, 186.64905233649324, 162.42468019817272, 89.79844987188142, 316.2697209148567, 131.60443000443942, 109.29434530034172, 209.79511638902338, 146.50840563245652, 147.3795647683506, 107.92163619266864, 122.5016987429903, 285.2739592264082, 152.53335935233252, 154.48931347000584, 119.21156945098377, 183.09160979476218, 116.48856755710078, 131.2234853770264, 137.67283264369462, 116.87313200531305, 128.06256265495463, 129.44023102782054, 119.10041770589169, 104.66212682768234, 90.78593431216309, 59.32425592229488, 45.434347569714824, 44.36084935860845, 34.33789238573209, 33.38740901458137, 31.558766952452842, 35.11898580437036, 26.00632382610086, 65.94905603774401, 39.85763812527796, 18.60510104480075, 16.71456621500296, 15.82896840801509, 15.82804209144916, 15.824978365572811, 15.828682573189031, 14.904580697836035, 14.903180107188348, 14.887767258178757, 69.24020904006488, 13.971555482672487, 61.9243026611058, 13.044440696523331, 13.049380345776628, 13.045405124399403, 12.126535085010788, 12.125013808547653, 16.39970115709166, 54.9906950687628, 24.993947687280883, 23.998016578786824, 35.41949560212849, 46.202485260200106, 33.37933153412645, 54.5161160965249, 41.76901772442796, 91.45341579797554, 56.37527896619148, 35.63216518189625, 188.11200658159171, 269.8661532328999, 52.68890320852666, 33.837139412607236, 271.6993580657703, 234.12829691880214, 96.37193444709438, 45.274728933663575, 125.43759287969742, 83.4962654529412, 187.66268270420736, 139.92056826774427, 58.547589767518005, 104.40794979658084, 84.54707896533355, 57.33619213255083, 108.95685649077059, 97.42193491820372, 158.84104675584823, 172.16242328751235, 88.28172481458718, 150.27575846948127, 82.76102205769776, 98.39254529569898, 94.43399973395601, 158.65401338403544, 97.224662307733, 82.81030421630031, 132.85443494627037, 127.93328238216178, 79.63186329642694, 82.63956554686787, 88.90829169166805, 85.44176314384758, 96.94425622607433, 88.0928620998876, 86.13519419727614, 85.77452569646017, 192.95101231544734, 43.55739133081374, 41.746878865026225, 41.745961211784675, 38.12422370856373, 37.21922991059322, 35.407528666742785, 33.597461123739045, 33.59658865796772, 37.06503288237911, 29.97453831841443, 29.97165327223834, 29.968521432955615, 29.07074198840496, 28.165470113694585, 28.164913960214857, 27.259233660292804, 25.435363083114044, 24.54122818183524, 25.409720931739287, 23.62374873824481, 22.732743938269106, 22.73248497930511, 22.716419095659436, 21.827162703185632, 20.920861944537755, 20.921317295199284, 43.54160352390794, 20.016497295191186, 20.015612663562493, 114.5522183247032, 78.81271121803245, 43.34413775497091, 256.8124062207778, 81.26641170716731, 277.0762753698136, 69.76909948415924, 67.82806127263858, 399.7432109346281, 45.08177673511769, 162.53069612727464, 113.05339860067056, 50.73642205279203, 88.94381156233074, 75.28627408952232, 134.29543744177218, 87.59240031810026, 86.3878761597847, 162.24476371950897, 184.64666759450392, 160.01635405309383, 162.8043375431383, 133.4035341063308, 90.96404602936481, 180.08976844299642, 99.81243398801615, 215.9725128783714, 114.2987861359092, 52.029631835368875, 79.51421540968862, 93.09747858527923, 68.48541382992276, 86.54348790341288, 118.7026040421213, 125.06017521878437, 105.93528058855959, 112.45076459387322, 97.98931421803502, 103.47339073943573, 85.18573650951349, 88.90497119369016, 87.01261726740128, 51.95000688542553, 45.148982576239916, 34.063381195160986, 30.6790069231793, 29.846888477574097, 26.43732065190317, 25.594890051984294, 62.73827132878219, 18.794593367271247, 17.887663294593718, 48.50253396568604, 14.542589026035325, 14.541188201034476, 13.694259343807131, 13.692311913104938, 14.452630978641327, 30.406021151139008, 11.99326972639204, 11.992014426285705, 11.141014421399644, 11.140452435018393, 10.291873112524, 10.287183188281295, 9.44015494819916, 9.437256873165731, 9.421651990269881, 9.431366072760984, 30.562416636960055, 8.59333079790811, 8.593223724713367, 49.92875365219152, 17.813968541508558, 23.85166508754194, 48.591935942344904, 15.334101293554285, 129.36382256988435, 15.162193800481443, 34.46691817826006, 100.64824462226048, 14.418669254275324, 43.89017094236959, 33.71051290419563, 31.755294845452617, 44.4613999291175, 93.7699193821159, 28.6648761278719, 32.912213024320366, 41.130720793823734, 33.25214734661235, 39.05984238843129, 40.8643605454361, 118.70661098437732, 26.767863294417506, 51.02433604584476, 58.03850345093646, 78.14179509579489, 38.427618357685304, 44.672276149431, 50.20402049737508, 66.80494675903174, 46.48824226480422, 64.67707938519263, 42.237225836470074, 45.65446743828585, 38.43035138619203, 52.91641996295326, 46.5871045427357, 46.64865565746892, 42.425362313104266, 42.16610557257566, 41.503998063897726], \"Total\": [992.0, 721.0, 551.0, 1362.0, 1096.0, 560.0, 530.0, 622.0, 545.0, 698.0, 701.0, 845.0, 531.0, 470.0, 577.0, 719.0, 672.0, 499.0, 1020.0, 462.0, 353.0, 752.0, 872.0, 301.0, 412.0, 1804.0, 357.0, 390.0, 358.0, 413.0, 229.71240580409622, 545.6712339478204, 177.35916325192488, 157.93758848732068, 113.37612778462135, 98.83686925701853, 96.89255665958184, 80.40973010192954, 75.56779722837406, 94.92430642979636, 68.78295849787341, 73.59912871084805, 77.46206740540109, 54.24209445863201, 54.24235892028339, 55.20833383105526, 51.33044176837585, 51.330331194974946, 122.0282688844561, 43.56842760030946, 42.60752916870258, 41.63949534442033, 46.469501771438374, 63.92225034475802, 40.668471869944085, 41.63388206968207, 220.7581067644154, 33.88220006469769, 42.57813368204473, 31.94210975418483, 531.5551106586353, 390.9555106932962, 159.7175300628634, 120.01772235750633, 577.7173751990936, 262.07221175202756, 68.75500618834779, 323.5052196386727, 311.5367750820298, 173.79357090393086, 153.9278231915459, 295.6855435711239, 184.60024783904714, 208.87623929674757, 265.550488378135, 292.9227598638436, 364.91836305174195, 393.17670366042034, 320.1745851121067, 349.4343828396358, 187.9201644963227, 179.09823184890516, 289.61864843380357, 510.91841300237996, 1804.7041626588073, 749.405544121237, 1362.570186195551, 284.72950424223745, 305.1915399621719, 472.9039235139758, 872.624070207332, 741.8323043250361, 462.128302798242, 1769.3150568809137, 1629.4807892840338, 957.7012680644025, 752.0197320391009, 595.8341581289387, 870.6614508033894, 1020.2340623956977, 2576.0770470132697, 976.175224988112, 1321.2109173650308, 185.73693610085226, 145.50591251069238, 69.86963359683473, 155.06485392244724, 67.95250606090207, 55.50661688192115, 55.506234427238674, 52.63194129463136, 52.62406952982832, 45.92207162724495, 287.6862332604189, 35.389888366079155, 35.39291252730762, 40.17760133958489, 34.432116988003045, 31.565135980217025, 29.649962283701562, 29.64934050583031, 28.694252253482798, 28.68667010137975, 32.50157162876051, 25.819473071267396, 24.862253113471276, 24.854430523925892, 110.02814645198174, 23.903690637390415, 24.855329303154356, 23.903170751428977, 33.48225726358073, 68.68218133380361, 191.43971889494478, 462.391640079985, 121.45404820098693, 254.28269226823693, 88.02623202220467, 101.48966034077432, 124.22575368093081, 77.5767381506531, 252.7194560810376, 86.95152191962688, 48.79105814420099, 415.5135194022903, 465.8679608475242, 295.49581309016696, 475.7274317167036, 200.73954792248315, 97.3186049465331, 260.61100853274166, 386.6108385549264, 671.7543126683629, 368.75424917458514, 227.32363280691138, 752.975285247976, 151.8966785748177, 1020.2340623956977, 434.11834100475045, 208.92792936924928, 243.63121012413126, 872.624070207332, 166.1463315669701, 274.2432626557778, 2576.0770470132697, 360.3424912210264, 448.7489366722323, 448.48830660921607, 333.44593948226475, 740.2695731608216, 472.124870869344, 1251.912957662342, 389.43693260938187, 1769.3150568809137, 426.8334739539764, 761.6188630461417, 426.59685702956006, 625.5767917606191, 177.7739672637917, 147.35235645851026, 107.41910949474693, 76.0370274104283, 62.729752549359105, 57.02424262445719, 53.22101469529815, 51.31695137209174, 48.467053074977294, 52.26573638847459, 41.80905729692567, 41.810973330921684, 38.95895111703282, 38.95534992453035, 38.95686572847611, 36.10595802303757, 36.10298971093337, 34.20480729542095, 31.35214453847221, 31.349396458882794, 32.29889690039243, 31.349204710294813, 30.399705521101023, 30.396626645944462, 27.54754316938634, 27.548472406437977, 27.54693873693986, 26.56543151307771, 59.81516471491231, 25.64691376791501, 50.360484146417654, 82.39604610024267, 91.16459622429177, 71.13240493480195, 44.64826185813343, 73.95069748309733, 45.58845303363695, 259.6386480398482, 66.36846701142125, 98.61787912019065, 188.2442638333187, 152.9315326927147, 212.10637430711523, 67.44730988656286, 281.62727701579644, 257.5883870839079, 144.88874155142, 330.96890370917214, 137.294457460987, 402.3496008422307, 167.08942805528625, 645.2024788217116, 181.1384023516301, 337.487217624657, 121.64457819262012, 123.17777594507373, 304.0676241358439, 229.2346774138897, 1362.570186195551, 576.2694142000704, 579.7921153062488, 719.4650983135192, 388.247927367701, 366.21210313398245, 1103.4828972692358, 1157.6778546722826, 1321.2109173650308, 245.5707480835814, 734.2021463161897, 699.7974863097102, 637.5264791180256, 1251.912957662342, 1072.0259452914227, 1629.4807892840338, 2576.0770470132697, 870.6614508033894, 586.7106366571861, 766.1123570424245, 234.12969437427907, 171.5670516937576, 146.9175691272625, 136.48838887874354, 129.85068493027248, 122.26925462670205, 551.6002921870114, 89.0837897987071, 84.35081514132294, 79.6071694904064, 64.43906708585753, 59.70141167124277, 59.69103719520919, 48.32672324419001, 49.26413273296584, 43.58623382588838, 97.62895840281257, 136.43969684374886, 41.690316138165336, 40.74223757427011, 39.79467228737387, 38.84021260551605, 36.002405592442635, 35.049542748218585, 31.261616771080018, 31.251006187079334, 30.31080912225213, 30.310417068042113, 199.42333071054256, 27.470268171352643, 103.98547309670478, 992.06052298211, 152.82288149324327, 240.13167994380711, 92.92428832190521, 122.0633185508831, 84.20688893903026, 253.27227739722915, 77.63809646400614, 388.2032291338448, 184.56522366466228, 112.05628673431515, 845.5383209372659, 124.0496570720028, 138.6709069301968, 682.4492265493345, 701.5523399390514, 218.95429513740072, 440.4128344381679, 2576.0770470132697, 472.9039235139758, 504.4143963079937, 1629.4807892840338, 209.90753976587115, 232.0344732190804, 1769.3150568809137, 493.03617509186563, 1157.6778546722826, 786.1699994036636, 365.61599072666166, 976.175224988112, 1251.912957662342, 1072.0259452914227, 644.6960119586552, 1321.2109173650308, 70.87170791639217, 62.36442881473892, 91.65695097853848, 26.435652364076176, 21.71807898956788, 20.76701649657333, 77.35867350201336, 80.25793698980932, 37.74566003297142, 16.99225580850144, 16.049948217535697, 16.046256668782785, 15.105205143078782, 15.102527351557633, 13.212352587908118, 13.212350748937837, 13.20839682082008, 13.204428692892495, 25.504033655667424, 11.323941120860738, 11.321028009347126, 11.321362795074377, 11.312148749681715, 11.310156205030015, 11.311747529374932, 38.71074993099636, 14.14835567667357, 10.376624020816601, 10.366008379840949, 25.489691112592894, 530.7613767051342, 19.721235729925386, 44.37673630391039, 332.80491938163897, 51.03909501633339, 470.26054030173776, 721.5529683084455, 129.236345552547, 20.781131166098163, 291.0244077799891, 92.48839772965297, 622.0259894467735, 203.97413876239003, 86.74824136510422, 43.3671420052039, 240.702067411063, 698.3434787781816, 413.05932517251523, 232.92229833824504, 54.83827070067798, 317.32559961071587, 347.0567413155288, 226.70857087042359, 289.31019055246276, 672.1549355891896, 254.46456161765582, 163.85523131111688, 270.6673279557523, 622.1796032220734, 121.69419411728254, 820.6773312789916, 415.6967789434901, 410.9046303922679, 1096.026086923974, 1804.7041626588073, 644.6960119586552, 323.66463674452547, 1769.3150568809137, 358.623506376675, 492.9754130280559, 658.6036967441871, 1321.2109173650308, 976.175224988112, 66.73124325772334, 53.5723619407462, 39.473252024570094, 37.58891251085732, 31.01138890719695, 263.1464111574999, 31.944895886579673, 30.053074928008662, 26.31043331444966, 23.489685953325687, 23.488216642064256, 21.60765490887716, 19.72701957573252, 17.84521647130716, 37.564022052793824, 15.953800296039175, 31.917661688050725, 13.147104692969316, 30.05322853469817, 12.20502348535491, 12.206452744508296, 12.200630569658388, 12.195868983016643, 134.45809129142364, 11.265154810252513, 11.263154106021664, 11.266744555572027, 10.325769039234492, 10.323074455494645, 10.32283175598228, 65.84199767570816, 20.6656742290145, 44.96780297136128, 88.51094377814773, 19.744659862446948, 235.77944282126072, 499.9214237971118, 80.81986218954195, 72.10978348247166, 238.63243474590257, 112.21684734543682, 72.30952185699623, 129.4449003754128, 1096.026086923974, 250.8594599480826, 223.6660533209982, 167.39225885087066, 121.97349641412052, 242.69278889582185, 128.15568006408378, 303.09765455597477, 761.6188630461417, 97.3159094067984, 220.03207139213342, 672.1549355891896, 622.1796032220734, 492.9754130280559, 185.61370643933577, 1804.7041626588073, 370.91557427923425, 265.3439263125133, 976.175224988112, 494.44235085810124, 510.16199108112926, 260.9292835248711, 360.3424912210264, 2576.0770470132697, 698.3434787781816, 749.405544121237, 377.8660270408779, 1769.3150568809137, 367.00548560414813, 622.0259894467735, 957.7012680644025, 434.11834100475045, 1103.4828972692358, 1629.4807892840338, 620.4591532027736, 105.49510412226334, 91.61613062818314, 60.15409788568404, 46.26877202380588, 45.34429680078947, 35.167698140966785, 34.241101299660386, 32.388672966312974, 36.09252576522285, 26.83686378657277, 68.50111830458715, 41.55968822923979, 19.434894655349513, 17.57959561654108, 16.658719169207536, 16.657815941708677, 16.65486095004507, 16.65891975808844, 15.734289976907286, 15.732986570608396, 15.718060471762941, 73.16656916730742, 14.801508991086447, 65.76792334857657, 13.87431110699066, 13.880019139754504, 13.877989104037457, 12.956269575173817, 12.954947336035836, 17.58533137665447, 59.2746587914251, 26.851880692784928, 25.80225860567201, 38.895767091770374, 51.85245012612183, 36.96928887814607, 62.195881633058754, 47.02372729069741, 108.89178967132388, 64.86238361471325, 39.83903650526356, 238.74672572920883, 357.7832826901998, 61.33145011600465, 38.01163125861316, 412.2594378040814, 358.9768450418007, 130.59945268079417, 53.844672624833684, 195.34402194466028, 117.42831749259221, 355.05464125467836, 245.64356831035133, 78.15874954639935, 226.17611706737048, 161.98980886576825, 86.30219519534509, 276.50965802112967, 232.41372708420633, 589.359983073365, 1096.026086923974, 231.96375894925447, 820.6773312789916, 209.79767165219, 337.96858159336205, 306.4052941789883, 1804.7041626588073, 406.0654393533353, 265.5824845084905, 1769.3150568809137, 1629.4807892840338, 249.21690330778358, 326.90722581180376, 575.5319098748066, 492.9754130280559, 2576.0770470132697, 1321.2109173650308, 774.3554324384015, 658.6036967441871, 193.78557675114013, 44.3898038807017, 42.57900713588991, 42.57844121364357, 38.95665101757486, 38.051410355771175, 36.24022076338636, 34.42977646794634, 34.42935567950587, 38.05357322051876, 30.806812588593182, 30.803925827080256, 30.80332974397178, 29.902782671891455, 28.997460128441595, 28.996962135738986, 28.091452678367126, 26.2682929277358, 25.37395089959636, 26.281592610778546, 24.457224010443017, 23.56472506677846, 23.56456376861723, 23.54859800265428, 22.65916246189385, 21.752908929553247, 21.753619146053598, 45.3225670327524, 20.84848147101483, 20.847680159739184, 120.55803148362939, 83.3085210645349, 46.28360898061979, 301.596277731856, 90.84289262426066, 353.65437528259804, 79.17236293225761, 78.05086471907926, 560.6412156047411, 50.721615605699455, 228.57264931175797, 150.2692292304004, 60.88424727782679, 127.05828855864708, 105.47621140764059, 231.48408523105428, 133.4482476196366, 131.56785419009495, 322.12745552400133, 405.2611017657262, 329.9418300089898, 361.07161134555395, 280.48038289706807, 189.92534209079366, 719.4650983135192, 245.5707480835814, 1362.570186195551, 388.247927367701, 70.45038829533291, 218.24818783547954, 330.96890370917214, 147.3683005608841, 277.905306032118, 734.2021463161897, 1157.6778546722826, 645.2024788217116, 1072.0259452914227, 1251.912957662342, 2576.0770470132697, 383.8280049046068, 1629.4807892840338, 1769.3150568809137, 52.78822618831001, 45.98717884647444, 34.90240390453548, 31.529458192293717, 30.685066913700553, 27.28054780353091, 26.433158319083432, 64.81031000075954, 19.632841065047483, 18.780252400640915, 51.28638502613327, 15.380689331185431, 15.379338971549338, 14.532331298531657, 14.530419974116414, 15.375106337776899, 32.51078604075678, 12.831382671560648, 12.830098304113966, 11.979108705066576, 11.978553427894159, 11.129955765176096, 11.12549227024883, 10.27847316255879, 10.275650118930535, 10.260071402593429, 10.27127898172348, 33.47417555313962, 9.431383235406427, 9.431287979259661, 55.785217271644576, 19.711705355643314, 26.66595719794481, 56.111668829024275, 17.170700932723115, 172.45444781093795, 17.190150079777773, 43.59305985897402, 153.46115980220173, 16.31172180013853, 64.19187134091305, 46.567811608568164, 43.76118594835246, 67.40021308524477, 205.17378217969116, 42.939462213686994, 54.01771897101149, 79.72149731775065, 58.79416216605594, 76.76156004063208, 92.12686769730004, 701.5523399390514, 43.83507911936921, 231.96375894925447, 349.4343828396358, 1103.4828972692358, 125.92112861006734, 245.64356831035133, 416.1582655810914, 1629.4807892840338, 355.05464125467836, 2576.0770470132697, 213.70338612908068, 376.3528612525225, 137.56934243867204, 1769.3150568809137, 766.1123570424245, 1020.2340623956977, 470.9776473189185, 699.7974863097102, 686.243517525701], \"Category\": [\"Default\", \"Default\", \"Default\", \"Default\", \"Default\", \"Default\", \"Default\", \"Default\", \"Default\", \"Default\", \"Default\", \"Default\", \"Default\", \"Default\", \"Default\", \"Default\", \"Default\", \"Default\", \"Default\", \"Default\", \"Default\", \"Default\", \"Default\", \"Default\", \"Default\", \"Default\", \"Default\", \"Default\", \"Default\", \"Default\", \"Topic1\", \"Topic1\", \"Topic1\", \"Topic1\", \"Topic1\", \"Topic1\", \"Topic1\", \"Topic1\", \"Topic1\", \"Topic1\", \"Topic1\", \"Topic1\", \"Topic1\", \"Topic1\", \"Topic1\", \"Topic1\", \"Topic1\", \"Topic1\", \"Topic1\", \"Topic1\", \"Topic1\", \"Topic1\", \"Topic1\", \"Topic1\", \"Topic1\", \"Topic1\", \"Topic1\", \"Topic1\", \"Topic1\", \"Topic1\", \"Topic1\", \"Topic1\", \"Topic1\", \"Topic1\", \"Topic1\", \"Topic1\", \"Topic1\", \"Topic1\", \"Topic1\", \"Topic1\", \"Topic1\", \"Topic1\", \"Topic1\", \"Topic1\", \"Topic1\", \"Topic1\", \"Topic1\", \"Topic1\", \"Topic1\", \"Topic1\", \"Topic1\", \"Topic1\", \"Topic1\", \"Topic1\", \"Topic1\", \"Topic1\", \"Topic1\", \"Topic1\", \"Topic1\", \"Topic1\", \"Topic1\", \"Topic1\", \"Topic1\", \"Topic1\", \"Topic1\", \"Topic1\", \"Topic1\", \"Topic1\", \"Topic1\", \"Topic1\", \"Topic1\", \"Topic1\", \"Topic1\", \"Topic2\", \"Topic2\", \"Topic2\", \"Topic2\", \"Topic2\", \"Topic2\", \"Topic2\", \"Topic2\", \"Topic2\", \"Topic2\", \"Topic2\", \"Topic2\", \"Topic2\", \"Topic2\", \"Topic2\", \"Topic2\", \"Topic2\", \"Topic2\", \"Topic2\", \"Topic2\", \"Topic2\", \"Topic2\", \"Topic2\", \"Topic2\", \"Topic2\", \"Topic2\", \"Topic2\", \"Topic2\", \"Topic2\", \"Topic2\", \"Topic2\", \"Topic2\", \"Topic2\", \"Topic2\", \"Topic2\", \"Topic2\", \"Topic2\", \"Topic2\", \"Topic2\", \"Topic2\", \"Topic2\", \"Topic2\", \"Topic2\", \"Topic2\", \"Topic2\", \"Topic2\", \"Topic2\", \"Topic2\", \"Topic2\", \"Topic2\", \"Topic2\", \"Topic2\", \"Topic2\", \"Topic2\", \"Topic2\", \"Topic2\", \"Topic2\", \"Topic2\", \"Topic2\", \"Topic2\", \"Topic2\", \"Topic2\", \"Topic2\", \"Topic2\", \"Topic2\", \"Topic2\", \"Topic2\", \"Topic2\", \"Topic2\", \"Topic2\", \"Topic2\", \"Topic2\", \"Topic2\", \"Topic2\", \"Topic2\", \"Topic3\", \"Topic3\", \"Topic3\", \"Topic3\", \"Topic3\", \"Topic3\", \"Topic3\", \"Topic3\", \"Topic3\", \"Topic3\", \"Topic3\", \"Topic3\", \"Topic3\", \"Topic3\", \"Topic3\", \"Topic3\", \"Topic3\", \"Topic3\", \"Topic3\", \"Topic3\", \"Topic3\", \"Topic3\", \"Topic3\", \"Topic3\", \"Topic3\", \"Topic3\", \"Topic3\", \"Topic3\", \"Topic3\", \"Topic3\", \"Topic3\", \"Topic3\", \"Topic3\", \"Topic3\", \"Topic3\", \"Topic3\", \"Topic3\", \"Topic3\", \"Topic3\", \"Topic3\", \"Topic3\", \"Topic3\", \"Topic3\", \"Topic3\", \"Topic3\", \"Topic3\", \"Topic3\", \"Topic3\", \"Topic3\", \"Topic3\", \"Topic3\", \"Topic3\", \"Topic3\", \"Topic3\", \"Topic3\", \"Topic3\", \"Topic3\", \"Topic3\", \"Topic3\", \"Topic3\", \"Topic3\", \"Topic3\", \"Topic3\", \"Topic3\", \"Topic3\", \"Topic3\", \"Topic3\", \"Topic3\", \"Topic3\", \"Topic3\", \"Topic3\", \"Topic3\", \"Topic3\", \"Topic3\", \"Topic3\", \"Topic3\", \"Topic3\", \"Topic3\", \"Topic4\", \"Topic4\", \"Topic4\", \"Topic4\", \"Topic4\", \"Topic4\", \"Topic4\", \"Topic4\", \"Topic4\", \"Topic4\", \"Topic4\", \"Topic4\", \"Topic4\", \"Topic4\", \"Topic4\", \"Topic4\", \"Topic4\", \"Topic4\", \"Topic4\", \"Topic4\", \"Topic4\", \"Topic4\", \"Topic4\", \"Topic4\", \"Topic4\", \"Topic4\", \"Topic4\", \"Topic4\", \"Topic4\", \"Topic4\", \"Topic4\", \"Topic4\", \"Topic4\", \"Topic4\", \"Topic4\", \"Topic4\", \"Topic4\", \"Topic4\", \"Topic4\", \"Topic4\", \"Topic4\", \"Topic4\", \"Topic4\", \"Topic4\", \"Topic4\", \"Topic4\", \"Topic4\", \"Topic4\", \"Topic4\", \"Topic4\", \"Topic4\", \"Topic4\", \"Topic4\", \"Topic4\", \"Topic4\", \"Topic4\", \"Topic4\", \"Topic4\", \"Topic4\", \"Topic4\", \"Topic4\", \"Topic4\", \"Topic4\", \"Topic4\", \"Topic4\", \"Topic5\", \"Topic5\", \"Topic5\", \"Topic5\", \"Topic5\", \"Topic5\", \"Topic5\", \"Topic5\", \"Topic5\", \"Topic5\", \"Topic5\", \"Topic5\", \"Topic5\", \"Topic5\", \"Topic5\", \"Topic5\", \"Topic5\", \"Topic5\", \"Topic5\", \"Topic5\", \"Topic5\", \"Topic5\", \"Topic5\", \"Topic5\", \"Topic5\", \"Topic5\", \"Topic5\", \"Topic5\", \"Topic5\", \"Topic5\", \"Topic5\", \"Topic5\", \"Topic5\", \"Topic5\", \"Topic5\", \"Topic5\", \"Topic5\", \"Topic5\", \"Topic5\", \"Topic5\", \"Topic5\", \"Topic5\", \"Topic5\", \"Topic5\", \"Topic5\", \"Topic5\", \"Topic5\", \"Topic5\", \"Topic5\", \"Topic5\", \"Topic5\", \"Topic5\", \"Topic5\", \"Topic5\", \"Topic5\", \"Topic5\", \"Topic5\", \"Topic5\", \"Topic5\", \"Topic5\", \"Topic5\", \"Topic5\", \"Topic5\", \"Topic5\", \"Topic5\", \"Topic5\", \"Topic5\", \"Topic5\", \"Topic5\", \"Topic5\", \"Topic5\", \"Topic5\", \"Topic5\", \"Topic6\", \"Topic6\", \"Topic6\", \"Topic6\", \"Topic6\", \"Topic6\", \"Topic6\", \"Topic6\", \"Topic6\", \"Topic6\", \"Topic6\", \"Topic6\", \"Topic6\", \"Topic6\", \"Topic6\", \"Topic6\", \"Topic6\", \"Topic6\", \"Topic6\", \"Topic6\", \"Topic6\", \"Topic6\", \"Topic6\", \"Topic6\", \"Topic6\", \"Topic6\", \"Topic6\", \"Topic6\", \"Topic6\", \"Topic6\", \"Topic6\", \"Topic6\", \"Topic6\", \"Topic6\", \"Topic6\", \"Topic6\", \"Topic6\", \"Topic6\", \"Topic6\", \"Topic6\", \"Topic6\", \"Topic6\", \"Topic6\", \"Topic6\", \"Topic6\", \"Topic6\", \"Topic6\", \"Topic6\", \"Topic6\", \"Topic6\", \"Topic6\", \"Topic6\", \"Topic6\", \"Topic6\", \"Topic6\", \"Topic6\", \"Topic6\", \"Topic6\", \"Topic6\", \"Topic6\", \"Topic6\", \"Topic6\", \"Topic6\", \"Topic6\", \"Topic6\", \"Topic6\", \"Topic6\", \"Topic6\", \"Topic6\", \"Topic6\", \"Topic6\", \"Topic6\", \"Topic6\", \"Topic6\", \"Topic6\", \"Topic6\", \"Topic6\", \"Topic6\", \"Topic7\", \"Topic7\", \"Topic7\", \"Topic7\", \"Topic7\", \"Topic7\", \"Topic7\", \"Topic7\", \"Topic7\", \"Topic7\", \"Topic7\", \"Topic7\", \"Topic7\", \"Topic7\", \"Topic7\", \"Topic7\", \"Topic7\", \"Topic7\", \"Topic7\", \"Topic7\", \"Topic7\", \"Topic7\", \"Topic7\", \"Topic7\", \"Topic7\", \"Topic7\", \"Topic7\", \"Topic7\", \"Topic7\", \"Topic7\", \"Topic7\", \"Topic7\", \"Topic7\", \"Topic7\", \"Topic7\", \"Topic7\", \"Topic7\", \"Topic7\", \"Topic7\", \"Topic7\", \"Topic7\", \"Topic7\", \"Topic7\", \"Topic7\", \"Topic7\", \"Topic7\", \"Topic7\", \"Topic7\", \"Topic7\", \"Topic7\", \"Topic7\", \"Topic7\", \"Topic7\", \"Topic7\", \"Topic7\", \"Topic7\", \"Topic7\", \"Topic7\", \"Topic7\", \"Topic7\", \"Topic7\", \"Topic7\", \"Topic7\", \"Topic7\", \"Topic7\", \"Topic7\", \"Topic7\", \"Topic7\", \"Topic7\", \"Topic7\", \"Topic7\", \"Topic7\", \"Topic7\", \"Topic7\", \"Topic7\", \"Topic7\", \"Topic7\", \"Topic7\", \"Topic7\", \"Topic8\", \"Topic8\", \"Topic8\", \"Topic8\", \"Topic8\", \"Topic8\", \"Topic8\", \"Topic8\", \"Topic8\", \"Topic8\", \"Topic8\", \"Topic8\", \"Topic8\", \"Topic8\", \"Topic8\", \"Topic8\", \"Topic8\", \"Topic8\", \"Topic8\", \"Topic8\", \"Topic8\", \"Topic8\", \"Topic8\", \"Topic8\", \"Topic8\", \"Topic8\", \"Topic8\", \"Topic8\", \"Topic8\", \"Topic8\", \"Topic8\", \"Topic8\", \"Topic8\", \"Topic8\", \"Topic8\", \"Topic8\", \"Topic8\", \"Topic8\", \"Topic8\", \"Topic8\", \"Topic8\", \"Topic8\", \"Topic8\", \"Topic8\", \"Topic8\", \"Topic8\", \"Topic8\", \"Topic8\", \"Topic8\", \"Topic8\", \"Topic8\", \"Topic8\", \"Topic8\", \"Topic8\", \"Topic8\", \"Topic8\", \"Topic8\", \"Topic8\", \"Topic8\", \"Topic8\", \"Topic8\", \"Topic8\", \"Topic8\", \"Topic8\", \"Topic8\", \"Topic8\", \"Topic8\", \"Topic8\", \"Topic8\", \"Topic8\", \"Topic8\", \"Topic8\", \"Topic9\", \"Topic9\", \"Topic9\", \"Topic9\", \"Topic9\", \"Topic9\", \"Topic9\", \"Topic9\", \"Topic9\", \"Topic9\", \"Topic9\", \"Topic9\", \"Topic9\", \"Topic9\", \"Topic9\", \"Topic9\", \"Topic9\", \"Topic9\", \"Topic9\", \"Topic9\", \"Topic9\", \"Topic9\", \"Topic9\", \"Topic9\", \"Topic9\", \"Topic9\", \"Topic9\", \"Topic9\", \"Topic9\", \"Topic9\", \"Topic9\", \"Topic9\", \"Topic9\", \"Topic9\", \"Topic9\", \"Topic9\", \"Topic9\", \"Topic9\", \"Topic9\", \"Topic9\", \"Topic9\", \"Topic9\", \"Topic9\", \"Topic9\", \"Topic9\", \"Topic9\", \"Topic9\", \"Topic9\", \"Topic9\", \"Topic9\", \"Topic9\", \"Topic9\", \"Topic9\", \"Topic9\", \"Topic9\", \"Topic9\", \"Topic9\", \"Topic9\", \"Topic9\", \"Topic9\", \"Topic9\", \"Topic9\", \"Topic9\", \"Topic9\", \"Topic9\", \"Topic9\", \"Topic9\", \"Topic9\", \"Topic9\", \"Topic9\", \"Topic9\"], \"logprob\": [30.0, 29.0, 28.0, 27.0, 26.0, 25.0, 24.0, 23.0, 22.0, 21.0, 20.0, 19.0, 18.0, 17.0, 16.0, 15.0, 14.0, 13.0, 12.0, 11.0, 10.0, 9.0, 8.0, 7.0, 6.0, 5.0, 4.0, 3.0, 2.0, 1.0, -5.8223, -4.9579, -6.0821, -6.2004, -6.5322, -6.6704, -6.6906, -6.879, -6.9415, -6.7136, -7.0366, -6.9711, -6.9206, -7.2774, -7.2774, -7.2602, -7.3334, -7.3335, -6.4682, -7.5005, -7.5231, -7.5465, -7.4368, -7.1181, -7.5707, -7.5473, -5.8827, -7.7573, -7.5298, -7.8177, -5.0066, -5.3191, -6.212, -6.4956, -4.9495, -5.7272, -7.054, -5.5404, -5.5818, -6.1509, -6.2726, -5.6531, -6.1114, -5.9982, -5.8021, -5.7146, -5.5187, -5.4731, -5.6593, -5.5968, -6.1584, -6.2206, -5.8523, -5.4234, -4.5346, -5.1874, -4.8031, -5.9238, -5.8987, -5.6627, -5.4301, -5.506, -5.7451, -5.2803, -5.3538, -5.5473, -5.6339, -5.7202, -5.6259, -5.6156, -5.4825, -5.7287, -5.7138, -5.9209, -6.1669, -6.9055, -6.1084, -6.9342, -7.1386, -7.1386, -7.1926, -7.193, -7.3313, -5.5, -7.5973, -7.5973, -7.4715, -7.6269, -7.7146, -7.7792, -7.7796, -7.8126, -7.8142, -7.6903, -7.9215, -7.9605, -7.9614, -6.4745, -8.0012, -7.9624, -8.0023, -7.6666, -6.9486, -5.9282, -5.0618, -6.3898, -5.6613, -6.7122, -6.5744, -6.3807, -6.8531, -5.7332, -6.7492, -7.305, -5.2738, -5.1761, -5.6067, -5.1764, -6.0048, -6.6692, -5.7941, -5.4866, -5.0206, -5.5357, -5.9472, -4.94, -6.2962, -4.7422, -5.4687, -6.0557, -5.9514, -4.9941, -6.252, -5.9274, -4.4715, -5.766, -5.6585, -5.6746, -5.8393, -5.4219, -5.6888, -5.3603, -5.8088, -5.4197, -5.8051, -5.7346, -5.8345, -5.8364, -5.7484, -5.9371, -6.2552, -6.6042, -6.7986, -6.8954, -6.9655, -7.0025, -7.0605, -6.9856, -7.211, -7.211, -7.2831, -7.2835, -7.2843, -7.3609, -7.3615, -7.4163, -7.5056, -7.5059, -7.4761, -7.5061, -7.5376, -7.538, -7.6387, -7.6387, -7.6388, -7.6762, -6.865, -7.7125, -7.0408, -6.554, -6.4545, -6.7007, -7.1658, -6.6799, -7.1458, -5.4793, -6.7901, -6.4244, -5.8459, -6.0433, -5.7985, -6.8142, -5.5809, -5.6873, -6.1883, -5.5311, -6.2611, -5.405, -6.116, -5.0969, -6.0725, -5.6118, -6.3775, -6.3808, -5.7837, -5.9744, -4.8043, -5.3928, -5.3919, -5.2824, -5.6807, -5.7298, -5.1156, -5.1953, -5.1516, -6.0001, -5.5466, -5.5873, -5.6264, -5.4068, -5.5069, -5.3815, -5.2361, -5.7828, -5.854, -5.8514, -5.4154, -5.7275, -5.8834, -5.9576, -6.0077, -6.0682, -4.5617, -6.3875, -6.4425, -6.501, -6.7149, -6.7923, -6.7932, -7.0069, -6.9878, -7.1121, -6.306, -5.9713, -7.1574, -7.1809, -7.2049, -7.2298, -7.3073, -7.3349, -7.4521, -7.4524, -7.4839, -7.484, -5.6019, -7.5851, -6.2541, -4.0249, -5.8861, -5.4619, -6.3888, -6.1271, -6.4928, -5.4763, -6.5812, -5.1218, -5.8039, -6.2667, -4.5088, -6.1818, -6.091, -4.8966, -5.001, -5.9023, -5.5004, -4.6515, -5.6031, -5.6183, -5.155, -6.0391, -6.0106, -5.3309, -5.7641, -5.5211, -5.6707, -5.8914, -5.689, -5.6774, -5.7519, -5.8519, -5.8631, -6.5325, -6.662, -6.2878, -7.5454, -7.7424, -7.7907, -6.4803, -6.4441, -7.2004, -7.9991, -8.0589, -8.0592, -8.1229, -8.1231, -8.2652, -8.2652, -8.2655, -8.2667, -7.6174, -8.4306, -8.4309, -8.4309, -8.4317, -8.4319, -8.4318, -7.2022, -8.2087, -8.5252, -8.5263, -7.6325, -4.5983, -7.8891, -7.0877, -5.1152, -6.9569, -4.8075, -4.3924, -6.0624, -7.8377, -5.2932, -6.4044, -4.6236, -5.682, -6.5069, -7.1571, -5.5808, -4.6135, -5.1008, -5.6334, -6.9443, -5.4766, -5.4368, -5.8034, -5.6051, -4.9305, -5.7883, -6.1922, -5.8794, -5.352, -6.427, -5.2807, -5.6995, -5.7662, -5.3574, -5.1426, -5.6078, -5.9504, -5.382, -5.9361, -5.8426, -5.8661, -5.8384, -5.9248, -6.5812, -6.804, -7.115, -7.165, -7.3621, -5.2243, -7.3339, -7.3955, -7.5317, -7.6487, -7.6488, -7.7355, -7.8303, -7.9352, -7.1936, -8.0531, -7.37, -8.2583, -7.4316, -8.3378, -8.3378, -8.3383, -8.3389, -5.9413, -8.4241, -8.4242, -8.4254, -8.5184, -8.5187, -8.5187, -6.6737, -7.8303, -7.0722, -6.4174, -7.8821, -5.5327, -4.8641, -6.5679, -6.6748, -5.5729, -6.2826, -6.7351, -6.292, -4.5125, -5.8629, -5.9678, -6.197, -6.435, -5.9395, -6.4252, -5.8509, -5.2841, -6.6353, -6.129, -5.4507, -5.5402, -5.6792, -6.2719, -5.0128, -5.8896, -6.0754, -5.4233, -5.7823, -5.7764, -6.088, -5.9613, -5.116, -5.742, -5.7293, -5.9885, -5.5594, -6.0116, -5.8925, -5.8445, -6.0083, -5.9169, -5.9062, -5.9895, -5.8509, -5.9931, -6.4186, -6.6854, -6.7093, -6.9654, -6.9935, -7.0498, -6.9429, -7.2433, -6.3128, -6.8163, -7.5782, -7.6854, -7.7398, -7.7398, -7.74, -7.7398, -7.8, -7.8001, -7.8011, -6.2641, -7.8646, -6.3757, -7.9333, -7.9329, -7.9332, -8.0062, -8.0064, -7.7044, -6.4945, -7.283, -7.3237, -6.9344, -6.6686, -6.9937, -6.5031, -6.7695, -5.9858, -6.4696, -6.9284, -5.2646, -4.9037, -6.5372, -6.9801, -4.8969, -5.0458, -5.9334, -6.6889, -5.6698, -6.0768, -5.267, -5.5606, -6.4318, -5.8533, -6.0643, -6.4527, -5.8107, -5.9226, -5.4337, -5.3532, -6.0211, -5.4892, -6.0857, -5.9127, -5.9537, -5.4349, -5.9246, -6.0851, -5.6124, -5.6501, -6.1242, -6.0871, -6.014, -6.0538, -5.9275, -6.0232, -6.0457, -6.0499, -5.0418, -6.5301, -6.5726, -6.5726, -6.6634, -6.6874, -6.7373, -6.7898, -6.7898, -6.6915, -6.9039, -6.904, -6.9041, -6.9345, -6.9661, -6.9661, -6.9988, -7.0681, -7.1039, -7.0691, -7.142, -7.1804, -7.1804, -7.1811, -7.2211, -7.2635, -7.2634, -6.5305, -7.3077, -7.3077, -5.5632, -5.9371, -6.535, -4.7559, -5.9065, -4.6799, -6.059, -6.0872, -4.3134, -6.4957, -5.2134, -5.5764, -6.3776, -5.8162, -5.9829, -5.4042, -5.8315, -5.8454, -5.2151, -5.0858, -5.2289, -5.2117, -5.4108, -5.7938, -5.1108, -5.7009, -4.9291, -5.5654, -6.3524, -5.9283, -5.7706, -6.0776, -5.8436, -5.5276, -5.4754, -5.6414, -5.5817, -5.7194, -5.6649, -5.8594, -5.8166, -5.8382, -5.9694, -6.1097, -6.3914, -6.4961, -6.5236, -6.6449, -6.6773, -5.7807, -6.9861, -7.0355, -6.038, -7.2426, -7.2427, -7.3027, -7.3028, -7.2488, -6.505, -7.4353, -7.4354, -7.509, -7.5091, -7.5883, -7.5888, -7.6747, -7.675, -7.6766, -7.6756, -6.4999, -7.7687, -7.7687, -6.0091, -7.0397, -6.7478, -6.0362, -7.1896, -5.057, -7.2009, -6.3797, -5.308, -7.2511, -6.138, -6.4018, -6.4616, -6.125, -5.3788, -6.564, -6.4258, -6.2029, -6.4155, -6.2546, -6.2094, -5.143, -6.6325, -5.9874, -5.8585, -5.5611, -6.2709, -6.1203, -6.0036, -5.7179, -6.0805, -5.7502, -6.1764, -6.0986, -6.2708, -5.9509, -6.0783, -6.077, -6.1719, -6.178, -6.1939], \"loglift\": [30.0, 29.0, 28.0, 27.0, 26.0, 25.0, 24.0, 23.0, 22.0, 21.0, 20.0, 19.0, 18.0, 17.0, 16.0, 15.0, 14.0, 13.0, 12.0, 11.0, 10.0, 9.0, 8.0, 7.0, 6.0, 5.0, 4.0, 3.0, 2.0, 1.0, 1.7271, 1.7263, 1.726, 1.7236, 1.7233, 1.7224, 1.722, 1.7201, 1.7197, 1.7195, 1.7187, 1.7165, 1.7158, 1.7154, 1.7154, 1.7149, 1.7145, 1.7144, 1.7138, 1.7114, 1.7111, 1.7107, 1.7106, 1.7105, 1.7101, 1.71, 1.7064, 1.706, 1.7051, 1.7046, 1.7039, 1.6985, 1.7008, 1.703, 1.6777, 1.6904, 1.7017, 1.6667, 1.6629, 1.6774, 1.6771, 1.6439, 1.6566, 1.6463, 1.6023, 1.5918, 1.5678, 1.5389, 1.5581, 1.5331, 1.5918, 1.5777, 1.4653, 1.3267, 0.9535, 1.1796, 0.966, 1.4109, 1.3666, 1.1646, 0.7846, 0.8711, 1.1053, 0.2276, 0.2364, 0.5744, 0.7295, 0.8761, 0.5911, 0.4428, -0.3503, 0.3739, 0.0861, 1.841, 1.8391, 1.8341, 1.834, 1.8333, 1.8312, 1.8311, 1.8303, 1.8301, 1.828, 1.8244, 1.8225, 1.8224, 1.8214, 1.8204, 1.8196, 1.8176, 1.8172, 1.8169, 1.8156, 1.8146, 1.8136, 1.8123, 1.8118, 1.811, 1.811, 1.8108, 1.8099, 1.8086, 1.8081, 1.8035, 1.7881, 1.7969, 1.7865, 1.7964, 1.7919, 1.7835, 1.7818, 1.7208, 1.7717, 1.7937, 1.6829, 1.6662, 1.6909, 1.645, 1.6794, 1.7391, 1.6291, 1.5422, 1.4557, 1.5404, 1.6127, 1.4222, 1.6668, 1.3163, 1.4442, 1.5885, 1.5392, 1.2206, 1.6213, 1.4448, 0.6607, 1.3332, 1.2213, 1.2058, 1.3374, 0.9573, 1.1402, 0.4935, 1.2127, 0.0882, 1.1247, 0.6162, 1.0959, 0.7111, 2.0573, 2.0563, 2.0543, 2.0508, 2.0488, 2.0474, 2.0463, 2.0457, 2.0448, 2.0443, 2.0421, 2.0421, 2.0406, 2.0403, 2.0395, 2.0389, 2.0384, 2.0376, 2.0353, 2.0351, 2.0351, 2.035, 2.0342, 2.034, 2.0316, 2.0316, 2.0315, 2.0304, 2.03, 2.0293, 2.0263, 2.0207, 2.0191, 2.021, 2.0217, 2.0029, 2.0208, 1.9477, 2.0009, 1.9706, 1.9026, 1.913, 1.8306, 1.9607, 1.7647, 1.7476, 1.822, 1.6531, 1.803, 1.5839, 1.7517, 1.4198, 1.7145, 1.5529, 1.8076, 1.7918, 1.4852, 1.5771, 0.9648, 1.2369, 1.2316, 1.1254, 1.3439, 1.3532, 0.8644, 0.7368, 0.6484, 1.4825, 0.8409, 0.8482, 0.9022, 0.447, 0.502, 0.2088, -0.1039, 0.4341, 0.7577, 0.4935, 2.115, 2.1137, 2.1129, 2.1124, 2.1122, 2.1118, 2.1117, 2.1092, 2.1087, 2.1081, 2.1056, 2.1046, 2.1038, 2.1013, 2.1012, 2.0994, 2.0991, 2.0991, 2.0985, 2.0981, 2.0976, 2.097, 2.0953, 2.0945, 2.0918, 2.0917, 2.0908, 2.0908, 2.0889, 2.088, 2.0879, 2.0616, 2.0709, 2.0432, 2.0657, 2.0546, 2.0602, 1.9755, 2.053, 1.9029, 1.9644, 2.0005, 1.7375, 1.9838, 1.9631, 1.564, 1.432, 1.6951, 1.3982, 0.4807, 1.2242, 1.1446, 0.4352, 1.6005, 1.5287, 0.177, 1.0216, 0.411, 0.6484, 1.1932, 0.4136, 0.1764, 0.257, 0.6656, -0.0632, 2.1928, 2.1912, 2.1803, 2.1661, 2.1657, 2.1622, 2.1575, 2.1569, 2.155, 2.1544, 2.1517, 2.1516, 2.1483, 2.1482, 2.1399, 2.1399, 2.1399, 2.139, 2.13, 2.1287, 2.1287, 2.1287, 2.1286, 2.1286, 2.1286, 2.128, 2.1279, 2.1215, 2.1214, 2.1155, 2.1136, 2.1154, 2.1058, 2.0635, 2.0967, 2.0254, 2.0124, 2.0622, 2.1145, 2.0196, 2.0548, 1.9296, 1.9862, 2.0164, 2.0595, 1.9219, 1.8241, 1.8619, 1.9022, 2.0375, 1.7497, 1.7, 1.7592, 1.7136, 1.5453, 1.6588, 1.6951, 1.506, 1.201, 1.7577, 0.9954, 1.2568, 1.2017, 0.6294, 0.3455, 0.9096, 1.2561, 0.1259, 1.1679, 0.9431, 0.63, -0.0384, 0.1778, 2.2043, 2.2012, 2.1956, 2.1945, 2.1898, 2.1893, 2.1883, 2.1878, 2.1846, 2.1809, 2.1809, 2.1777, 2.1739, 2.1693, 2.1666, 2.1634, 2.1531, 2.1518, 2.1516, 2.1466, 2.1464, 2.1464, 2.1463, 2.1437, 2.1405, 2.1405, 2.139, 2.1332, 2.1332, 2.1332, 2.1253, 2.1274, 2.1081, 2.0857, 2.1213, 1.9906, 1.9077, 2.0261, 2.0332, 1.9384, 1.9833, 1.9702, 1.831, 1.4742, 1.5984, 1.6083, 1.6689, 1.7474, 1.555, 1.7078, 1.4212, 1.0667, 1.773, 1.4635, 1.0251, 1.0128, 1.1066, 1.4907, 0.4753, 1.1806, 1.3298, 0.6793, 1.0005, 0.9751, 1.334, 1.1379, 0.0162, 0.6955, 0.6377, 1.0632, -0.0515, 1.0692, 0.6607, 0.2772, 0.9046, 0.0631, -0.316, 0.5663, 2.4767, 2.4755, 2.4707, 2.4664, 2.4627, 2.4607, 2.4594, 2.4586, 2.4573, 2.4532, 2.4466, 2.4428, 2.441, 2.4341, 2.4335, 2.4335, 2.4335, 2.4335, 2.4304, 2.4304, 2.4303, 2.4294, 2.4269, 2.4244, 2.4229, 2.4229, 2.4227, 2.4184, 2.4184, 2.4148, 2.4096, 2.4129, 2.4121, 2.391, 2.3692, 2.3825, 2.3528, 2.3661, 2.3101, 2.3444, 2.373, 2.2462, 2.2026, 2.3327, 2.3683, 2.0676, 2.0572, 2.1807, 2.3113, 2.0417, 2.1436, 1.847, 1.9218, 2.1957, 1.7116, 1.8344, 2.0757, 1.5533, 1.6151, 1.1735, 0.6336, 1.5186, 0.7869, 1.5544, 1.2506, 1.3076, 0.0532, 1.0551, 1.3192, -0.1045, -0.0599, 1.3437, 1.1094, 0.6169, 0.732, -0.7953, -0.2233, 0.2885, 0.4462, 2.6777, 2.6631, 2.6623, 2.6623, 2.6604, 2.6599, 2.6588, 2.6576, 2.6575, 2.6557, 2.6546, 2.6546, 2.6545, 2.6538, 2.6529, 2.6529, 2.6519, 2.6498, 2.6487, 2.6483, 2.6473, 2.6461, 2.6461, 2.646, 2.6446, 2.643, 2.643, 2.6419, 2.6413, 2.6413, 2.6309, 2.6265, 2.6164, 2.5213, 2.5706, 2.438, 2.5556, 2.5416, 2.3438, 2.5641, 2.341, 2.3975, 2.4997, 2.3254, 2.3448, 2.1376, 2.261, 2.2613, 1.9962, 1.8959, 1.9584, 1.8855, 1.9389, 1.9459, 1.297, 1.7817, 0.84, 1.4592, 2.3789, 1.6723, 1.4136, 1.9157, 1.5154, 0.8599, 0.4566, 0.8753, 0.4272, 0.1345, -0.5327, 1.1767, -0.2264, -0.3303, 3.0506, 3.0482, 3.0422, 3.0392, 3.0389, 3.0352, 3.0344, 3.0341, 3.0229, 3.0179, 3.0108, 3.0106, 3.0105, 3.0072, 3.0072, 3.0047, 2.9997, 2.999, 2.999, 2.9941, 2.994, 2.9883, 2.9882, 2.9815, 2.9815, 2.9813, 2.9813, 2.9756, 2.9735, 2.9735, 2.9557, 2.9654, 2.955, 2.9227, 2.9535, 2.7791, 2.9411, 2.8317, 2.6448, 2.9432, 2.6864, 2.7435, 2.7459, 2.6506, 2.2836, 2.6625, 2.5711, 2.4048, 2.4967, 2.391, 2.2537, 1.2899, 2.5734, 1.5523, 1.2714, 0.4189, 1.8797, 1.3621, 0.9516, -0.1277, 1.0335, -0.618, 1.4453, 0.9572, 1.7913, -0.4431, 0.2666, -0.0186, 0.6595, 0.2574, 0.2611]}, \"token.table\": {\"Topic\": [3, 1, 3, 4, 5, 9, 1, 2, 4, 5, 6, 7, 8, 9, 1, 2, 3, 4, 5, 6, 7, 8, 9, 4, 4, 3, 9, 2, 2, 5, 2, 4, 9, 1, 2, 5, 6, 7, 9, 5, 1, 1, 7, 9, 1, 5, 7, 1, 4, 7, 9, 3, 1, 4, 9, 9, 2, 5, 7, 5, 6, 3, 9, 3, 4, 9, 3, 9, 5, 7, 9, 4, 4, 6, 8, 1, 2, 3, 4, 5, 6, 7, 8, 9, 5, 5, 9, 2, 9, 1, 4, 6, 7, 9, 1, 2, 4, 6, 7, 1, 2, 6, 2, 7, 1, 2, 6, 7, 8, 9, 2, 3, 2, 8, 3, 4, 8, 9, 1, 2, 3, 4, 5, 6, 7, 8, 9, 3, 1, 2, 3, 4, 5, 6, 7, 8, 9, 1, 2, 4, 5, 6, 7, 8, 9, 7, 9, 5, 6, 7, 8, 1, 3, 8, 5, 7, 4, 1, 2, 1, 2, 3, 4, 5, 6, 7, 8, 9, 6, 6, 1, 2, 3, 4, 5, 6, 7, 8, 9, 1, 2, 3, 4, 5, 6, 7, 8, 1, 4, 5, 6, 7, 8, 1, 1, 2, 4, 5, 6, 7, 1, 2, 4, 6, 7, 1, 2, 3, 4, 5, 6, 7, 9, 4, 5, 6, 7, 8, 5, 1, 3, 4, 5, 6, 7, 8, 9, 5, 6, 7, 8, 3, 4, 7, 8, 3, 5, 6, 7, 8, 6, 2, 1, 2, 3, 5, 6, 7, 8, 9, 1, 2, 4, 7, 9, 1, 2, 3, 4, 5, 6, 7, 8, 9, 4, 5, 6, 9, 3, 4, 7, 8, 9, 3, 8, 2, 5, 6, 1, 2, 3, 4, 5, 6, 7, 8, 9, 1, 2, 3, 4, 5, 6, 7, 8, 9, 4, 9, 3, 6, 1, 2, 3, 4, 5, 6, 7, 8, 9, 1, 2, 6, 1, 2, 3, 4, 5, 6, 7, 8, 9, 1, 2, 3, 4, 5, 7, 8, 3, 4, 8, 9, 6, 4, 4, 1, 2, 5, 6, 7, 9, 7, 1, 2, 4, 6, 7, 9, 1, 2, 4, 6, 9, 9, 4, 2, 5, 6, 7, 1, 5, 5, 6, 6, 7, 9, 9, 1, 3, 4, 5, 9, 9, 1, 9, 9, 2, 8, 1, 2, 3, 4, 5, 6, 7, 8, 9, 1, 2, 4, 5, 6, 7, 9, 1, 2, 3, 4, 5, 6, 7, 8, 9, 7, 2, 3, 4, 5, 6, 7, 9, 2, 7, 6, 8, 3, 8, 7, 2, 7, 1, 2, 3, 4, 5, 6, 7, 8, 9, 1, 8, 4, 1, 2, 6, 9, 3, 1, 2, 3, 4, 5, 6, 7, 8, 9, 1, 2, 3, 4, 5, 6, 7, 8, 9, 1, 2, 3, 4, 5, 6, 7, 8, 9, 1, 7, 7, 1, 5, 7, 4, 1, 4, 9, 6, 1, 2, 3, 4, 5, 6, 7, 8, 9, 2, 4, 6, 9, 1, 9, 9, 3, 9, 5, 4, 1, 3, 4, 9, 2, 6, 7, 1, 2, 3, 4, 5, 6, 7, 8, 9, 7, 8, 4, 7, 2, 5, 6, 2, 6, 2, 5, 6, 2, 5, 6, 7, 6, 2, 3, 4, 5, 6, 7, 8, 5, 7, 2, 6, 7, 1, 2, 3, 4, 6, 7, 6, 1, 2, 3, 4, 5, 6, 7, 8, 9, 3, 1, 2, 4, 5, 6, 7, 8, 9, 1, 2, 6, 7, 8, 2, 6, 9, 3, 8, 5, 7, 9, 2, 6, 7, 8, 9, 3, 3, 4, 5, 9, 4, 5, 1, 2, 5, 1, 2, 3, 4, 5, 6, 7, 8, 1, 2, 7, 9, 9, 1, 4, 9, 4, 2, 3, 4, 5, 6, 7, 8, 9, 1, 2, 4, 5, 6, 7, 9, 1, 2, 5, 6, 7, 9, 1, 2, 3, 4, 5, 6, 7, 8, 9, 8, 8, 5, 3, 4, 5, 6, 7, 8, 1, 2, 3, 4, 5, 6, 7, 8, 9, 6, 5, 4, 1, 2, 3, 4, 6, 8, 4, 1, 2, 6, 7, 8, 2, 4, 5, 6, 7, 8, 3, 4, 8, 9, 1, 7, 9, 3, 6, 1, 3, 4, 5, 7, 8, 9, 1, 1, 3, 2, 9, 2, 1, 2, 4, 5, 6, 7, 8, 9, 2, 3, 5, 1, 2, 3, 4, 5, 6, 7, 8, 9, 4, 5, 8, 1, 2, 1, 2, 3, 6, 8, 5, 7, 1, 2, 3, 4, 5, 6, 7, 8, 9, 1, 1, 2, 5, 6, 7, 3, 5, 6, 7, 9, 5, 9, 1, 2, 3, 4, 5, 6, 7, 8, 9, 1, 2, 5, 6, 3, 7, 9, 1, 1, 7, 3, 8, 1, 4, 7, 4, 8, 4, 9, 3, 4, 5, 9, 1, 2, 3, 4, 5, 6, 7, 8, 9, 1, 2, 4, 5, 6, 7, 9, 2, 4, 7, 2, 3, 4, 5, 6, 1, 2, 3, 4, 5, 6, 7, 8, 9, 1, 3, 4, 7, 1, 5, 6, 7, 3, 9, 5, 6, 7, 1, 2, 3, 4, 5, 6, 7, 8, 9, 1, 2, 5, 6, 7, 1, 2, 5, 6, 8, 1, 2, 3, 5, 6, 2, 3, 9, 1, 2, 4, 6, 7, 9, 3, 7, 8, 9, 2, 1, 1, 2, 3, 4, 5, 6, 7, 8, 9, 1, 2, 4, 7, 9, 1, 2, 4, 5, 6, 2, 9, 1, 9, 2, 3, 4, 5, 6, 7, 8, 2, 4, 5, 8, 9, 1, 2, 3, 5, 6, 7, 8, 9, 1, 2, 3, 6, 8, 9, 4, 8, 9, 9, 3, 2, 5, 6, 2, 3, 4, 6, 8, 9, 4, 5, 6, 7, 8, 9, 9, 4, 5, 6, 9, 2, 7, 7, 5, 9, 2, 4, 5, 6, 7, 2, 8, 8, 1, 2, 3, 4, 5, 6, 7, 8, 9, 1, 2, 4, 5, 6, 7, 9, 2, 7, 9, 1, 2, 3, 4, 5, 6, 7, 8, 9, 3, 4, 5, 6, 7, 8, 1, 2, 5, 6, 7, 8, 9, 2, 8, 5, 6, 7, 1, 4, 6, 8, 6, 4, 6, 3, 5, 5, 6, 1, 2, 4, 5, 6, 7, 9, 1, 2, 4, 5, 7, 8, 6, 1, 2, 4, 5, 6, 7, 9, 2, 9, 1, 4, 5, 9, 1, 2, 3, 4, 5, 6, 7, 8, 9, 3, 5, 7, 8, 5, 1, 2, 3, 4, 5, 6, 7, 8, 9, 1, 2, 3, 4, 5, 7, 8, 9, 1, 2, 3, 4, 5, 6, 7, 8, 9, 3, 1, 2, 5, 6, 9, 1, 2, 3, 5, 6, 8, 4, 6, 1, 2, 3, 4, 5, 6, 7, 8, 9, 3, 7, 6, 9, 7, 3, 5, 1, 2, 3, 4, 5, 6, 7, 8, 9, 1, 1, 3, 5, 1, 2, 4, 5, 6, 9, 1, 2, 9, 1, 6, 7, 9, 2, 5, 6, 7, 1, 2, 4, 5, 7, 1, 2, 3, 4, 5, 6, 7, 8, 9, 3, 1, 7, 5, 1, 2, 3, 4, 5, 6, 7, 8, 9, 3, 1, 4, 9, 3, 5, 6, 7, 9, 6, 1, 4, 5, 7, 1, 4, 7, 9, 1, 4, 5, 1, 4, 9, 7, 9, 3, 1, 2, 3, 5, 6, 7, 8, 1, 2, 3, 4, 5, 6, 9, 1, 2, 4, 5, 6, 9, 1, 2, 3, 4, 5, 6, 7, 8, 9, 1, 2, 1, 4, 4, 4, 1, 2, 3, 4, 5, 6, 7, 8, 9, 8, 8, 8, 8, 2, 6, 9, 3, 5, 8, 9, 2, 3, 9, 1, 2, 3, 4, 5, 6, 7, 8, 9, 1, 2, 4, 5, 6, 9, 1, 2, 3, 4, 5, 6, 7, 8, 9, 9, 1, 2, 4, 5, 6, 7, 8, 9, 4, 8, 6, 6, 8, 3, 5, 1, 2, 4, 5, 6, 7, 9, 6, 8, 1, 2, 3, 4, 5, 6, 7, 9, 1, 6, 7, 9, 1, 9, 2, 3, 6, 7, 8, 2, 5, 6, 7, 6, 7, 1, 2, 3, 4, 5, 6, 7, 8, 9, 9, 5, 1, 6, 7, 1, 4, 9, 1, 2, 3, 4, 5, 6, 7, 8, 9, 1, 2, 3, 4, 5, 6, 7, 8, 9, 1, 2, 3, 4, 5, 8, 9, 5, 9, 9, 4, 5, 6, 7, 9, 1, 2, 5, 6, 7, 9, 4, 5, 6, 7, 1, 4, 1, 5, 6, 9, 2, 5, 6, 9, 1, 2, 3, 4, 6, 8, 9, 2, 5, 6, 5, 6, 7, 1, 3, 4, 5, 6, 7, 8, 9, 1, 2, 3, 5, 6, 7, 9, 1, 2, 4, 6, 9, 1, 6, 9, 7, 7, 9, 1, 1, 2, 3, 4, 5, 6, 7, 8, 9, 2, 6, 1, 2, 6, 7, 8, 1, 4, 8, 9, 1, 2, 3, 4, 5, 7, 8, 9, 3, 4, 1, 2, 5, 6, 8, 6, 9, 6, 2, 5, 6, 7, 1, 5, 5, 1, 2, 3, 4, 5, 6, 7, 8, 9, 6, 2, 5, 1, 2, 3, 4, 5, 6, 7, 8, 9, 1, 2, 3, 4, 5, 6, 8, 5, 8, 9, 1, 3, 9, 2, 3, 4, 5, 9, 3, 3, 1, 2, 4, 5, 6, 7, 8, 2, 1, 2, 3, 5, 6, 7, 8, 9, 8, 8, 1, 2, 3, 4, 5, 6, 7, 8, 9, 2, 4, 5, 7, 9, 3, 3, 1, 2, 3, 4, 6, 8, 9, 1, 1, 4, 5, 6, 7, 8, 9, 4, 2, 3, 5, 6, 7, 8, 1, 3, 4, 7, 2, 3, 4, 8, 9, 1, 2, 3, 4, 5, 6, 7, 8, 9, 2, 5, 6, 7, 9, 3, 6, 7, 1, 5, 3, 1, 5, 7, 1, 2, 3, 4, 5, 6, 7, 9, 1, 2, 3, 4, 5, 6, 7, 8, 9, 1, 2, 4, 5, 6, 7, 8, 9, 2, 5, 6, 7, 1, 2, 3, 4, 5, 6, 7, 8, 9, 1, 2, 3, 4, 5, 6, 7, 8, 9, 4, 4, 7, 1, 2, 3, 4, 5, 6, 7, 9, 1, 2, 3, 6, 7, 9, 1, 2, 3, 4, 5, 6, 7, 8, 9, 1, 2, 5, 6, 9, 1, 2, 6, 9, 1, 4, 6, 7, 9, 3, 1, 1, 2, 3, 5, 6, 8, 9, 1, 2, 3, 4, 5, 6, 7, 9, 3, 9, 1, 3, 4, 6, 8, 2, 1, 3, 4, 7, 8, 9, 4, 1, 2, 3, 4, 5, 6, 7, 8, 9, 2, 4, 3, 9, 1, 2, 5, 6, 4, 5, 6, 7, 3, 3, 1, 7, 9, 9, 5, 6, 7, 4, 1, 2, 3, 4, 5, 6, 7, 9, 8, 1, 2, 3, 4, 5, 6, 7, 8, 9, 1, 2, 4, 2, 5, 6, 7, 6, 7, 5, 6, 1, 2, 3, 4, 5, 6, 7, 8, 9, 1, 2, 6, 8, 9, 3, 5, 9, 1, 3, 5, 6, 7, 8, 9, 9, 4, 1, 2, 3, 4, 5, 6, 7, 8, 9, 1, 2, 3, 4, 5, 6, 7, 8, 9, 6, 1, 2, 3, 4, 5, 6, 7, 8, 9, 8, 1, 2, 3, 4, 5, 7, 8, 9, 1, 2, 3, 4, 5, 6, 7, 8, 9, 1, 3, 4, 5, 6, 7, 1, 2, 3, 4, 5, 6, 7, 8, 9, 5, 6, 7, 1, 6, 1, 2, 1, 2, 3, 6, 7, 9, 1, 2, 3, 4, 5, 6, 7, 8, 9, 6, 2, 5, 6, 1, 3, 4, 5, 8, 9, 8, 1, 2, 3, 4, 5, 6, 7, 8, 9, 9, 3, 1, 2, 3, 4, 5, 6, 7, 9, 7, 7, 8, 1, 2, 3, 4, 5, 6, 8, 6, 5, 1, 4, 5, 7, 9, 1, 2, 3, 5, 6, 7, 8, 9, 1, 2, 3, 4, 5, 6, 7, 8, 9, 1, 9, 1, 2, 5, 6, 7, 9, 1, 3, 4, 6, 8, 5, 7, 7, 1, 4, 7, 8, 1, 2, 3, 4, 5, 6, 7, 8, 2, 3, 6, 2, 3, 4, 5, 6, 7, 8, 1, 2, 3, 4, 5, 6, 7, 8, 9, 1, 2, 4, 9, 1, 2, 3, 4, 5, 7, 8, 9, 3, 1, 8, 1, 2, 3, 4, 7, 8, 3, 4, 1, 3, 4, 5, 6, 7, 8, 9, 2, 3, 4, 6, 8, 1, 1, 2, 3, 4, 5, 6, 7, 8, 9, 7, 9, 4, 8, 7, 1, 2, 3, 4, 5, 6, 7, 8, 9, 1, 2, 4, 5, 6, 7, 1, 2, 3, 4, 5, 6, 7, 8, 9, 7, 7, 1, 1, 1, 1, 2, 3, 4, 5, 6, 7, 8, 9, 2, 2, 2, 2, 4, 5, 8, 9], \"Freq\": [0.9597851002652463, 0.012880274575814862, 0.025760549151629723, 0.9402600440344849, 0.012880274575814862, 0.012880274575814862, 0.03979199977740883, 0.017685333234403924, 0.31833599821927067, 0.03537066646880785, 0.0928479994806206, 0.45981866409450206, 0.017685333234403924, 0.017685333234403924, 0.10060106723443368, 0.1035599221530935, 0.09468335739711405, 0.04734167869855702, 0.06805366312917573, 0.12131305166505238, 0.2899677820286618, 0.05325938853587665, 0.11835419674639257, 0.9951749205614511, 0.9937545309746604, 0.969369099074122, 0.8984761674694565, 0.9874501765850294, 0.9866839333980868, 0.006448914597373116, 0.9682614331824096, 0.9728049336493413, 0.025072292104364468, 0.254912316835422, 0.7376186189280296, 0.005423666315647276, 0.07530302595555086, 0.9036363114666104, 0.9677662003705548, 0.8833120094521073, 0.9835628967795538, 0.3258153402753225, 0.0130326136110129, 0.6581469873561514, 0.08152424230215996, 0.04891454538129598, 0.8641569684028956, 0.019285491766882344, 0.05785647530064704, 0.8871326212765879, 0.019285491766882344, 0.9976087490761678, 0.07932449742711428, 0.8581468358024181, 0.05769054358335585, 0.875616432291144, 0.9315535623962035, 0.03450198379245198, 0.03450198379245198, 0.9710120078164001, 0.010910247278835956, 0.5535844349725423, 0.4450384673308673, 0.45157205034060877, 0.02508733613003382, 0.5142903906656933, 0.3115659285547715, 0.6854450428204972, 0.04253171994716921, 0.8931661188905533, 0.04253171994716921, 0.9958409988008393, 0.9934730052938573, 0.001812906943966893, 0.003625813887933786, 0.07082518113152697, 0.14165036226305394, 0.2955589289527183, 0.04903281770644175, 0.11713395340983307, 0.06946315841745915, 0.06673911298932349, 0.16208070297407134, 0.028602476995424352, 0.96370457096055, 0.9127217100643673, 0.05070676167024263, 0.978099327177189, 0.9836130698475515, 0.012493145430465593, 0.928657143664609, 0.03747943629139678, 0.004164381810155197, 0.020821909050775987, 0.02162668857566324, 0.9429236218989172, 0.025952026290795887, 0.002162668857566324, 0.004325337715132648, 0.020495558777276775, 0.9427957037547317, 0.020495558777276775, 0.8939708912576156, 0.09247974737147749, 0.06986580281491618, 0.06986580281491618, 0.023288600938305395, 0.09315440375322158, 0.06986580281491618, 0.6753694272108565, 0.019856838490523807, 0.9729850860356665, 0.9758051805166474, 0.9656018105025944, 0.03943092064629079, 0.03943092064629079, 0.8871957145415429, 0.03943092064629079, 0.18458311792322915, 0.017062305018113618, 0.0698003387104648, 0.2342189143395597, 0.2745479989278282, 0.04188020322627888, 0.0961693555566404, 0.06359586415842348, 0.020164542294134277, 0.9806038160244904, 0.017740177622431987, 0.0437591048019989, 0.1821324902569684, 0.6835881777177125, 0.021288213146918384, 0.02365357016324265, 0.011826785081621325, 0.016557499114269854, 0.0011826785081621325, 0.11934483676327241, 0.11211181635337712, 0.061480673484110036, 0.19529155106717305, 0.11211181635337712, 0.39419961233929374, 0.003616510204947649, 0.003616510204947649, 0.9776229990920066, 0.9530600407017791, 0.9137816376368375, 0.07536343403190413, 0.0018840858507976031, 0.009420429253988016, 0.9748560271080866, 0.008332102795795613, 0.016664205591591225, 0.9594066691469655, 0.03737948061611554, 0.9599690909281328, 0.0298665646144389, 0.9557300676620448, 0.16718841271087215, 0.043614368533271, 0.10176685991096565, 0.043614368533271, 0.05815249137769466, 0.1526502898664485, 0.13811216702202483, 0.014538122844423665, 0.27622433404404967, 0.8878507659460737, 0.9893160965839203, 0.046239439993318525, 0.009734618945961795, 0.1946923789192359, 0.1046471536690893, 0.36748186521005777, 0.23606450943957352, 0.02190289262841404, 0.007300964209471347, 0.012168273682452244, 0.03245197981064732, 0.060847462144963727, 0.1480621578860784, 0.3346610417973005, 0.12777967050442382, 0.16023165031507114, 0.12169492428992745, 0.014197741167158202, 0.9968987055722894, 0.029051516982429026, 0.7093412063209754, 0.2324121358594322, 0.00968383899414301, 0.01936767798828602, 0.9907881813592997, 0.012571635549854823, 0.142478536231688, 0.008381090366569881, 0.07542981329912894, 0.7584886781745743, 0.926287053797623, 0.024595507124059935, 0.2705505783646593, 0.05738951662280651, 0.623086180476185, 0.01639700474937329, 0.2027859958283683, 0.5348202087781142, 0.008913670146301903, 0.011142087682877378, 0.02674101043890571, 0.1916439081454909, 0.017827340292603806, 0.004456835073150952, 0.011527611214516967, 0.8299880074452216, 0.09222088971613573, 0.057638056072584834, 0.9517177255779475, 0.9269971624024954, 0.14496151604670793, 0.03466471035899537, 0.01575668652681608, 0.6334187983780063, 0.0598754088019011, 0.06302674610726432, 0.03466471035899537, 0.012605349221452863, 0.8762394348108099, 0.046117864990042626, 0.06917679748506393, 0.9875293722164704, 0.21805864747180237, 0.056884864557861486, 0.009480810759643582, 0.7110608069732687, 0.0993607014720134, 0.0993607014720134, 0.028388771849146684, 0.028388771849146684, 0.7381080680778137, 0.8875678285485268, 0.9760630948467343, 0.030981146904962644, 0.09294344071488793, 0.030981146904962644, 0.11265871601804597, 0.059145825909474134, 0.5294959652848161, 0.016898807402706897, 0.12955752342075288, 0.040306439517989345, 0.024183863710793608, 0.8706190935885698, 0.048367727421587216, 0.008061287903597869, 0.16953176274660042, 0.07331103253907045, 0.01374581860107571, 0.04123745580322713, 0.10538460927491378, 0.1328762464770652, 0.01374581860107571, 0.36655516269535227, 0.09163879067383807, 0.8924086538500018, 0.017848173077000037, 0.044620432692500094, 0.05354451923100011, 0.8935495610976747, 0.011554520186607863, 0.011554520186607863, 0.04621808074643145, 0.034663560559823586, 0.7868106160584064, 0.20705542527852802, 0.004154513547622477, 0.7519669521196684, 0.2368072722144812, 0.16143287735523512, 0.05822169347237988, 0.0688074559219035, 0.005292881224761807, 0.10585762449523614, 0.31492643287332756, 0.16407931796761602, 0.0767467777590462, 0.04234304979809446, 0.056043237352624314, 0.12501952947893116, 0.08622036515788356, 0.008622036515788356, 0.06897629212630685, 0.02155509128947089, 0.37936960669468767, 0.030177127805259246, 0.21986193115260308, 0.9553543198075026, 0.03926113643044531, 0.9956463408242263, 0.8876930826462247, 0.12417020508966632, 0.48496665006718737, 0.02108550652466032, 0.011714170291477956, 0.154627047847509, 0.030456842757842682, 0.11948453697307514, 0.004685668116591182, 0.04685668116591182, 0.04737799785923894, 0.8561881041705323, 0.09475599571847788, 0.016730637822993083, 0.16730637822993083, 0.07528787020346887, 0.002788439637165514, 0.3541318339200203, 0.09201850802646197, 0.1979792142387515, 0.04182659455748271, 0.050191913468979256, 0.004970801501513704, 0.07953282402421927, 0.6188647869384561, 0.002485400750756852, 0.21622986531584615, 0.004970801501513704, 0.06959122102119186, 0.32831630703312115, 0.004319951408330541, 0.5788734887162925, 0.08639902816661083, 0.8716057821749634, 0.9896191840657147, 0.9700554510580048, 0.023895967635896413, 0.173245765360249, 0.06571391099871514, 0.579477215170488, 0.14337580581537848, 0.011947983817948206, 0.9369834581156153, 0.2754269930374214, 0.5890805082401789, 0.03724635493032745, 0.02058351193518096, 0.032345518755284366, 0.04606786004540501, 0.8213273051945534, 0.002861767613918305, 0.002861767613918305, 0.002861767613918305, 0.16598252160726168, 0.9741449354891507, 0.9884230995526301, 0.004293277230794882, 0.7384436836967196, 0.19749075261656457, 0.055812604000333464, 0.9833786965676241, 0.008194822471396867, 0.9013731817965008, 0.06760298863473756, 0.8895253349485379, 0.06671440012114034, 0.022238133373713446, 0.9776742571353274, 0.9263259502722597, 0.02166844328122245, 0.010834221640611225, 0.02708555410152806, 0.010834221640611225, 0.9542705110682543, 0.05974755067006917, 0.9260870353860722, 0.8762297291325092, 0.9655876897577129, 0.9709096722792658, 0.23206922031575122, 0.47117084124713127, 0.0023441335385429416, 0.009376534154171766, 0.03281786953960118, 0.19925135077615005, 0.01406480123125765, 0.01406480123125765, 0.023441335385429418, 0.004241251858238032, 0.01696500743295213, 0.025447511149428198, 0.11027254831418885, 0.7973553493487502, 0.03393001486590426, 0.012723755574714099, 0.05383270030368992, 0.2927973699444598, 0.06564963451669502, 0.03282481725834751, 0.16281109360140367, 0.31643123837047, 0.02494686111634411, 0.03151182456801361, 0.01969489035500851, 0.9098492179249413, 0.05030978491967714, 0.058694749072956666, 0.0111799522043727, 0.0111799522043727, 0.00558997610218635, 0.7546467737951572, 0.11179952204372699, 0.9879931980640086, 0.9261925224984378, 0.9792144014377863, 0.9760351514741579, 0.7421156154141888, 0.25565705411397893, 0.936598132113954, 0.9859827677282661, 0.9604579942481333, 0.02452279421705264, 0.378740932907813, 0.013623774565029246, 0.016348529478035095, 0.20163186356243282, 0.31607156990867846, 0.008174264739017547, 0.02724754913005849, 0.016348529478035095, 0.9771009126578012, 0.987517302984919, 0.974339693752085, 0.727005796434401, 0.23882316018134914, 0.028096842374276367, 0.003512105296784546, 0.9754378153739233, 0.07358051372508599, 0.5262121587612211, 0.08695878894782891, 0.024526837908362, 0.14493131491304817, 0.08918850148495272, 0.05128338835384782, 0.002229712537123818, 0.002229712537123818, 0.08022074922443495, 0.6709371753316378, 0.047403169996257016, 0.036463976920197705, 0.010939193076059311, 0.014585590768079084, 0.047403169996257016, 0.018231988460098852, 0.07657435153241518, 0.03719913262624668, 0.14613944960311198, 0.12753988328998864, 0.021256647214998106, 0.1886527440331082, 0.11956864058436434, 0.1806815013274839, 0.05845577984124479, 0.1222257214862391, 0.9898965611090983, 0.9637540484227154, 0.9697298611815203, 0.9739166690238006, 0.004529844972203724, 0.013589534916611171, 0.9596432654037543, 0.9366154905890691, 0.04018482302857392, 0.021637981630770575, 0.9704210685195368, 0.12715342428982315, 0.14077700546373276, 0.05222372783332022, 0.48590772853610986, 0.03405895293477405, 0.05449432469563849, 0.04541193724636541, 0.013623581173909622, 0.04314134038404714, 0.8057986544095539, 0.16883400378104937, 0.015348545798277217, 0.007674272899138608, 0.18351545007119127, 0.7799406628025629, 0.9182653126227612, 0.03075902252090618, 0.9227706756271854, 0.9087860049908256, 0.9865500233805431, 0.011875512949113307, 0.023751025898226613, 0.9381655229799513, 0.011875512949113307, 0.025709738482354846, 0.05141947696470969, 0.8998408468824196, 0.005798632698046161, 0.023194530792184646, 0.04059042888632313, 0.05218769428241545, 0.03479179618827696, 0.01739589809413848, 0.07538222507460009, 0.005798632698046161, 0.7480236180479548, 0.9534108436870005, 0.9653566084340355, 0.9828808307068854, 0.98081430981016, 0.5994297238387859, 0.05827788981765974, 0.3413419260748642, 0.9633898544883722, 0.027265750598727517, 0.6680206123722071, 0.05989150317819787, 0.26951176430189044, 0.011253549077950524, 0.7588107378275211, 0.21060213274450268, 0.01768414855106511, 0.9501933967111833, 0.05529382988113271, 0.07313054919762714, 0.01605304738484498, 0.03745711056463829, 0.03924078249628773, 0.06421218953937992, 0.7134687726597769, 0.9537520331755608, 0.02649311203265447, 0.0038001658301221298, 0.9728424525112652, 0.022800994980732778, 0.05539739684906067, 0.8824013926671808, 0.035612612260110435, 0.007913913835580096, 0.015827827671160193, 0.003956956917790048, 0.9843328132813841, 0.15775347695162348, 0.1678658793203173, 0.24876509826986778, 0.014157363316171337, 0.010112402368693813, 0.2973046296395981, 0.08494417989702803, 0.004044960947477525, 0.0161798437899101, 0.9754757709433701, 0.024692911412189964, 0.12346455706094982, 0.006173227853047491, 0.024692911412189964, 0.1358110127670448, 0.5247243675090367, 0.012346455706094982, 0.1481574684731398, 0.06583422424917892, 0.8360946479645722, 0.06583422424917892, 0.013166844849835784, 0.019750267274753677, 0.9418336901421432, 0.048299163597032985, 0.008049860599505498, 0.9696537705185024, 0.01671816845721556, 0.8830847752800657, 0.9688166324788116, 0.9183078796797428, 0.02281277962968554, 0.04562555925937108, 0.18250223703748433, 0.11406389814842771, 0.6159450500015097, 0.9770576584777888, 0.9465766028237891, 0.013522522897482701, 0.013522522897482701, 0.013522522897482701, 0.9964217551195698, 0.9085129832777803, 0.9744744959582998, 0.014544395462064177, 0.8840367037923612, 0.1797466910263807, 0.5315366434637258, 0.0025678098718054385, 0.030813718461665262, 0.07446648628235772, 0.1540685923083263, 0.015406859230832631, 0.010271239487221754, 0.6035524048973925, 0.007941479011807796, 0.07941479011807796, 0.30177620244869624, 0.9832075074343293, 0.049392147822500974, 0.9444988267282328, 0.0050400150839286706, 0.9567667754257412, 0.07111380445434254, 0.601504262676314, 0.08592918038233056, 0.029630751855976058, 0.04444612778396408, 0.017778451113585635, 0.10963378186711141, 0.04148305259836648, 0.05335933763731025, 0.7347170336214258, 0.00410456443363925, 0.012313693300917751, 0.11492780414189901, 0.061568466504588755, 0.016418257734557, 0.3884834392884154, 0.5351674517630973, 0.006875813084750715, 0.008021781932209168, 0.05156859813563036, 0.010313719627126072, 0.13302491654173915, 0.10797476992024281, 0.2660498330834783, 0.1813976134660079, 0.0734228435457651, 0.05269168772107849, 0.04837269692426878, 0.10797476992024281, 0.030232935577667985, 0.9754431915324734, 0.9723686889410734, 0.9646914833145673, 0.7361327489809947, 0.023939276389625844, 0.08977228646109692, 0.029924095487032305, 0.005984819097406461, 0.11969638194812922, 0.012313286272189446, 0.11081957644970503, 0.1600727215384628, 0.1157448909585808, 0.19947523760946903, 0.014775943526627337, 0.23887775368047526, 0.08865566115976402, 0.05664111685207145, 0.9673865330500488, 0.8841610866128141, 0.9725467990559546, 0.07577093210436164, 0.13941851507202543, 0.16366521334542117, 0.06061674568348932, 0.07274009482018719, 0.48493396546791456, 0.9567544001558894, 0.05109500100244986, 0.08515833500408311, 0.1532850030073496, 0.7068141805338898, 0.9852624094262629, 0.43639018666152907, 0.010775066337321705, 0.032325199011965115, 0.4848779851794768, 0.026937665843304263, 0.010775066337321705, 0.025624315722809758, 0.0640607893070244, 0.8712267345755318, 0.025624315722809758, 0.872711028321866, 0.01596422612783901, 0.10642817418559342, 0.9747761553780278, 0.9402148529917368, 0.4652971321574261, 0.3339277525735471, 0.01687986441580568, 0.0022017214455398713, 0.004403442891079743, 0.15852394407887072, 0.018347678712832258, 0.9949044711204706, 0.9940635506955587, 0.9887680876808892, 0.9609479302824135, 0.02911963425098223, 0.987553482792643, 0.07415082550072855, 0.135943180084669, 0.006179235458394046, 0.38620221614962785, 0.23481094741897374, 0.15448088645985114, 0.006179235458394046, 0.003089617729197023, 0.014826388208541794, 0.9044096807210494, 0.07413194104270897, 0.3204460238162113, 0.03560511375735681, 0.19640240169380693, 0.0666160192879579, 0.13552914268929367, 0.09073561247842543, 0.05742760283444647, 0.07580443574146935, 0.021822489077089658, 0.9783674560680257, 0.9877001988237601, 0.9738105788687818, 0.05156184824672633, 0.9410037305027555, 0.04714615500202129, 0.018858462000808516, 0.7920554040339576, 0.056575386002425544, 0.08486307900363832, 0.9188346898454874, 0.9667962874258599, 0.17097329063224803, 0.10823079865711115, 0.31371245987568447, 0.0768595526695427, 0.08940805106457007, 0.09411373796270535, 0.03607693288570372, 0.10038798716021903, 0.010979936095648957, 0.996682478119769, 0.002737161127632992, 0.15693057131762486, 0.20711185865756304, 0.47626603620814056, 0.15693057131762486, 0.03585179188710613, 0.017925895943553066, 0.017925895943553066, 0.017925895943553066, 0.8962947971776534, 0.058238740743206764, 0.8735811111481014, 0.18070240453326514, 0.31449168481270184, 0.0590757860974136, 0.10772643347175422, 0.07645101730253526, 0.05038817049485278, 0.15463955772558266, 0.008687615602560823, 0.04865064737434061, 0.08663978022131612, 0.8495511782812386, 0.0024066605617032253, 0.06016651404258064, 0.025588945724018902, 0.7548738988585576, 0.21750603865416068, 0.9935624600725834, 0.9915328230921366, 0.9543162164916646, 0.9903634934384236, 0.9864015820274525, 0.9855723110531316, 0.015644004937351297, 0.9605100726283328, 0.022064063566332174, 0.9708187969186156, 0.9712895175855156, 0.019233455793772586, 0.9341785759392411, 0.015067396386116792, 0.015067396386116792, 0.015067396386116792, 0.24901166029090843, 0.048587641032372376, 0.14879965066164041, 0.07288146154855857, 0.2064974743875826, 0.08351000802439003, 0.13057928527450077, 0.045550913467849105, 0.013665274040354732, 0.08283678812898776, 0.2823981413488219, 0.09789802233425826, 0.10166333088557589, 0.10542863943689351, 0.3125206097593629, 0.018826542756588127, 0.07892321115054018, 0.026307737050180063, 0.8944630597061222, 0.015023816382552705, 0.03004763276510541, 0.06310002880672136, 0.8683765869115464, 0.02704286948859487, 0.09743185084763317, 0.49351350538040284, 0.055070176566053536, 0.05083400913789557, 0.055070176566053536, 0.09107759970539622, 0.07201484627868539, 0.05083400913789557, 0.036007423139342694, 0.03215646997014264, 0.04823470495521396, 0.01607823498507132, 0.8843029241789226, 0.013667444180870847, 0.013667444180870847, 0.013667444180870847, 0.9430536484800884, 0.03899670446612466, 0.9554192594200541, 0.8666292715191427, 0.06190209082279591, 0.0696398521756454, 0.11213951533824468, 0.15043105716105992, 0.032821321562413075, 0.396590968879158, 0.06837775325502725, 0.09846396468723922, 0.04649687221341853, 0.041026651953016344, 0.051967092473820704, 0.008911317896159591, 0.16931504002703224, 0.017822635792319182, 0.7931072927582036, 0.008911317896159591, 0.12207286808010255, 0.3794156710597782, 0.042890467163279274, 0.4519995385668662, 0.0032992667048676364, 0.024907897082296817, 0.8468685007980917, 0.009963158832918727, 0.07970527066334981, 0.03487105591521554, 0.9799209488036709, 0.9587838705741892, 0.03640951407243757, 0.35803686319181444, 0.27393424432125396, 0.1321612582251664, 0.09611727870921193, 0.019223455741842383, 0.1201465983865149, 0.5619561819839833, 0.020360731231303743, 0.4072146246260749, 0.008144292492521498, 0.9820961968745766, 0.9629355834656926, 0.0026053336057345034, 0.20842668845876028, 0.15892534994980473, 0.13808268110392868, 0.033869336874548545, 0.1406880147096632, 0.026053336057345035, 0.2214533564874328, 0.06773867374909709, 0.8811883624434982, 0.0037657622326645224, 0.007531524465329045, 0.04895490902463879, 0.06025219572263236, 0.03519211751641853, 0.7918226441194169, 0.004399014689552316, 0.07038423503283706, 0.09677832317015096, 0.9896505063972454, 0.9542608730194562, 0.3264084636079026, 0.6528169272158052, 0.03647259867636665, 0.053051052620169674, 0.0033156907887606046, 0.006631381577521209, 0.023209835521324232, 0.023209835521324232, 0.8521325327114754, 0.007493541637581252, 0.08992249965097503, 0.12739020783888128, 0.6594316641071502, 0.11240312456371879, 0.14193037566937816, 0.03367839422663211, 0.007216798762849737, 0.38730153360626923, 0.24537115793689107, 0.16117517237031082, 0.004811199175233158, 0.014433597525699475, 0.053237778891738335, 0.07320194597614021, 0.0798566683376075, 0.033273611807336456, 0.751983626845804, 0.006654722361467292, 0.024007148061729496, 0.9482823484383152, 0.024007148061729496, 0.877186877834503, 0.9787155155827468, 0.9538000301674097, 0.92997423362171, 0.05166523520120611, 0.08142863800646388, 0.10857151734195183, 0.13571439667743979, 0.02714287933548796, 0.4614289487032953, 0.18321443551454372, 0.15313999859465857, 0.015313999859465858, 0.03828499964866464, 0.7350719932543612, 0.007656999929732929, 0.03828499964866464, 0.9634958951591714, 0.024651956666961086, 0.6409508733409883, 0.3286927555594812, 0.9850681440687513, 0.9706901034327139, 0.9606804912986501, 0.9932748673846131, 0.9416054101536653, 0.9752488771479471, 0.008315397848152365, 0.0013858996413587275, 0.8246102866084429, 0.16215025803897112, 0.0013858996413587275, 0.9889830574754551, 0.9653881266183046, 0.9512361130560656, 0.10384108512044235, 0.25880393522325634, 0.19889561688453958, 0.14377996401292018, 0.07348753716215921, 0.06230465107226541, 0.06310342865011496, 0.07828020262925654, 0.018371884290539802, 0.012128285107632045, 0.014553942129158455, 0.0072769710645792275, 0.02910788425831691, 0.24741701619569373, 0.6597787098551833, 0.0266822272367905, 0.018366857648650533, 0.8356920230135992, 0.137751432364879, 0.017288239315729245, 0.04322059828932311, 0.028813732192882077, 0.005762746438576416, 0.6050883760505236, 0.19593337891159812, 0.06339021082434057, 0.020169612535017454, 0.023050985754305663, 0.8552717449205135, 0.010624493725720665, 0.010624493725720665, 0.005312246862860332, 0.04781022176574299, 0.06905920921718432, 0.032567512575345056, 0.10584441586987145, 0.040709390719181324, 0.061064086078771986, 0.5699314700685385, 0.008141878143836264, 0.18319225823631596, 0.9888985534320052, 0.9698094093182816, 0.5980889301845019, 0.3051474133594398, 0.09154422400783192, 0.012630670134926145, 0.07578402080955687, 0.012630670134926145, 0.8841469094448302, 0.901268237066414, 0.033274295267326864, 0.9316802674851522, 0.8631313482303716, 0.13077747700460177, 0.9023255675560976, 0.0392315464154825, 0.10301088925526948, 0.057686097982950914, 0.004120435570210779, 0.18954003622969584, 0.5150544462763474, 0.10301088925526948, 0.024722613421264677, 0.011142779973828742, 0.013928474967285926, 0.03342833992148622, 0.2813551943391757, 0.6518526284689814, 0.005571389986914371, 0.9890419656217224, 0.163501530123615, 0.11617213982467382, 0.05163206214429948, 0.10326412428859896, 0.14198817089682356, 0.4173591689997541, 0.0043026718453582895, 0.015429643832721685, 0.9720675614614661, 0.8598633186391305, 0.005583528043111237, 0.011167056086222473, 0.1228376169484472, 0.15238480296887008, 0.13430525007425836, 0.1717557524988112, 0.12397407699162312, 0.11493430054431726, 0.08394078129641148, 0.11106011063832903, 0.0865235745670703, 0.020662346165270518, 0.9126134206385883, 0.020280298236413072, 0.05070074559103268, 0.010140149118206536, 0.9082409752660054, 0.31429424815145873, 0.06891501786709726, 0.11590253004920903, 0.08040085417828013, 0.10441669373802615, 0.1440950373584761, 0.06578251705495648, 0.06682668399233674, 0.038634176683069676, 0.13523259373200602, 0.08288449293251982, 0.6150901843939628, 0.0523481007994862, 0.03489873386632413, 0.008724683466581033, 0.03926107559961465, 0.03489873386632413, 0.42327625552205655, 0.14693347723536357, 0.056616569209956606, 0.06066060986781065, 0.07818478605184484, 0.13884539591965547, 0.06200862342042866, 0.022916230394506246, 0.010784108420944115, 0.9743369133029218, 0.28287781043152443, 0.654735964989397, 0.00531225935082675, 0.051794528670560815, 0.00531225935082675, 0.018128591335191718, 0.006042863778397239, 0.6647150156236963, 0.021150023224390337, 0.009064295667595859, 0.2809931656954716, 0.04838942049110622, 0.9193989893310183, 0.15026132880576823, 0.32130347968041933, 0.03996311936323623, 0.07033509007929577, 0.1486628040312388, 0.1230864076387676, 0.08791886259911971, 0.03197049549058899, 0.02717492116700064, 0.03724133931031129, 0.9310334827577822, 0.050731277784329676, 0.9131630001179342, 0.9703535638297501, 0.9801237022837366, 0.9082411016801609, 0.023578921802931693, 0.04322802330537477, 0.047157843605863385, 0.16505245262052184, 0.5776835841718265, 0.06287712480781785, 0.02750874210342031, 0.02750874210342031, 0.023578921802931693, 0.9979749382815101, 0.9740829415278509, 0.9869516229361793, 0.9941564635215132, 0.4246147968328642, 0.20139832260847315, 0.21482487744903803, 0.006713277420282438, 0.1393005064708606, 0.011748235485494267, 0.37779325986404494, 0.0911914765189074, 0.5080667977481983, 0.04160323128316196, 0.8320646256632391, 0.08320646256632391, 0.02773548752210797, 0.08182637229582902, 0.5177377737990636, 0.3035014536063476, 0.0967038945314343, 0.07294176035989675, 0.018235440089974186, 0.018235440089974186, 0.8388302441388125, 0.03647088017994837, 0.05397521988395005, 0.04677852389942338, 0.4893753269478138, 0.02159008795358002, 0.03238513193037003, 0.02159008795358002, 0.014393391969053346, 0.3130562753269103, 0.007196695984526673, 0.980090641747896, 0.9951046824871186, 0.0036652106168954643, 0.8832858888994118, 0.20803232441723485, 0.41066121183661947, 0.11212131770539281, 0.05133265147957743, 0.05403436997850256, 0.05133265147957743, 0.059437806976352814, 0.02026288874193846, 0.03106976273763897, 0.9883667236087867, 0.22379099697154128, 0.6531043381006205, 0.1187462432910219, 0.9753856022932412, 0.6118000878641822, 0.12789041384731492, 0.2592373253661789, 0.9353007058529088, 0.9526362444150699, 0.977096148747712, 0.11143163673415561, 0.0371438789113852, 0.835737275506167, 0.3007615939508248, 0.5031698704485363, 0.025657387161681738, 0.16962383734667372, 0.03228434733454724, 0.9470075218133858, 0.010761449111515747, 0.01851244404704775, 0.35173643689390727, 0.6109106535525758, 0.06130560662158347, 0.8582784927021686, 0.9820384703536966, 0.05587850303141528, 0.11486136734235364, 0.0062087225590461426, 0.07450467070855371, 0.217305289566615, 0.02793925151570764, 0.5029065272827375, 0.8266003478189202, 0.0813883419390937, 0.058497870768723585, 0.002543385685596678, 0.005086771371193356, 0.0228904711703701, 0.002543385685596678, 0.849505071237111, 0.035624406213169174, 0.04932610091054193, 0.008221016818423655, 0.0027403389394745517, 0.05206643985001649, 0.22268504327011937, 0.1723830918715391, 0.07912666512136221, 0.14355837814875716, 0.12490709279872178, 0.10342985512292346, 0.07517033186529411, 0.04917157046827509, 0.029955094653087124, 0.9886169697411661, 0.9622154415905269, 0.9739627278331059, 0.9923729295452519, 0.9934487451434755, 0.9882513385930433, 0.2925575895473787, 0.11447905677940907, 0.12338298341780755, 0.23023010307858935, 0.06995942358741665, 0.0852232978246712, 0.03561570655359393, 0.030527748474509085, 0.016535863757025756, 0.9760418323818452, 0.9813051550638868, 0.9912186167402474, 0.9864146925731462, 0.9767585915229862, 0.00695201844500346, 0.01390403689000692, 0.7720632133319767, 0.014567230440225976, 0.007283615220112988, 0.20394122616316365, 0.034016982746540005, 0.39119530158521004, 0.5612802153179101, 0.22461142371663934, 0.10862355737116164, 0.15649156570421593, 0.1859488016014801, 0.07118832008505509, 0.07916632147389747, 0.07855262905937113, 0.05461862489284399, 0.041117391773264574, 0.934079130540456, 0.00962968175814903, 0.01925936351629806, 0.0032098939193830104, 0.0032098939193830104, 0.028889045274447092, 0.19387671623191527, 0.03549855367626618, 0.49151843551753166, 0.05188250152685056, 0.060074475452142756, 0.06280513342724016, 0.07099710735253235, 0.016383947850584387, 0.016383947850584387, 0.9584535721887163, 0.13822841679614647, 0.25262434793778493, 0.03336547991631122, 0.05719796557081923, 0.08103045122532723, 0.395619261864833, 0.03336547991631122, 0.009532994261803205, 0.9966948683435455, 0.9739018386294934, 0.9649594948093906, 0.8718537909701305, 0.9767035811392064, 0.07837129554746085, 0.9012698987957997, 0.00859176061971334, 0.0014319601032855567, 0.00859176061971334, 0.6830449692672106, 0.2190898958026902, 0.0758938854741345, 0.0028639202065711133, 0.9127484933178669, 0.9593024809891093, 0.10730876819094594, 0.3295912165864768, 0.01916228003409749, 0.030659648054555982, 0.030659648054555982, 0.41390524873650575, 0.030659648054555982, 0.03449210406137548, 0.9615670364870356, 0.022894453249691325, 0.0038157422082818874, 0.011447226624845663, 0.0750019954338689, 0.9000239452064267, 0.007870403508059403, 0.11805605262089106, 0.007870403508059403, 0.16527847366924747, 0.7004659122172869, 0.014874523212330988, 0.03718630803082747, 0.9296577007706868, 0.014874523212330988, 0.9583638288095004, 0.02662121746693057, 0.4599091735773414, 0.030475909092474433, 0.023272512397889567, 0.0482073471099141, 0.1557041900906421, 0.17509795042221674, 0.08810308264915336, 0.0044328595043599175, 0.014960900827214721, 0.9352070861853947, 0.9268328279814732, 0.972617870909753, 0.0018812724775817272, 0.02257526973098073, 0.23621466459411794, 0.021474060417647083, 0.7301180542000009, 0.07875539433669046, 0.13179474154303303, 0.016072529456467442, 0.006429011782586976, 0.3664536716074577, 0.30055630083594115, 0.08518440611927744, 0.004821758836940232, 0.01125077061952721, 0.2221183301523629, 0.008676497271576676, 0.4372954624874644, 0.1683240470685875, 0.031235390177676032, 0.005205898362946005, 0.005205898362946005, 0.11800036289344279, 0.005205898362946005, 0.3238517067001161, 0.011119371903866646, 0.3919578596112993, 0.004169764463949992, 0.0027798429759666615, 0.25018586783699953, 0.01667905785579997, 0.9347974614653755, 0.9105628079853836, 0.8758569916096655, 0.03350831294362443, 0.1633530256001691, 0.008377078235906107, 0.7874453541751741, 0.004188539117953053, 0.01130608128737305, 0.2035094631727149, 0.3203389698089031, 0.41078762010788744, 0.04899301891194988, 0.003768693762457683, 0.02162433396074256, 0.8649733584297025, 0.07568516886259896, 0.03243650094111384, 0.010242862531361302, 0.983314803010685, 0.9811253758856022, 0.9565831037430348, 0.0258535973984604, 0.0129267986992302, 0.013829437317780385, 0.179782685131145, 0.7882779271134819, 0.013829437317780385, 0.10303348595313708, 0.8350005424118817, 0.010732654786785112, 0.004293061914714045, 0.03219796436035534, 0.004293061914714045, 0.00858612382942809, 0.037797516998353854, 0.8315453739637847, 0.13057324053976785, 0.03374123176377234, 0.03374123176377234, 0.9278838735037395, 0.005418138802881448, 0.1029446372547475, 0.8560659308552688, 0.005418138802881448, 0.005418138802881448, 0.005418138802881448, 0.005418138802881448, 0.010836277605762897, 0.3369155786633662, 0.4351826224401813, 0.004679383036991197, 0.004679383036991197, 0.018717532147964788, 0.004679383036991197, 0.19653408755363028, 0.027528417044664064, 0.9438314415313392, 0.00393263100638058, 0.00786526201276116, 0.01179789301914174, 0.9494022082739082, 0.02876976388708813, 0.023015811109670502, 0.9367351352234433, 0.9624711277756302, 0.024061778194390752, 0.9847748507184328, 0.050712468288103475, 0.06694045814029659, 0.008113994926096556, 0.054769465751151755, 0.2839898224133795, 0.32861679450691056, 0.17242239217955183, 0.006085496194572417, 0.028398982241337946, 0.962194514181971, 0.9718777946315909, 0.11487214788590347, 0.7706006587346025, 0.019145357980983914, 0.02393169747622989, 0.06222241343819772, 0.08212304863003425, 0.0328492194520137, 0.8376550960263494, 0.049273829178020555, 0.06072704549224489, 0.01104128099858998, 0.7066419839097587, 0.06072704549224489, 0.09385088848801483, 0.03312384299576994, 0.01656192149788497, 0.01104128099858998, 0.9630834037085103, 0.02239728845833745, 0.0672510892275622, 0.7371754011482781, 0.010346321419624955, 0.17588746413362422, 0.007759741064718716, 0.9791531502677941, 0.8988366318622539, 0.9880108174447974, 0.07803009585684799, 0.28871135467033754, 0.6008317380977295, 0.031212038342739196, 0.039209484017355946, 0.9410276164165426, 0.9456925690993309, 0.27442263917645776, 0.19993649425713353, 0.029402425626049045, 0.00196016170840327, 0.1352511578798256, 0.28814377113528067, 0.043123557584871935, 0.017641455375629427, 0.00980080854201635, 0.9019447499245892, 0.9656226070799175, 0.966936348748303, 0.09501832769163253, 0.016967558516362953, 0.1340437122792673, 0.05429618725236145, 0.1051988628014503, 0.19852043464144653, 0.26978418041017094, 0.08144428087854218, 0.045812407994179974, 0.07497467217269771, 0.5997973773815817, 0.008996960660723726, 0.029989868869079086, 0.01799392132144745, 0.2579128722740801, 0.008996960660723726, 0.033179042082676684, 0.9538974598769546, 0.008294760520669171, 0.10692963023934239, 0.017821605039890397, 0.8732586469546295, 0.008192469382873133, 0.008192469382873133, 0.9421339790304104, 0.024577408148619403, 0.016384938765746267, 0.9960983711676792, 0.9801452080696564, 0.042131535099096944, 0.800499166882842, 0.09028186092663631, 0.024075162913769686, 0.012037581456884843, 0.012037581456884843, 0.01805637218532726, 0.9908728560596862, 0.08118347586060577, 0.024355042758181733, 0.7631246730896942, 0.024355042758181733, 0.016236695172121153, 0.05682843310242404, 0.016236695172121153, 0.016236695172121153, 0.965777781225898, 0.9959461546916416, 0.044138258095659626, 0.10833936078025544, 0.012037706753361715, 0.028087982424510667, 0.08025137835574477, 0.3490934958474897, 0.32100551342297906, 0.004012568917787239, 0.056175964849021334, 0.05793595387327629, 0.011587190774655259, 0.011587190774655259, 0.6604698741553497, 0.2433310062677604, 0.9868516647036736, 0.9647766676474673, 0.13993211242159406, 0.6773309697002691, 0.0014886394938467453, 0.10420476456927216, 0.010420476456927216, 0.044659184815402354, 0.022329592407701177, 0.9869532220551053, 0.06175328945989329, 0.18967081762681512, 0.6395876408346091, 0.05734234021275805, 0.022054746235676177, 0.013232847741405705, 0.013232847741405705, 0.9817821106924461, 0.026249859806351535, 0.0393747897095273, 0.02187488317195961, 0.08749953268783844, 0.11374939249418997, 0.7131211914058834, 0.9192046000370021, 0.04787523958526053, 0.009575047917052106, 0.01915009583410421, 0.046585951082069046, 0.7298465669524151, 0.06987892662310358, 0.14364001583637956, 0.0038821625901724207, 0.08278829382604865, 0.12073292849632095, 0.4363632987081314, 0.11383390401081689, 0.04139414691302432, 0.0258713418206402, 0.02069707345651216, 0.11038439176806486, 0.046568415277152365, 0.036945722542599466, 0.4987672543250928, 0.2623146300524562, 0.20320147398429705, 0.0036945722542599466, 0.954317833931435, 0.010969170504959023, 0.021938341009918046, 0.04812057592088038, 0.9142909424967272, 0.9806487553359601, 0.0152049806210225, 0.030409961242045, 0.942708798503395, 0.5764569042607884, 0.06271637615800245, 0.021350255713362538, 0.005337563928340634, 0.07606028597885403, 0.20549621124111442, 0.04536929339089539, 0.00800634589251095, 0.1700491961289127, 0.11146081763071589, 0.2972288470152424, 0.08431010564374664, 0.07716518143664945, 0.12289269636207135, 0.0414405604011636, 0.03572462103548586, 0.06001736333961624, 0.11981650878174203, 0.8176951213350465, 0.004204088027429545, 0.021020440137147725, 0.02732657217829204, 0.0021020440137147723, 0.0021020440137147723, 0.006306132041144317, 0.9550937306596701, 0.008233566643617846, 0.016467133287235692, 0.016467133287235692, 0.18609443026574976, 0.06740428182853929, 0.01025717332173424, 0.5744017060171174, 0.0864533179974743, 0.01758372569440155, 0.014653104745334627, 0.01025717332173424, 0.03223683043973618, 0.024925803406313188, 0.011078134847250306, 0.3545003151120098, 0.011078134847250306, 0.06369927537168926, 0.052621140524438954, 0.027695337118125763, 0.45143399502544995, 0.0027695337118125766, 0.9834418109021392, 0.982118863496576, 0.014658490499948896, 0.1680784732498662, 0.056026157749955396, 0.1336008377114321, 0.5559518730572497, 0.012929113326912784, 0.051716453307651136, 0.021548522211521308, 0.004309704442304261, 0.8705366565524957, 0.023897084689676353, 0.006827738482764672, 0.006827738482764672, 0.010241607724147008, 0.08193286179317606, 0.07896143957704235, 0.07155880461669463, 0.1381825192598241, 0.09870179947130293, 0.05181844472243404, 0.07155880461669463, 0.01480526992069544, 0.45649582255477605, 0.02220790488104316, 0.2466194905467675, 0.020551624212230626, 0.07193068474280719, 0.6371003505791494, 0.020551624212230626, 0.9165142019694782, 0.013527884899918498, 0.0033819712249796244, 0.06763942449959248, 0.027638240047177708, 0.868630401482728, 0.003948320006739672, 0.003948320006739672, 0.09475968016175214, 0.9694487985686309, 0.9924862540764803, 0.06776702781516905, 0.29897218153751054, 0.003986295753833474, 0.075739619322836, 0.5381499267675189, 0.003986295753833474, 0.007972591507666948, 0.0917691553788738, 0.0917691553788738, 0.0030589718459624595, 0.04894354953539935, 0.25389466321488413, 0.22636391660122201, 0.25389466321488413, 0.027530746613662137, 0.2513643029003452, 0.731241608437368, 0.984642096664939, 0.2888243502481689, 0.03800320398002222, 0.007600640796004445, 0.6536551084563823, 0.9881409869019235, 0.010303881317331544, 0.07985508020931947, 0.8062787130811934, 0.015455821975997317, 0.05409537691599061, 0.030911643951994635, 0.9931863215016362, 0.010784125222492552, 0.4151888210659633, 0.005392062611246276, 0.05122459480683963, 0.021568250444985105, 0.35587613234225424, 0.06740078264057846, 0.018872219139361966, 0.04852856350121649, 0.9653187862927807, 0.9721572607177935, 0.05817284871621828, 0.8725927307432743, 0.02089430564926318, 0.9559144834537906, 0.005223576412315795, 0.015670729236947387, 0.012373196054885125, 0.11135876449396613, 0.8290041356773035, 0.0494927842195405, 0.9863615471863374, 0.9888608111905264, 0.05409895782935319, 0.8926328041843277, 0.027049478914676597, 0.9753345074030108, 0.014598301819738837, 0.014598301819738837, 0.9634879201027633, 0.9800306864789534, 0.5344836022905015, 0.01081950611924092, 0.004327802447696368, 0.008655604895392736, 0.15363698689322106, 0.18393160402709566, 0.030294617133874577, 0.07140874038699008, 0.9611464493892963, 0.21015194249253497, 0.09920215918902271, 0.20884665092425833, 0.09267570134763964, 0.12008682428144854, 0.10572861703040579, 0.03654816391174521, 0.06656986998210734, 0.06134870370900089, 0.011360249973527772, 0.9542609977763328, 0.022720499947055543, 0.15402420527440666, 0.10801697512750598, 0.734115367996198, 0.004000628708426148, 0.939918478151905, 0.03133061593839683, 0.9345824545160492, 0.8718332933469821, 0.06439184407112895, 0.018029716339916107, 0.48680234117773485, 0.02575673762845158, 0.05151347525690316, 0.0051513475256903165, 0.015454042577070948, 0.293626808964348, 0.036059432679832214, 0.9485607037717148, 0.013847601514915544, 0.013847601514915544, 0.006923800757457772, 0.015578551704279988, 0.9559637420150067, 0.014058290323750097, 0.014058290323750097, 0.07798267317598699, 0.04873917073499187, 0.11210009269048131, 0.03411741951449431, 0.053613087808491056, 0.20957843416046504, 0.4581482049089236, 0.978533607165378, 0.987834040276508, 0.11760482201776848, 0.049428113601670806, 0.2710024159539882, 0.10737831575535382, 0.18919036585467103, 0.07158554383690255, 0.08692530323052453, 0.07499437925770744, 0.03238393649764639, 0.07286043324719263, 0.19526596110247624, 0.20109479576225164, 0.20838083908697091, 0.026229755968989344, 0.06557438992247336, 0.07140322458224878, 0.09763298055123812, 0.061202763927641804, 0.9631460001881443, 0.1930047630158564, 0.11731662065669703, 0.24295893697290158, 0.11277533211514747, 0.10596339930282311, 0.08401383801866691, 0.06660556527606025, 0.05373858107500315, 0.022706442707747812, 0.9593393531921017, 0.26309936885703933, 0.003288742110712992, 0.5623749009319217, 0.1249722002070937, 0.019732452664277953, 0.003288742110712992, 0.016443710553564958, 0.009866226332138977, 0.09138792694945724, 0.1145395351099864, 0.09260643264211667, 0.036555170779782896, 0.29853389470156033, 0.0779843643302035, 0.1827758538989145, 0.07311034155956579, 0.030462642316485745, 0.014707746865374474, 0.02451291144229079, 0.02941549373074895, 0.8040234953071379, 0.08334389890378868, 0.03922065830766527, 0.08128237476982228, 0.08128237476982228, 0.22005716096220176, 0.37667441966503007, 0.04163243585771385, 0.033702448075292164, 0.06938739309618974, 0.035684945020897585, 0.05947490836816264, 0.8357069460853247, 0.15735957763438682, 0.00425296155768613, 0.05064660556153386, 0.9116389001076095, 0.04926610241093898, 0.9459091662900284, 0.13309851891636404, 0.01023834760895108, 0.07166843326265757, 0.00511917380447554, 0.6398967255594425, 0.13821769272083959, 0.19252683357829398, 0.0356531173293137, 0.12122059891966659, 0.01069593519879411, 0.06417561119276466, 0.04634905252810781, 0.0356531173293137, 0.47418646047987223, 0.014261246931725481, 0.9011627071549447, 0.06075149815018091, 0.015187874537545228, 0.9112724722527137, 0.5667113057734648, 0.002114594424527854, 0.4081167239338758, 0.008458377698111415, 0.008458377698111415, 0.002114594424527854, 0.9656183937106217, 0.1044750833614886, 0.16883919721811996, 0.2098829799672762, 0.1557798117979339, 0.09421413767419955, 0.06063286087943535, 0.0699609933224254, 0.1044750833614886, 0.03078283706186718, 0.9633691740439854, 0.9888547628232316, 0.2571259683455465, 0.16492940599056966, 0.0030732187451658942, 0.18131990596478775, 0.13214840604213346, 0.2151253121616126, 0.04097624993554526, 0.004097624993554526, 0.9953068521389434, 0.9458495082110128, 0.9739206848529421, 0.004470951157549298, 0.16989614398687333, 0.08941902315098597, 0.004470951157549298, 0.058122365048140875, 0.5454560412210144, 0.12518663241138037, 0.9015927445058272, 0.963065638403095, 0.030834512833819508, 0.030834512833819508, 0.04625176925072926, 0.8633663593469463, 0.015417256416909754, 0.6674255445133302, 0.029358894919941213, 0.015658077290635314, 0.04697423187190594, 0.07437586713051775, 0.0959057234051413, 0.025444375597282385, 0.04501697221057653, 0.5010853515946047, 0.02972540221323926, 0.10403890774633741, 0.02972540221323926, 0.0615740474417099, 0.08492972060925502, 0.08280647759402365, 0.01486270110661963, 0.08917620663971779, 0.9694197667860083, 0.030694029555229815, 0.7665252261915076, 0.03107534700776382, 0.05869787768133166, 0.06560351034972363, 0.04143379601035176, 0.0345281633419598, 0.008220670537543676, 0.7727430305291054, 0.05754469376280572, 0.008220670537543676, 0.14797206967578616, 0.8840053486992351, 0.9879997254991821, 0.9670302076803334, 0.8401666231747024, 0.12180854388034718, 0.006246591993863958, 0.024986367975455833, 0.9484964899316439, 0.019489653902705014, 0.025986205203606685, 0.1408885523090536, 0.25450835255829035, 0.4726583690368249, 0.12725417627914518, 0.00454479200996947, 0.0903843034376852, 0.0225960758594213, 0.8812469585174307, 0.0028276194779180103, 0.008482858433754032, 0.0056552389558360205, 0.050897150602524185, 0.04241429216877016, 0.11027715963880241, 0.7832505953832889, 0.36701164642532214, 0.05186034134270857, 0.1555810240281257, 0.039892570263621974, 0.1316454818699525, 0.07047687413239882, 0.09042315926420981, 0.05850910305331223, 0.035903313237259774, 0.970463291906614, 0.0062610534961717035, 0.012522106992343407, 0.0062610534961717035, 0.6946457297809668, 0.016383154004268086, 0.05570272361451149, 0.07208587761877958, 0.06225598521621873, 0.009829892402560853, 0.01310652320341447, 0.0753625084196332, 0.9757826737756686, 0.9857412720109375, 0.9723134220691091, 0.005265226793810121, 0.015795680381430362, 0.24220043251526557, 0.19481339137097448, 0.05791749473191134, 0.47913563823672106, 0.9651566805202859, 0.02193537910273377, 0.0077495052547398025, 0.5254164562713586, 0.16583941245143177, 0.07129544834360618, 0.03099802101895921, 0.02634831786611533, 0.1642895114004838, 0.0077495052547398025, 0.01905600915746791, 0.30489614651948654, 0.5955002861708721, 0.004764002289366977, 0.07146003434050466, 0.9902627002022927, 0.19255541963819606, 0.02937286062277567, 0.09464588422894382, 0.035900162983392485, 0.06853667478647656, 0.1697098613760372, 0.3067832109489903, 0.06527302360616816, 0.035900162983392485, 0.9301511300535595, 0.03875629708556498, 0.04321184203326613, 0.9290546037152219, 0.9604464294409898, 0.3191185092168206, 0.049962998917785044, 0.10959625569062525, 0.10314941712058848, 0.12248993283069881, 0.1917934474585942, 0.038681031420220675, 0.02578735428014712, 0.038681031420220675, 0.04635176806964935, 0.23175884034824673, 0.007725294678274892, 0.007725294678274892, 0.6798259316881905, 0.023175884034824675, 0.1477141153735798, 0.16765098984117954, 0.30177178171412317, 0.08790349197078062, 0.032623976401526825, 0.11599636053876206, 0.0027186647001272357, 0.07249772533672628, 0.07068528220330812, 0.9725782213724392, 0.9533318644829236, 0.9705057129464844, 0.9918595678869804, 0.9781131987291461, 0.12460807427020504, 0.3055032848929949, 0.11451520844146569, 0.19448176077686208, 0.046970644818363896, 0.11063333696887363, 0.037654153284142955, 0.039983276167698194, 0.025232164571848372, 0.9908796834722723, 0.9780788158351607, 0.996032366440824, 0.022016031658880452, 0.022016031658880452, 0.044032063317760904, 0.8916492821846582, 0.011008015829440226], \"Term\": [\"ac\", \"academy\", \"academy\", \"academy\", \"academy\", \"academy\", \"act\", \"act\", \"act\", \"act\", \"act\", \"act\", \"act\", \"act\", \"action\", \"action\", \"action\", \"action\", \"action\", \"action\", \"action\", \"action\", \"action\", \"actor\", \"actress\", \"agassi\", \"ahold\", \"aircraft\", \"airline\", \"airline\", \"airway\", \"album\", \"album\", \"analyst\", \"analyst\", \"analyst\", \"animal\", \"animal\", \"antidoping\", \"antisemitic\", \"antivirus\", \"apple\", \"apple\", \"apple\", \"arrest\", \"arrest\", \"arrest\", \"arrested\", \"arrested\", \"arrested\", \"arrested\", \"arsenal\", \"artist\", \"artist\", \"artist\", \"asimo\", \"asset\", \"asset\", \"asset\", \"asylum\", \"asylum\", \"athens\", \"athens\", \"athlete\", \"athlete\", \"athlete\", \"athletics\", \"athletics\", \"attorney\", \"attorney\", \"attorney\", \"aviator\", \"award\", \"award\", \"award\", \"back\", \"back\", \"back\", \"back\", \"back\", \"back\", \"back\", \"back\", \"back\", \"backbench\", \"backbencher\", \"backbencher\", \"baikal\", \"balco\", \"band\", \"band\", \"band\", \"band\", \"band\", \"bank\", \"bank\", \"bank\", \"bank\", \"bank\", \"banking\", \"banking\", \"banking\", \"bankruptcy\", \"bankruptcy\", \"banned\", \"banned\", \"banned\", \"banned\", \"banned\", \"banned\", \"barcelona\", \"barcelona\", \"barclays\", \"barkley\", \"bath\", \"bath\", \"bath\", \"bath\", \"bbc\", \"bbc\", \"bbc\", \"bbc\", \"bbc\", \"bbc\", \"bbc\", \"bbc\", \"bbc\", \"benitez\", \"best\", \"best\", \"best\", \"best\", \"best\", \"best\", \"best\", \"best\", \"best\", \"bill\", \"bill\", \"bill\", \"bill\", \"bill\", \"bill\", \"bill\", \"bill\", \"binge\", \"bittorrent\", \"blair\", \"blair\", \"blair\", \"blair\", \"blog\", \"blog\", \"blog\", \"blunkett\", \"blunkett\", \"bluray\", \"bmw\", \"bmw\", \"body\", \"body\", \"body\", \"body\", \"body\", \"body\", \"body\", \"body\", \"body\", \"boer\", \"boerse\", \"britain\", \"britain\", \"britain\", \"britain\", \"britain\", \"britain\", \"britain\", \"britain\", \"britain\", \"british\", \"british\", \"british\", \"british\", \"british\", \"british\", \"british\", \"british\", \"broadband\", \"brown\", \"brown\", \"brown\", \"brown\", \"brown\", \"bt\", \"budget\", \"budget\", \"budget\", \"budget\", \"budget\", \"burglar\", \"bush\", \"bush\", \"bush\", \"bush\", \"bush\", \"business\", \"business\", \"business\", \"business\", \"business\", \"business\", \"business\", \"business\", \"cabinet\", \"cabinet\", \"cabinet\", \"cabinet\", \"cairn\", \"callaghan\", \"campaign\", \"campaign\", \"campaign\", \"campaign\", \"campaign\", \"campaign\", \"campaign\", \"campaign\", \"campaigning\", \"campaigning\", \"campaigning\", \"capt\", \"captain\", \"captain\", \"captain\", \"captain\", \"cardiff\", \"cardiff\", \"cardiff\", \"cardiff\", \"cardiff\", \"carers\", \"carmaker\", \"case\", \"case\", \"case\", \"case\", \"case\", \"case\", \"case\", \"case\", \"category\", \"category\", \"category\", \"category\", \"category\", \"centre\", \"centre\", \"centre\", \"centre\", \"centre\", \"centre\", \"centre\", \"centre\", \"centre\", \"ceremony\", \"ceremony\", \"ceremony\", \"ceremony\", \"champion\", \"champion\", \"champion\", \"champion\", \"champion\", \"championship\", \"championship\", \"chancellor\", \"chancellor\", \"chancellor\", \"change\", \"change\", \"change\", \"change\", \"change\", \"change\", \"change\", \"change\", \"change\", \"charge\", \"charge\", \"charge\", \"charge\", \"charge\", \"charge\", \"charge\", \"charge\", \"charge\", \"chart\", \"chart\", \"chelsea\", \"chidambaram\", \"chief\", \"chief\", \"chief\", \"chief\", \"chief\", \"chief\", \"chief\", \"chief\", \"chief\", \"china\", \"china\", \"china\", \"claim\", \"claim\", \"claim\", \"claim\", \"claim\", \"claim\", \"claim\", \"claim\", \"claim\", \"club\", \"club\", \"club\", \"club\", \"club\", \"club\", \"club\", \"coach\", \"coach\", \"coach\", \"coach\", \"cocoa\", \"comedy\", \"comic\", \"commission\", \"commission\", \"commission\", \"commission\", \"commission\", \"commission\", \"commodore\", \"company\", \"company\", \"company\", \"company\", \"company\", \"company\", \"computer\", \"computer\", \"computer\", \"computer\", \"computer\", \"computing\", \"concert\", \"conservative\", \"conservative\", \"conservative\", \"conservative\", \"console\", \"console\", \"constituency\", \"constituency\", \"constitution\", \"constitution\", \"constitution\", \"conte\", \"content\", \"content\", \"content\", \"content\", \"content\", \"contes\", \"copyright\", \"copyright\", \"copyrighted\", \"corp\", \"corry\", \"cost\", \"cost\", \"cost\", \"cost\", \"cost\", \"cost\", \"cost\", \"cost\", \"cost\", \"council\", \"council\", \"council\", \"council\", \"council\", \"council\", \"council\", \"country\", \"country\", \"country\", \"country\", \"country\", \"country\", \"country\", \"country\", \"country\", \"countryside\", \"court\", \"court\", \"court\", \"court\", \"court\", \"court\", \"court\", \"creditor\", \"csos\", \"cuba\", \"cueto\", \"cup\", \"cup\", \"curfew\", \"currency\", \"custody\", \"cut\", \"cut\", \"cut\", \"cut\", \"cut\", \"cut\", \"cut\", \"cut\", \"cut\", \"d\", \"dallaglio\", \"dance\", \"data\", \"data\", \"data\", \"data\", \"davenport\", \"deal\", \"deal\", \"deal\", \"deal\", \"deal\", \"deal\", \"deal\", \"deal\", \"deal\", \"december\", \"december\", \"december\", \"december\", \"december\", \"december\", \"december\", \"december\", \"december\", \"decision\", \"decision\", \"decision\", \"decision\", \"decision\", \"decision\", \"decision\", \"decision\", \"decision\", \"desktop\", \"detainee\", \"detention\", \"device\", \"device\", \"device\", \"dicaprio\", \"digital\", \"digital\", \"digital\", \"directive\", \"director\", \"director\", \"director\", \"director\", \"director\", \"director\", \"director\", \"director\", \"director\", \"dollar\", \"dollar\", \"dollar\", \"dollar\", \"domain\", \"domain\", \"donofrio\", \"doping\", \"doping\", \"dossier\", \"drake\", \"drama\", \"drama\", \"drama\", \"drama\", \"drinking\", \"drinking\", \"drinking\", \"drug\", \"drug\", \"drug\", \"drug\", \"drug\", \"drug\", \"drug\", \"drug\", \"drug\", \"drunk\", \"easterby\", \"eastwood\", \"ebbers\", \"economic\", \"economic\", \"economic\", \"economist\", \"economist\", \"economy\", \"economy\", \"economy\", \"election\", \"election\", \"election\", \"election\", \"embargo\", \"england\", \"england\", \"england\", \"england\", \"england\", \"england\", \"england\", \"ethnic\", \"ethnic\", \"eu\", \"eu\", \"eu\", \"euro\", \"euro\", \"euro\", \"euro\", \"euro\", \"euro\", \"euronext\", \"european\", \"european\", \"european\", \"european\", \"european\", \"european\", \"european\", \"european\", \"european\", \"everton\", \"evidence\", \"evidence\", \"evidence\", \"evidence\", \"evidence\", \"evidence\", \"evidence\", \"evidence\", \"exchange\", \"exchange\", \"exchange\", \"exchange\", \"exchange\", \"export\", \"export\", \"export\", \"fa\", \"fa\", \"fagin\", \"falconer\", \"fbi\", \"federation\", \"federation\", \"federation\", \"federation\", \"federation\", \"federer\", \"ferguson\", \"ferguson\", \"ferguson\", \"ferguson\", \"festival\", \"feta\", \"fiat\", \"fiat\", \"fightstar\", \"figure\", \"figure\", \"figure\", \"figure\", \"figure\", \"figure\", \"figure\", \"figure\", \"file\", \"file\", \"file\", \"file\", \"filesharing\", \"film\", \"film\", \"film\", \"filmmaker\", \"final\", \"final\", \"final\", \"final\", \"final\", \"final\", \"final\", \"final\", \"financial\", \"financial\", \"financial\", \"financial\", \"financial\", \"financial\", \"financial\", \"firm\", \"firm\", \"firm\", \"firm\", \"firm\", \"firm\", \"first\", \"first\", \"first\", \"first\", \"first\", \"first\", \"first\", \"first\", \"first\", \"flanker\", \"flyhalf\", \"flynn\", \"football\", \"football\", \"football\", \"football\", \"football\", \"football\", \"former\", \"former\", \"former\", \"former\", \"former\", \"former\", \"former\", \"former\", \"former\", \"forsyth\", \"fourkings\", \"foxx\", \"france\", \"france\", \"france\", \"france\", \"france\", \"france\", \"franz\", \"fraud\", \"fraud\", \"fraud\", \"fraud\", \"fullback\", \"fund\", \"fund\", \"fund\", \"fund\", \"fund\", \"fund\", \"g\", \"g\", \"g\", \"g\", \"gadget\", \"gadget\", \"gadget\", \"gallas\", \"galloway\", \"game\", \"game\", \"game\", \"game\", \"game\", \"game\", \"game\", \"gamers\", \"gaming\", \"gardener\", \"gas\", \"gas\", \"gazprom\", \"general\", \"general\", \"general\", \"general\", \"general\", \"general\", \"general\", \"general\", \"gerrard\", \"gerrard\", \"gerrard\", \"get\", \"get\", \"get\", \"get\", \"get\", \"get\", \"get\", \"get\", \"get\", \"gig\", \"glazer\", \"gloucester\", \"gm\", \"gm\", \"goal\", \"goal\", \"goal\", \"goal\", \"goal\", \"gogh\", \"goldsmith\", \"good\", \"good\", \"good\", \"good\", \"good\", \"good\", \"good\", \"good\", \"good\", \"google\", \"government\", \"government\", \"government\", \"government\", \"government\", \"greek\", \"greek\", \"greek\", \"greek\", \"greek\", \"grid\", \"grid\", \"group\", \"group\", \"group\", \"group\", \"group\", \"group\", \"group\", \"group\", \"group\", \"growth\", \"growth\", \"growth\", \"growth\", \"guilty\", \"guilty\", \"guilty\", \"handheld\", \"handset\", \"hantuchova\", \"henman\", \"henson\", \"highdefinition\", \"highdefinition\", \"hockney\", \"hodgson\", \"hodgson\", \"hollywood\", \"hollywood\", \"holmes\", \"holmes\", \"holmes\", \"holmes\", \"home\", \"home\", \"home\", \"home\", \"home\", \"home\", \"home\", \"home\", \"home\", \"house\", \"house\", \"house\", \"house\", \"house\", \"house\", \"house\", \"houston\", \"houston\", \"houston\", \"howard\", \"howard\", \"howard\", \"howard\", \"howard\", \"however\", \"however\", \"however\", \"however\", \"however\", \"however\", \"however\", \"however\", \"however\", \"hunt\", \"hunt\", \"hunt\", \"hunt\", \"hunting\", \"hunting\", \"hunting\", \"hunting\", \"iaaf\", \"iaaf\", \"immigration\", \"immigration\", \"immigration\", \"including\", \"including\", \"including\", \"including\", \"including\", \"including\", \"including\", \"including\", \"including\", \"income\", \"income\", \"income\", \"income\", \"income\", \"increase\", \"increase\", \"increase\", \"increase\", \"increase\", \"india\", \"india\", \"india\", \"india\", \"india\", \"indonesia\", \"indoor\", \"indoor\", \"industry\", \"industry\", \"industry\", \"industry\", \"industry\", \"industry\", \"injury\", \"injury\", \"injury\", \"injury\", \"insurer\", \"intel\", \"international\", \"international\", \"international\", \"international\", \"international\", \"international\", \"international\", \"international\", \"international\", \"internet\", \"internet\", \"internet\", \"internet\", \"internet\", \"investment\", \"investment\", \"investment\", \"investment\", \"investment\", \"investor\", \"ioannidis\", \"ipod\", \"ipod\", \"ireland\", \"ireland\", \"ireland\", \"ireland\", \"ireland\", \"ireland\", \"ireland\", \"irish\", \"irish\", \"irish\", \"irish\", \"irish\", \"issue\", \"issue\", \"issue\", \"issue\", \"issue\", \"issue\", \"issue\", \"issue\", \"italy\", \"italy\", \"italy\", \"italy\", \"italy\", \"italy\", \"j\", \"j\", \"j\", \"jailhouse\", \"jeeves\", \"jet\", \"jewish\", \"jewish\", \"jones\", \"jones\", \"jones\", \"jones\", \"jones\", \"jones\", \"judge\", \"judge\", \"judge\", \"judge\", \"judge\", \"judge\", \"katerina\", \"kennedy\", \"kennedy\", \"kennedy\", \"kenteris\", \"khodorkovsky\", \"kilroy\", \"kilroysilk\", \"kinnock\", \"kostas\", \"labour\", \"labour\", \"labour\", \"labour\", \"labour\", \"lanka\", \"lansdowne\", \"laporte\", \"last\", \"last\", \"last\", \"last\", \"last\", \"last\", \"last\", \"last\", \"last\", \"law\", \"law\", \"law\", \"law\", \"law\", \"law\", \"law\", \"lawyer\", \"lawyer\", \"lawyer\", \"leader\", \"leader\", \"leader\", \"leader\", \"leader\", \"leader\", \"leader\", \"leader\", \"leader\", \"league\", \"league\", \"league\", \"league\", \"league\", \"league\", \"legal\", \"legal\", \"legal\", \"legal\", \"legal\", \"legal\", \"legal\", \"lending\", \"lewsey\", \"liberal\", \"liberal\", \"liberal\", \"lion\", \"lion\", \"lion\", \"lion\", \"lira\", \"lisbon\", \"lisbon\", \"liverpool\", \"liverpool\", \"livingstone\", \"livingstone\", \"local\", \"local\", \"local\", \"local\", \"local\", \"local\", \"local\", \"lord\", \"lord\", \"lord\", \"lord\", \"lord\", \"lord\", \"lse\", \"m\", \"m\", \"m\", \"m\", \"m\", \"m\", \"m\", \"mac\", \"mac\", \"machine\", \"machine\", \"machine\", \"machine\", \"made\", \"made\", \"made\", \"made\", \"made\", \"made\", \"made\", \"made\", \"made\", \"madrid\", \"madrid\", \"madrid\", \"madrid\", \"magnier\", \"make\", \"make\", \"make\", \"make\", \"make\", \"make\", \"make\", \"make\", \"make\", \"manager\", \"manager\", \"manager\", \"manager\", \"manager\", \"manager\", \"manager\", \"manager\", \"many\", \"many\", \"many\", \"many\", \"many\", \"many\", \"many\", \"many\", \"many\", \"marathon\", \"market\", \"market\", \"market\", \"market\", \"market\", \"match\", \"match\", \"match\", \"match\", \"match\", \"match\", \"maternity\", \"maternity\", \"may\", \"may\", \"may\", \"may\", \"may\", \"may\", \"may\", \"may\", \"may\", \"mcconnell\", \"mcconnell\", \"mcdonalds\", \"mcdonalds\", \"mci\", \"mcilroy\", \"mcmanus\", \"michael\", \"michael\", \"michael\", \"michael\", \"michael\", \"michael\", \"michael\", \"michael\", \"michael\", \"microsoft\", \"microsofts\", \"midfielder\", \"milburn\", \"million\", \"million\", \"million\", \"million\", \"million\", \"million\", \"mini\", \"mini\", \"mini\", \"minimum\", \"minimum\", \"minimum\", \"minimum\", \"minister\", \"minister\", \"minister\", \"minister\", \"minority\", \"minority\", \"minority\", \"minority\", \"minority\", \"minute\", \"minute\", \"minute\", \"minute\", \"minute\", \"minute\", \"minute\", \"minute\", \"minute\", \"mirza\", \"mobile\", \"mobile\", \"mock\", \"month\", \"month\", \"month\", \"month\", \"month\", \"month\", \"month\", \"month\", \"month\", \"mourinho\", \"movie\", \"movie\", \"movie\", \"moya\", \"mp\", \"mp\", \"mp\", \"mpaa\", \"mubanga\", \"multimedia\", \"murder\", \"murder\", \"murder\", \"music\", \"music\", \"music\", \"music\", \"musical\", \"musical\", \"musical\", \"musician\", \"musician\", \"musician\", \"mutu\", \"mutu\", \"nadal\", \"nation\", \"nation\", \"nation\", \"nation\", \"nation\", \"nation\", \"nation\", \"net\", \"net\", \"net\", \"net\", \"net\", \"net\", \"net\", \"network\", \"network\", \"network\", \"network\", \"network\", \"network\", \"new\", \"new\", \"new\", \"new\", \"new\", \"new\", \"new\", \"new\", \"new\", \"nintendo\", \"nissan\", \"nokia\", \"nominated\", \"nomination\", \"nominee\", \"number\", \"number\", \"number\", \"number\", \"number\", \"number\", \"number\", \"number\", \"number\", \"oconnell\", \"oconnor\", \"odriscoll\", \"ogara\", \"oil\", \"oil\", \"oil\", \"olympic\", \"olympic\", \"olympic\", \"olympic\", \"olympics\", \"olympics\", \"olympics\", \"one\", \"one\", \"one\", \"one\", \"one\", \"one\", \"one\", \"one\", \"one\", \"online\", \"online\", \"online\", \"online\", \"online\", \"online\", \"open\", \"open\", \"open\", \"open\", \"open\", \"open\", \"open\", \"open\", \"open\", \"orchestra\", \"order\", \"order\", \"order\", \"order\", \"order\", \"order\", \"order\", \"order\", \"oscar\", \"osullivan\", \"palestinian\", \"panda\", \"parmalat\", \"parry\", \"parry\", \"party\", \"party\", \"party\", \"party\", \"party\", \"party\", \"party\", \"patenting\", \"paterson\", \"pay\", \"pay\", \"pay\", \"pay\", \"pay\", \"pay\", \"pay\", \"pay\", \"pc\", \"pc\", \"pc\", \"pc\", \"peertopeer\", \"peertopeer\", \"penalty\", \"penalty\", \"penalty\", \"penalty\", \"penalty\", \"pension\", \"pension\", \"pension\", \"pension\", \"pensioner\", \"pensioner\", \"people\", \"people\", \"people\", \"people\", \"people\", \"people\", \"people\", \"people\", \"people\", \"performanceenhancing\", \"peston\", \"phone\", \"phone\", \"phone\", \"piracy\", \"piracy\", \"piracy\", \"plan\", \"plan\", \"plan\", \"plan\", \"plan\", \"plan\", \"plan\", \"plan\", \"plan\", \"play\", \"play\", \"play\", \"play\", \"play\", \"play\", \"play\", \"play\", \"play\", \"player\", \"player\", \"player\", \"player\", \"player\", \"player\", \"player\", \"pm\", \"podcasting\", \"podcasts\", \"police\", \"police\", \"police\", \"police\", \"police\", \"policy\", \"policy\", \"policy\", \"policy\", \"policy\", \"policy\", \"politics\", \"politics\", \"politics\", \"politics\", \"pop\", \"pop\", \"portable\", \"poster\", \"poster\", \"poster\", \"poverty\", \"poverty\", \"poverty\", \"poverty\", \"price\", \"price\", \"price\", \"price\", \"price\", \"price\", \"price\", \"prime\", \"prime\", \"prime\", \"prison\", \"prison\", \"prison\", \"prize\", \"prize\", \"prize\", \"prize\", \"prize\", \"prize\", \"prize\", \"prize\", \"product\", \"product\", \"product\", \"product\", \"product\", \"product\", \"product\", \"profit\", \"profit\", \"profit\", \"profit\", \"profit\", \"program\", \"program\", \"program\", \"prosecuted\", \"prosecution\", \"prosecution\", \"psp\", \"public\", \"public\", \"public\", \"public\", \"public\", \"public\", \"public\", \"public\", \"public\", \"putin\", \"quango\", \"quarter\", \"quarter\", \"quarter\", \"quarter\", \"quarter\", \"r\", \"r\", \"r\", \"r\", \"race\", \"race\", \"race\", \"race\", \"race\", \"race\", \"race\", \"race\", \"radcliffe\", \"radcliffe\", \"rate\", \"rate\", \"rate\", \"rate\", \"rate\", \"rebate\", \"reddy\", \"referendum\", \"reform\", \"reform\", \"reform\", \"reform\", \"refugee\", \"refugee\", \"regiment\", \"report\", \"report\", \"report\", \"report\", \"report\", \"report\", \"report\", \"report\", \"report\", \"republican\", \"restructuring\", \"rift\", \"right\", \"right\", \"right\", \"right\", \"right\", \"right\", \"right\", \"right\", \"right\", \"rise\", \"rise\", \"rise\", \"rise\", \"rise\", \"rise\", \"rise\", \"robinson\", \"robinson\", \"robinson\", \"robot\", \"robot\", \"robot\", \"rock\", \"rock\", \"rock\", \"rock\", \"rock\", \"roddick\", \"ronaldo\", \"rose\", \"rose\", \"rose\", \"rose\", \"rose\", \"rose\", \"rose\", \"rosneft\", \"round\", \"round\", \"round\", \"round\", \"round\", \"round\", \"round\", \"round\", \"ruddock\", \"rugby\", \"rule\", \"rule\", \"rule\", \"rule\", \"rule\", \"rule\", \"rule\", \"rule\", \"rule\", \"ruling\", \"ruling\", \"ruling\", \"ruling\", \"ruling\", \"rusedski\", \"safin\", \"sale\", \"sale\", \"sale\", \"sale\", \"sale\", \"sale\", \"sale\", \"satellite\", \"school\", \"school\", \"school\", \"school\", \"school\", \"school\", \"school\", \"scorsese\", \"scotland\", \"scotland\", \"scotland\", \"scotland\", \"scotland\", \"scotland\", \"search\", \"search\", \"search\", \"search\", \"season\", \"season\", \"season\", \"season\", \"season\", \"second\", \"second\", \"second\", \"second\", \"second\", \"second\", \"second\", \"second\", \"second\", \"secretary\", \"secretary\", \"secretary\", \"secretary\", \"secretary\", \"seed\", \"seed\", \"seed\", \"seeker\", \"seeker\", \"semifinal\", \"sentence\", \"sentence\", \"sentence\", \"service\", \"service\", \"service\", \"service\", \"service\", \"service\", \"service\", \"service\", \"set\", \"set\", \"set\", \"set\", \"set\", \"set\", \"set\", \"set\", \"set\", \"share\", \"share\", \"share\", \"share\", \"share\", \"share\", \"share\", \"share\", \"shareholder\", \"shareholder\", \"shareholder\", \"shareholder\", \"show\", \"show\", \"show\", \"show\", \"show\", \"show\", \"show\", \"show\", \"show\", \"side\", \"side\", \"side\", \"side\", \"side\", \"side\", \"side\", \"side\", \"side\", \"sideways\", \"singer\", \"singer\", \"single\", \"single\", \"single\", \"single\", \"single\", \"single\", \"single\", \"single\", \"site\", \"site\", \"site\", \"site\", \"site\", \"site\", \"six\", \"six\", \"six\", \"six\", \"six\", \"six\", \"six\", \"six\", \"six\", \"social\", \"social\", \"social\", \"social\", \"social\", \"software\", \"software\", \"software\", \"software\", \"song\", \"song\", \"song\", \"song\", \"song\", \"souness\", \"spam\", \"spending\", \"spending\", \"spending\", \"spending\", \"spending\", \"spending\", \"spending\", \"spokesman\", \"spokesman\", \"spokesman\", \"spokesman\", \"spokesman\", \"spokesman\", \"spokesman\", \"spokesman\", \"sprinter\", \"sprinter\", \"spyware\", \"squad\", \"squad\", \"squad\", \"squad\", \"sri\", \"star\", \"star\", \"star\", \"star\", \"star\", \"star\", \"starring\", \"state\", \"state\", \"state\", \"state\", \"state\", \"state\", \"state\", \"state\", \"state\", \"stateowned\", \"staunton\", \"steroid\", \"steroid\", \"stock\", \"stock\", \"stock\", \"stock\", \"straw\", \"straw\", \"straw\", \"straw\", \"striker\", \"sub\", \"sullivan\", \"sullivan\", \"sullivan\", \"supercomputer\", \"suspect\", \"suspect\", \"suspect\", \"swank\", \"system\", \"system\", \"system\", \"system\", \"system\", \"system\", \"system\", \"system\", \"tait\", \"take\", \"take\", \"take\", \"take\", \"take\", \"take\", \"take\", \"take\", \"take\", \"takeover\", \"takeover\", \"takeover\", \"tax\", \"tax\", \"tax\", \"tax\", \"taxpayer\", \"taxpayer\", \"tb\", \"tci\", \"team\", \"team\", \"team\", \"team\", \"team\", \"team\", \"team\", \"team\", \"team\", \"technology\", \"technology\", \"technology\", \"technology\", \"technology\", \"tennis\", \"tennis\", \"tennis\", \"test\", \"test\", \"test\", \"test\", \"test\", \"test\", \"test\", \"thanou\", \"theatre\", \"think\", \"think\", \"think\", \"think\", \"think\", \"think\", \"think\", \"think\", \"think\", \"three\", \"three\", \"three\", \"three\", \"three\", \"three\", \"three\", \"three\", \"three\", \"threshold\", \"time\", \"time\", \"time\", \"time\", \"time\", \"time\", \"time\", \"time\", \"time\", \"tindall\", \"title\", \"title\", \"title\", \"title\", \"title\", \"title\", \"title\", \"title\", \"told\", \"told\", \"told\", \"told\", \"told\", \"told\", \"told\", \"told\", \"told\", \"tony\", \"tony\", \"tony\", \"tony\", \"tony\", \"tony\", \"top\", \"top\", \"top\", \"top\", \"top\", \"top\", \"top\", \"top\", \"top\", \"tory\", \"tory\", \"tory\", \"tps\", \"tps\", \"trading\", \"trading\", \"trial\", \"trial\", \"trial\", \"trial\", \"trial\", \"trial\", \"try\", \"try\", \"try\", \"try\", \"try\", \"try\", \"try\", \"try\", \"try\", \"tuc\", \"turkey\", \"turkey\", \"turkey\", \"tv\", \"tv\", \"tv\", \"tv\", \"tv\", \"tv\", \"twickenham\", \"two\", \"two\", \"two\", \"two\", \"two\", \"two\", \"two\", \"two\", \"two\", \"tzekos\", \"uefa\", \"uk\", \"uk\", \"uk\", \"uk\", \"uk\", \"uk\", \"uk\", \"uk\", \"ukip\", \"ukips\", \"ulster\", \"union\", \"union\", \"union\", \"union\", \"union\", \"union\", \"union\", \"unison\", \"unity\", \"urban\", \"urban\", \"urban\", \"urban\", \"urban\", \"use\", \"use\", \"use\", \"use\", \"use\", \"use\", \"use\", \"use\", \"used\", \"used\", \"used\", \"used\", \"used\", \"used\", \"used\", \"used\", \"used\", \"user\", \"user\", \"using\", \"using\", \"using\", \"using\", \"using\", \"using\", \"v\", \"v\", \"v\", \"v\", \"v\", \"vaccine\", \"veritas\", \"verizon\", \"video\", \"video\", \"video\", \"video\", \"virus\", \"virus\", \"virus\", \"vote\", \"vote\", \"vote\", \"vote\", \"vote\", \"wage\", \"wage\", \"wage\", \"wale\", \"wale\", \"wale\", \"wale\", \"wale\", \"wale\", \"wale\", \"way\", \"way\", \"way\", \"way\", \"way\", \"way\", \"way\", \"way\", \"way\", \"web\", \"web\", \"web\", \"web\", \"website\", \"website\", \"website\", \"website\", \"website\", \"website\", \"website\", \"website\", \"wenger\", \"wifi\", \"wilkinson\", \"williams\", \"williams\", \"williams\", \"williams\", \"williams\", \"williams\", \"wimbledon\", \"wimbledon\", \"win\", \"win\", \"win\", \"win\", \"win\", \"win\", \"win\", \"win\", \"winner\", \"winner\", \"winner\", \"winner\", \"winner\", \"wireless\", \"without\", \"without\", \"without\", \"without\", \"without\", \"without\", \"without\", \"without\", \"without\", \"witness\", \"witness\", \"woodward\", \"woodward\", \"woolf\", \"work\", \"work\", \"work\", \"work\", \"work\", \"work\", \"work\", \"work\", \"work\", \"worker\", \"worker\", \"worker\", \"worker\", \"worker\", \"worker\", \"world\", \"world\", \"world\", \"world\", \"world\", \"world\", \"world\", \"world\", \"world\", \"worldcom\", \"worldcoms\", \"worm\", \"xbox\", \"yahoo\", \"year\", \"year\", \"year\", \"year\", \"year\", \"year\", \"year\", \"year\", \"year\", \"yugansk\", \"yuganskneftegas\", \"yukos\", \"zealand\", \"zealand\", \"zealand\", \"zealand\", \"zealand\"]}, \"R\": 30, \"lambda.step\": 0.01, \"plot.opts\": {\"xlab\": \"PC1\", \"ylab\": \"PC2\"}, \"topic.order\": [4, 6, 3, 8, 5, 9, 7, 2, 1]};\n",
              "\n",
              "function LDAvis_load_lib(url, callback){\n",
              "  var s = document.createElement('script');\n",
              "  s.src = url;\n",
              "  s.async = true;\n",
              "  s.onreadystatechange = s.onload = callback;\n",
              "  s.onerror = function(){console.warn(\"failed to load library \" + url);};\n",
              "  document.getElementsByTagName(\"head\")[0].appendChild(s);\n",
              "}\n",
              "\n",
              "if(typeof(LDAvis) !== \"undefined\"){\n",
              "   // already loaded: just create the visualization\n",
              "   !function(LDAvis){\n",
              "       new LDAvis(\"#\" + \"ldavis_el8081375378350622569027820046\", ldavis_el8081375378350622569027820046_data);\n",
              "   }(LDAvis);\n",
              "}else if(typeof define === \"function\" && define.amd){\n",
              "   // require.js is available: use it to load d3/LDAvis\n",
              "   require.config({paths: {d3: \"https://d3js.org/d3.v5\"}});\n",
              "   require([\"d3\"], function(d3){\n",
              "      window.d3 = d3;\n",
              "      LDAvis_load_lib(\"https://cdn.jsdelivr.net/gh/bmabey/pyLDAvis@3.4.0/pyLDAvis/js/ldavis.v3.0.0.js\", function(){\n",
              "        new LDAvis(\"#\" + \"ldavis_el8081375378350622569027820046\", ldavis_el8081375378350622569027820046_data);\n",
              "      });\n",
              "    });\n",
              "}else{\n",
              "    // require.js not available: dynamically load d3 & LDAvis\n",
              "    LDAvis_load_lib(\"https://d3js.org/d3.v5.js\", function(){\n",
              "         LDAvis_load_lib(\"https://cdn.jsdelivr.net/gh/bmabey/pyLDAvis@3.4.0/pyLDAvis/js/ldavis.v3.0.0.js\", function(){\n",
              "                 new LDAvis(\"#\" + \"ldavis_el8081375378350622569027820046\", ldavis_el8081375378350622569027820046_data);\n",
              "            })\n",
              "         });\n",
              "}\n",
              "</script>"
            ]
          },
          "metadata": {},
          "execution_count": 30
        }
      ],
      "source": [
        "#creating visulization for above LDA model using pyLDAvis\n",
        "\n",
        "# Enable notebook display\n",
        "pyLDAvis.enable_notebook(sort=True)\n",
        "\n",
        "# Prepare the data for visualization\n",
        "vis_data = pyLDAvis.gensim_models.prepare(lda, train_corpus, train_id2word)\n",
        "\n",
        "# Display the visualization\n",
        "pyLDAvis.display(vis_data)"
      ]
    },
    {
      "cell_type": "markdown",
      "metadata": {
        "id": "-zOI8oPdmhSZ"
      },
      "source": [
        "## Model 2-LDA Model for With Count Vectorizer"
      ]
    },
    {
      "cell_type": "code",
      "execution_count": null,
      "metadata": {
        "id": "tPwlCikN8esx",
        "colab": {
          "base_uri": "https://localhost:8080/"
        },
        "outputId": "d653dc37-a3c4-4547-c333-8b5741abbecd"
      },
      "outputs": [
        {
          "output_type": "stream",
          "name": "stdout",
          "text": [
            "Best LDA model's params: {'n_components': 5}\n",
            "Best log likelihood Score for the LDA model: -908176.6829537982\n",
            "LDA model Perplexity on train data: 4187.048862648266\n"
          ]
        }
      ],
      "source": [
        "#creating LDA model with count vectorizer\n",
        "\n",
        "# Define the parameter grid for grid search\n",
        "grid_params = {'n_components': list(range(5, 20))}\n",
        "\n",
        "# Create an instance of LDA\n",
        "lda = LatentDirichletAllocation()\n",
        "\n",
        "# Perform grid search to find the best LDA model\n",
        "lda_count_model = GridSearchCV(lda, param_grid=grid_params)\n",
        "lda_count_model.fit(count_vectorized_df)\n",
        "\n",
        "# Get the best LDA model\n",
        "best_lda_count_model = lda_count_model.best_estimator_\n",
        "\n",
        "#best parameter\n",
        "best_count_paramaters=lda_count_model.best_params_\n",
        "count_log_likelihhod_score=lda_count_model.best_score_\n",
        "count_perplexity=best_lda_count_model.perplexity(count_vectorized_df)\n",
        "\n",
        "# Print the best parameters and scores\n",
        "print(\"Best LDA model's params:\", best_count_paramaters)\n",
        "print(\"Best log likelihood Score for the LDA model:\", count_log_likelihhod_score)\n",
        "print(\"LDA model Perplexity on train data:\",count_perplexity)"
      ]
    },
    {
      "cell_type": "code",
      "execution_count": null,
      "metadata": {
        "id": "gC5nsWvrxICD",
        "colab": {
          "base_uri": "https://localhost:8080/",
          "height": 861
        },
        "outputId": "e5053d81-eb94-404c-eecd-f27927af4ba9"
      },
      "outputs": [
        {
          "output_type": "execute_result",
          "data": {
            "text/plain": [
              "<IPython.core.display.HTML object>"
            ],
            "text/html": [
              "\n",
              "<link rel=\"stylesheet\" type=\"text/css\" href=\"https://cdn.jsdelivr.net/gh/bmabey/pyLDAvis@3.4.0/pyLDAvis/js/ldavis.v1.0.0.css\">\n",
              "\n",
              "\n",
              "<div id=\"ldavis_el8081375378350674081496970592\" style=\"background-color:white;\"></div>\n",
              "<script type=\"text/javascript\">\n",
              "\n",
              "var ldavis_el8081375378350674081496970592_data = {\"mdsDat\": {\"x\": [-0.06112481405917307, 0.09046567056110388, -0.11146208641831787, -0.09261032644633334, 0.17473155636272028], \"y\": [0.08099018563089412, -0.15430954191854965, -0.05187940946737957, 0.03272415120139318, 0.09247461455364193], \"topics\": [1, 2, 3, 4, 5], \"cluster\": [1, 1, 1, 1, 1], \"Freq\": [31.7959294460248, 27.838063962031523, 18.596152838006123, 16.350182949193684, 5.419670804743867]}, \"tinfo\": {\"Term\": [\"labour\", \"party\", \"people\", \"film\", \"election\", \"mobile\", \"music\", \"blair\", \"government\", \"technology\", \"tory\", \"game\", \"company\", \"award\", \"phone\", \"best\", \"win\", \"first\", \"open\", \"Dominant Topic\", \"minister\", \"firm\", \"user\", \"digital\", \"match\", \"howard\", \"network\", \"player\", \"market\", \"brown\", \"yukos\", \"kilroysilk\", \"economist\", \"inflation\", \"oil\", \"glazer\", \"gazprom\", \"housing\", \"airline\", \"administration\", \"yugansk\", \"rosneft\", \"straw\", \"assembly\", \"export\", \"constitution\", \"inquiry\", \"boeing\", \"khodorkovsky\", \"import\", \"construction\", \"tobacco\", \"goldsmith\", \"drinking\", \"aircraft\", \"veritas\", \"currency\", \"jet\", \"airbus\", \"yuganskneftegas\", \"economy\", \"budget\", \"wage\", \"investor\", \"profit\", \"eu\", \"investment\", \"economic\", \"china\", \"pension\", \"foreign\", \"deficit\", \"growth\", \"lord\", \"rate\", \"reform\", \"trade\", \"price\", \"rise\", \"government\", \"sector\", \"bank\", \"share\", \"euro\", \"Dominant Topic\", \"law\", \"court\", \"dollar\", \"stock\", \"increase\", \"house\", \"tax\", \"country\", \"market\", \"year\", \"company\", \"sale\", \"business\", \"deal\", \"state\", \"firm\", \"minister\", \"uk\", \"new\", \"month\", \"last\", \"plan\", \"may\", \"told\", \"one\", \"people\", \"time\", \"coach\", \"rugby\", \"oscar\", \"actress\", \"festival\", \"actor\", \"captain\", \"athens\", \"squad\", \"aviator\", \"referee\", \"athlete\", \"nominated\", \"athletics\", \"starring\", \"gerrard\", \"mourinho\", \"nominee\", \"fa\", \"kenteris\", \"chelsea\", \"iaaf\", \"award\", \"wenger\", \"celtic\", \"thanou\", \"marathon\", \"parry\", \"ranger\", \"foxx\", \"cup\", \"comedy\", \"nomination\", \"stadium\", \"robinson\", \"star\", \"olympic\", \"prize\", \"league\", \"liverpool\", \"andy\", \"zealand\", \"best\", \"film\", \"season\", \"winner\", \"championship\", \"band\", \"football\", \"singer\", \"england\", \"album\", \"team\", \"career\", \"win\", \"club\", \"side\", \"ireland\", \"injury\", \"wale\", \"champion\", \"player\", \"play\", \"game\", \"Dominant Topic\", \"first\", \"six\", \"year\", \"one\", \"two\", \"time\", \"last\", \"back\", \"world\", \"second\", \"three\", \"new\", \"good\", \"show\", \"think\", \"made\", \"microsoft\", \"sony\", \"download\", \"handset\", \"apple\", \"gm\", \"portable\", \"ipod\", \"gadget\", \"xbox\", \"nintendo\", \"fiat\", \"highdefinition\", \"digital\", \"multimedia\", \"playstation\", \"microsofts\", \"ibm\", \"desktop\", \"console\", \"psp\", \"antivirus\", \"handheld\", \"downloaded\", \"computing\", \"itunes\", \"copyright\", \"filesharing\", \"downloads\", \"hardware\", \"mobile\", \"device\", \"machine\", \"server\", \"google\", \"mini\", \"pc\", \"dvd\", \"virus\", \"wireless\", \"software\", \"user\", \"technology\", \"program\", \"network\", \"phone\", \"search\", \"video\", \"computer\", \"content\", \"music\", \"broadband\", \"net\", \"gaming\", \"tv\", \"online\", \"people\", \"game\", \"use\", \"service\", \"industry\", \"firm\", \"new\", \"Dominant Topic\", \"company\", \"one\", \"year\", \"million\", \"system\", \"get\", \"many\", \"uk\", \"way\", \"time\", \"make\", \"id\", \"milburn\", \"boerse\", \"domain\", \"blogger\", \"euronext\", \"poster\", \"bluray\", \"forsyth\", \"casino\", \"hdtv\", \"regiment\", \"refugee\", \"asylum\", \"printer\", \"silicon\", \"rfid\", \"screensaver\", \"lycos\", \"hotspot\", \"seeker\", \"lse\", \"iptv\", \"qwest\", \"gervais\", \"cartridge\", \"wmc\", \"tuition\", \"hddvd\", \"telewest\", \"kennedy\", \"blair\", \"blog\", \"tory\", \"howard\", \"labour\", \"lib\", \"election\", \"party\", \"pledge\", \"manifesto\", \"dem\", \"ink\", \"immigration\", \"prime\", \"student\", \"politics\", \"dems\", \"campaign\", \"conservative\", \"brown\", \"voter\", \"tony\", \"school\", \"people\", \"leader\", \"issue\", \"minister\", \"card\", \"britain\", \"chancellor\", \"michael\", \"Dominant Topic\", \"plan\", \"bbc\", \"service\", \"told\", \"government\", \"new\", \"make\", \"public\", \"one\", \"like\", \"get\", \"time\", \"way\", \"world\", \"ebbers\", \"seed\", \"agassi\", \"safin\", \"lanka\", \"firefox\", \"mirza\", \"marsh\", \"parmalat\", \"cabir\", \"cyprus\", \"fannie\", \"qualifier\", \"mcclaren\", \"worldcoms\", \"hantuchova\", \"michalak\", \"chartered\", \"clijsters\", \"melzer\", \"mae\", \"indonesian\", \"anelka\", \"harinordoquy\", \"valve\", \"lleyton\", \"saulnier\", \"patenting\", \"martinez\", \"worldcom\", \"sri\", \"accounting\", \"thailand\", \"patent\", \"sullivan\", \"federer\", \"tiebreak\", \"hewitt\", \"johansson\", \"argentina\", \"indonesia\", \"stade\", \"directive\", \"creditor\", \"australian\", \"turkey\", \"open\", \"argentine\", \"disaster\", \"match\", \"round\", \"fraud\", \"first\", \"set\", \"Dominant Topic\", \"france\", \"company\", \"win\", \"beat\", \"final\", \"last\", \"two\", \"second\", \"world\", \"former\", \"firm\", \"top\", \"face\", \"game\", \"lost\", \"time\", \"one\", \"bank\", \"play\", \"year\", \"group\"], \"Freq\": [718.0, 697.0, 1793.0, 1001.0, 620.0, 536.0, 715.0, 528.0, 1101.0, 569.0, 468.0, 1358.0, 1000.0, 557.0, 521.0, 853.0, 641.0, 1147.0, 341.0, 8594.0, 673.0, 853.0, 385.0, 319.0, 322.0, 331.0, 361.0, 724.0, 742.0, 413.0, 183.38614223680665, 93.20582283939362, 108.18118437622408, 79.91535693460568, 282.89679649194056, 70.43000021463278, 68.53248144139623, 73.20904450919201, 151.95862635527206, 58.08594497991223, 54.2945809116527, 54.294374508091046, 80.5012468978991, 52.384741012689304, 121.59643124057423, 44.79630462693309, 80.25389007574924, 41.00377122729568, 39.106937021469314, 40.0380097830025, 38.141671321837066, 36.25962169970436, 35.3086794328519, 39.01498568530464, 33.38342973390705, 32.45684649030652, 65.69216524114411, 31.509300794798907, 30.5280495078957, 28.66600727988621, 414.05097480586574, 230.489717063655, 86.41032454841847, 136.6970040175288, 237.1513148109472, 247.2557379182013, 212.01807240095442, 331.05422425203415, 270.95062648151224, 128.53483386182378, 254.03942200030914, 120.7371924584221, 369.77915552320314, 326.36004065907787, 338.24902691541376, 121.1443943310138, 209.20494081583504, 392.4179834337752, 287.6674501441913, 849.4129276274973, 129.4588344330792, 364.4203248166067, 377.2566329831935, 212.40906823070893, 4455.326831116981, 325.72075067456944, 288.43279610312806, 216.47272533629138, 164.90773476384803, 242.5743386984718, 217.98344110297802, 354.49010227457364, 486.9022633936689, 474.7832064017617, 1160.587626107089, 557.9328597677173, 419.4356822358825, 314.22832093041313, 310.249582367747, 275.6992092107934, 448.0360449395058, 384.4220618314315, 466.9930531317073, 597.9839735040277, 383.29959282316537, 459.7433178697124, 344.3493878797093, 340.1016430399623, 329.98915190035586, 365.13809279046035, 360.79570563560344, 320.3138856752784, 241.65905796624185, 204.2898146891916, 172.6694242424216, 147.7553338608781, 137.21321939798287, 235.14354884608167, 109.42496817435485, 96.95347277469995, 135.9294157973355, 84.51435775472228, 84.51279163338249, 84.51130172250379, 79.7190116976413, 69.18101063521154, 64.3898777871915, 67.22726942443364, 62.47416190874912, 59.599604316039574, 59.59727775256223, 58.64170877838001, 176.65675163636283, 56.72413421737836, 550.2269777563375, 51.93252073492422, 52.86703421992274, 50.97619418296552, 50.97465835828512, 50.97414173623575, 50.97080095185049, 48.10235514174855, 281.52296261039373, 121.60900127593332, 128.59415414972605, 79.0997175311684, 124.19112303110526, 380.4609963864217, 138.13991899901836, 180.01215551709413, 182.01014912872196, 147.20833998428637, 106.25652577324846, 92.79099454712667, 740.7037911012393, 858.8150870098189, 239.21659084399576, 195.98771866453762, 138.08005819425313, 220.70669879460038, 157.56497462820442, 130.31289283656554, 475.4020888079764, 182.73202410135596, 328.69784533208383, 168.51174506928095, 481.6762633481334, 322.1594723700224, 297.59158383899313, 256.41182677717353, 210.3238221915324, 285.35569983886853, 214.14431509804064, 461.9365213772619, 373.82731065095425, 667.168341010858, 2243.5268147302113, 525.177044093573, 278.57155972475056, 793.1315292821702, 580.2960413886611, 460.86990530095164, 482.38119720143504, 457.2544621784904, 351.30188532028154, 419.166677866724, 310.18919347181946, 331.3752535122979, 445.06054498692293, 289.4420371337813, 289.2333499774833, 280.88161515793337, 280.39758537980134, 173.68116625488065, 125.05407096310464, 99.32060743642013, 96.45711609833701, 163.46442952367264, 76.44810073620124, 75.4963006207458, 71.68385022151375, 185.55867279926963, 71.63508308847055, 66.91787213521988, 66.91647401859029, 62.12059186404285, 315.3822509496374, 52.61937416841808, 49.75837407202832, 49.75750481995595, 45.94002051939049, 44.9922177667211, 117.9581178704454, 40.227127156308505, 39.272980438597685, 49.56280942829507, 39.26866184827839, 38.31902556294626, 37.36601523021515, 36.39275345672, 34.50748614909882, 34.50632784953082, 34.50208217700468, 524.2233918866342, 212.11815129679246, 174.39876593438683, 50.32297787266155, 107.81294754304474, 78.80705522583902, 245.4470275723595, 160.3402973645381, 144.2935148758238, 90.25734785594894, 273.6962869177649, 355.2766837256443, 516.0624297775888, 159.57127812386716, 324.59875370035155, 450.59636537551853, 187.4327008861054, 279.3951852312157, 296.70915868983013, 162.88281637616274, 559.2574945302212, 187.60346396139258, 294.32214648853596, 132.70794235600923, 298.111759507826, 205.03751188370018, 643.5158024948519, 522.4797735485267, 280.0935583198919, 325.81863502882294, 235.920406502887, 320.2043552142706, 427.0663414207676, 794.128097746471, 323.88578155448005, 390.42968286493453, 439.0120382594778, 254.8039090959271, 227.19618557657074, 266.66693196599556, 254.8749275899242, 262.17999191466015, 247.22710271598928, 261.94435254078604, 252.87405100383518, 77.15124833140285, 61.248258043962785, 52.79202907703973, 46.21704040582064, 44.334425712044485, 36.82217350280201, 75.50328415869373, 30.233023959095643, 30.220301242510015, 27.426155250693427, 29.205037115427317, 25.54668268524652, 24.611714362270103, 88.44424855019257, 23.671240038656116, 26.366124344830638, 21.79307394557673, 20.851280789457974, 20.846361716006843, 19.907887644633583, 19.905089770062645, 64.2505158022053, 22.595555226227948, 18.029985488849555, 18.023335902386265, 17.095553493220176, 17.093433742768664, 16.146451127636784, 16.140920198541906, 16.1347869578751, 115.05875670975338, 467.4224534472487, 106.32582111257682, 404.62366113787874, 287.1038922973314, 600.3477431786047, 140.7473355988526, 491.16286312092836, 533.7061189582486, 45.26562908506863, 47.71193007665355, 59.31249742025217, 34.90719557543651, 108.31036996820568, 222.48646634134633, 91.2274096926839, 77.95389639095737, 80.61942871394113, 224.7474759793536, 168.0281370014335, 266.61852895060747, 115.5451705946067, 145.07700524640333, 148.21084124850546, 668.407422492278, 195.9916485284259, 221.08564817054287, 286.6014861722194, 133.20920327963015, 187.17198722151656, 134.21471489178683, 138.63782535256013, 851.9468276324294, 216.06425589941483, 201.26582448091744, 213.12920029238433, 222.33049398045182, 249.69932392103115, 290.8914885824682, 225.2343748012558, 170.16081878481492, 240.48230117813853, 187.1426070714654, 191.25456285122817, 199.03486368433258, 173.6737876135198, 171.9931082047065, 51.39108187746579, 75.48550665577406, 29.77331675894549, 28.17650731643862, 28.857664958401905, 23.368780157971887, 22.57326734762246, 23.34745324561083, 20.171651998254774, 16.9635952187483, 16.168531467898436, 15.36714971439901, 15.360241631508075, 13.766340013635828, 12.967922052375279, 12.967125620297764, 12.96612122437286, 12.955888278375111, 13.705975546802403, 12.166992074447187, 12.16470637240377, 12.164243712376454, 12.160084854697859, 11.366123804654018, 11.354630532060385, 18.150708311865152, 10.565832848456155, 10.565436313894551, 10.564602241733638, 37.71983119825657, 40.41543789935195, 33.78176035688263, 27.02793157178802, 56.76066838116162, 28.952134380364306, 36.251314867739445, 16.03703775196972, 43.99317294929619, 18.339919951389277, 44.121824645134566, 30.271132049609175, 23.72151246352407, 22.349974731154635, 32.24257293749349, 66.93738079710971, 38.51186901606446, 136.60440919186928, 21.47771164331549, 43.49145560313199, 78.55594096869493, 44.65194706975626, 42.0047229427406, 124.79166257479613, 96.02155233014417, 249.70734679735406, 61.10454177924039, 88.87928595165472, 75.06976338628992, 45.26537848939576, 53.67797411991403, 77.59066114278637, 71.87700086222962, 56.484769023080645, 65.299590350558, 52.005004474394106, 60.13876604124788, 52.285578578956134, 48.23609371694757, 59.80757099614821, 46.85881612803568, 54.80962651393913, 55.35941131262429, 47.93805906016469, 48.026163792966805, 49.264791616261235, 44.685893455227415], \"Total\": [718.0, 697.0, 1793.0, 1001.0, 620.0, 536.0, 715.0, 528.0, 1101.0, 569.0, 468.0, 1358.0, 1000.0, 557.0, 521.0, 853.0, 641.0, 1147.0, 341.0, 8594.0, 673.0, 853.0, 385.0, 319.0, 322.0, 331.0, 361.0, 724.0, 742.0, 413.0, 184.11680744425172, 93.9422443651882, 109.09572276193191, 80.65315856538044, 285.69046066701816, 71.16136996380791, 69.26292027021108, 73.99832777535896, 153.7313124910077, 58.8215396369788, 55.024858185961676, 55.02483274285449, 81.59872080765898, 53.12531902646237, 123.37197547784643, 45.532558179752286, 81.60774119749813, 41.735830486334386, 39.83751165131038, 40.78651135182088, 38.8863971537958, 36.98993744583061, 36.040710969247975, 39.837835459310696, 34.138170763187915, 33.193061955844634, 67.21708667468171, 32.24388980546961, 31.289147062115717, 29.396296788889902, 432.6326216735176, 240.14219178656842, 89.21564967267707, 143.18175818685324, 251.66124341483706, 262.96789438753785, 225.83907048820475, 358.40613887777926, 292.58548821337604, 135.64085195111633, 277.99878310064065, 128.17599141438353, 411.82090334025355, 365.06891067931707, 384.52473468174924, 128.9885925944931, 233.37302250604844, 461.9851634240422, 332.10933059436525, 1101.8398326177928, 139.47290254619136, 449.54626799950535, 469.4886758456389, 248.854909383754, 8594.635918023447, 414.51886413129716, 363.85975748531433, 259.4430656102418, 187.33881777542317, 302.4109410090739, 267.73960330286235, 501.5247277879879, 760.5418290889397, 742.3422921668763, 2579.628637971968, 1000.415030756967, 670.1416062845972, 443.82644408094876, 444.0458576897864, 369.522718858795, 853.7067873753838, 673.4239599280929, 974.2563815161146, 1775.3230715599557, 737.2884286637404, 1246.6343502395393, 623.6015756571348, 625.4024923823702, 826.4292521005665, 1631.7055295348189, 1793.1382160351359, 1318.483925615771, 242.39024570546414, 205.02006273008217, 173.39899144996014, 148.48533898647779, 137.94492706122418, 236.626545800573, 110.15664492394075, 97.69973155348671, 136.9771130659536, 85.24312468051203, 85.2428854135452, 85.2429768491342, 80.45197365156643, 69.91155986001675, 65.12051585673788, 67.99468441573065, 63.20396655693835, 60.3294890836026, 60.32921564780932, 59.37115965186581, 178.8585485459375, 57.45479869849406, 557.6082880895158, 52.66340052175844, 53.617923670809716, 51.70547181250846, 51.705399862549406, 51.70551128527757, 51.70495943012261, 48.83091772227314, 286.59923509819976, 123.56536538723594, 130.92267385128406, 80.44532529976864, 126.99632626766916, 394.2591357677823, 141.72560822882494, 186.75132621263324, 190.50654077606495, 154.11080811455628, 109.9192417463847, 95.76211303142821, 853.4945944188544, 1001.5166620168703, 259.6447345375635, 211.7975918689776, 146.17998854457468, 243.1842130055969, 169.384791154958, 137.8848914655576, 585.2431175500174, 202.00785947044835, 396.8417059040003, 184.75927972440437, 641.2189892326994, 403.32968333552185, 369.6777608781402, 313.2484758069814, 246.85689462296358, 370.8916561233146, 256.01485063119134, 724.6188177424441, 571.753790001948, 1358.362379684466, 8594.635918023447, 1147.3396559675296, 415.7110891729203, 2579.628637971968, 1631.7055295348189, 1070.4956046793561, 1318.483925615771, 1246.6343502395393, 737.5725087013612, 1103.3750915026562, 577.2022732046133, 691.0155298258104, 1775.3230715599557, 637.8764026959254, 686.3288378510744, 592.4682650786655, 773.4811317344291, 174.41322574143163, 125.79707787214174, 100.0590107532519, 97.19914079410376, 164.7715115465697, 77.1808862253142, 76.2274640199044, 72.41449696781956, 187.52430553413583, 72.41383385646085, 67.64824477846597, 67.64829249748705, 62.88154190279497, 319.26240301119117, 53.34934426606139, 50.4896059871201, 50.489423564975255, 46.67571144380423, 45.7232762975552, 120.05737198863102, 40.95702365008299, 40.00365533910322, 50.48698141201582, 40.003507421674705, 39.05035820989007, 38.09718917577954, 37.14376507303439, 35.23744402067526, 35.237440370370514, 35.23738676210822, 536.4820191255058, 217.24522612536978, 179.1422879345628, 51.43706861903207, 111.45528616945992, 80.97424306940006, 258.1956529757226, 167.7684663093173, 150.66879568437793, 93.35146378400935, 290.6071215636655, 385.60077204782954, 569.1901083166903, 170.90699533000833, 361.86203667122163, 521.8651024978076, 205.77790405621028, 316.4148146326943, 350.02666749125905, 181.12605108289307, 715.6664533667097, 225.34385728396506, 385.93555082211026, 155.0298845671356, 470.3318053061068, 306.45061693656066, 1793.1382160351359, 1358.362379684466, 507.6717752836002, 738.6485586757159, 419.3931684748239, 853.7067873753838, 1775.3230715599557, 8594.635918023447, 1000.415030756967, 1631.7055295348189, 2579.628637971968, 591.8984809755599, 461.7092950796079, 869.2062956961147, 734.554820745852, 974.2563815161146, 749.3483826408919, 1318.483925615771, 959.7700391955938, 77.95263598122777, 61.981915569686876, 53.52723227671237, 46.95134474385164, 45.07246866753547, 37.557222961176414, 77.02689368229898, 30.9815449399333, 30.981674911936757, 28.163137096341632, 30.043439059311453, 26.283640950971574, 25.344846134091295, 91.1237596519236, 24.405450992208156, 27.22527527594833, 22.526617439709597, 21.58724031103979, 21.586927162433355, 20.647880628459923, 20.647869756151174, 66.6966565116693, 23.468047992534874, 18.768478352481193, 18.76921648174748, 17.82956215873915, 17.82952281792439, 16.890245215929383, 16.89037519772461, 16.890465332380334, 121.25368620595805, 528.6229390121448, 116.60652743361351, 468.4590440524042, 331.3573035504202, 718.922156726317, 161.76895025252276, 620.379019254921, 697.8041780268961, 49.552282727619186, 52.63089824735817, 66.7481398549107, 37.57719078094911, 128.8847262219477, 290.0085792047764, 109.73315079965326, 92.18229726533498, 96.9005955605508, 316.0232048832196, 232.6749734185606, 413.05556974640047, 153.5865864026747, 203.57142663883445, 226.67384978469295, 1793.1382160351359, 348.40459538724843, 415.4762744693823, 673.4239599280929, 223.56380859699286, 412.0784213614381, 240.62108865051937, 255.30823728887813, 8594.635918023447, 623.6015756571348, 648.6416965822622, 738.6485586757159, 826.4292521005665, 1101.8398326177928, 1775.3230715599557, 959.7700391955938, 496.8228133833248, 1631.7055295348189, 790.8688068786547, 869.2062956961147, 1318.483925615771, 749.3483826408919, 1103.3750915026562, 52.15178646764394, 77.10909614308115, 30.539353280552213, 28.937547422815776, 29.758784184903323, 24.135491994289715, 23.33405319664579, 24.13942646008736, 20.93259161872068, 17.73178350619286, 16.930245492232377, 16.12991911220587, 16.131243212557784, 14.528924005516155, 13.728021167780918, 13.728178848557633, 13.728376668867442, 13.73026342100538, 14.54081774497483, 12.927610869497911, 12.92803374443786, 12.92811724331978, 12.928955960629628, 12.127195422323581, 12.129406834794187, 19.414352548328257, 11.326660228623624, 11.326729374696678, 11.326898733173865, 40.4497976260367, 44.66244818929431, 37.38597888684683, 30.12198240228651, 65.41686762004468, 32.602726303554434, 46.51087114034097, 17.91438623755385, 60.171821810971835, 21.293510209617324, 63.16012400344421, 39.904267241596365, 29.81531691226338, 28.069992217555942, 46.21707502918058, 126.32944443049115, 59.27870100167061, 341.65706767642087, 27.38274908856443, 98.75786060621604, 322.60758698895023, 115.56253782136665, 111.5766568665873, 1147.3396559675296, 688.1760294678675, 8594.635918023447, 327.4268791811243, 1000.415030756967, 641.2189892326994, 190.13675554481893, 332.8605101316236, 1246.6343502395393, 1070.4956046793561, 577.2022732046133, 1103.3750915026562, 404.3115687933714, 853.7067873753838, 501.3687325848071, 311.6201454239592, 1358.362379684466, 278.62361848636766, 1318.483925615771, 1631.7055295348189, 449.54626799950535, 571.753790001948, 2579.628637971968, 569.9452183742906], \"Category\": [\"Default\", \"Default\", \"Default\", \"Default\", \"Default\", \"Default\", \"Default\", \"Default\", \"Default\", \"Default\", \"Default\", \"Default\", \"Default\", \"Default\", \"Default\", \"Default\", \"Default\", \"Default\", \"Default\", \"Default\", \"Default\", \"Default\", \"Default\", \"Default\", \"Default\", \"Default\", \"Default\", \"Default\", \"Default\", \"Default\", \"Topic1\", \"Topic1\", \"Topic1\", \"Topic1\", \"Topic1\", \"Topic1\", \"Topic1\", \"Topic1\", \"Topic1\", \"Topic1\", \"Topic1\", \"Topic1\", \"Topic1\", \"Topic1\", \"Topic1\", \"Topic1\", \"Topic1\", \"Topic1\", \"Topic1\", \"Topic1\", \"Topic1\", \"Topic1\", \"Topic1\", \"Topic1\", \"Topic1\", \"Topic1\", \"Topic1\", \"Topic1\", \"Topic1\", \"Topic1\", \"Topic1\", \"Topic1\", \"Topic1\", \"Topic1\", \"Topic1\", \"Topic1\", \"Topic1\", \"Topic1\", \"Topic1\", \"Topic1\", \"Topic1\", \"Topic1\", \"Topic1\", \"Topic1\", \"Topic1\", \"Topic1\", \"Topic1\", \"Topic1\", \"Topic1\", \"Topic1\", \"Topic1\", \"Topic1\", \"Topic1\", \"Topic1\", \"Topic1\", \"Topic1\", \"Topic1\", \"Topic1\", \"Topic1\", \"Topic1\", \"Topic1\", \"Topic1\", \"Topic1\", \"Topic1\", \"Topic1\", \"Topic1\", \"Topic1\", \"Topic1\", \"Topic1\", \"Topic1\", \"Topic1\", \"Topic1\", \"Topic1\", \"Topic1\", \"Topic1\", \"Topic1\", \"Topic1\", \"Topic1\", \"Topic1\", \"Topic1\", \"Topic1\", \"Topic1\", \"Topic2\", \"Topic2\", \"Topic2\", \"Topic2\", \"Topic2\", \"Topic2\", \"Topic2\", \"Topic2\", \"Topic2\", \"Topic2\", \"Topic2\", \"Topic2\", \"Topic2\", \"Topic2\", \"Topic2\", \"Topic2\", \"Topic2\", \"Topic2\", \"Topic2\", \"Topic2\", \"Topic2\", \"Topic2\", \"Topic2\", \"Topic2\", \"Topic2\", \"Topic2\", \"Topic2\", \"Topic2\", \"Topic2\", \"Topic2\", \"Topic2\", \"Topic2\", \"Topic2\", \"Topic2\", \"Topic2\", \"Topic2\", \"Topic2\", \"Topic2\", \"Topic2\", \"Topic2\", \"Topic2\", \"Topic2\", \"Topic2\", \"Topic2\", \"Topic2\", \"Topic2\", \"Topic2\", \"Topic2\", \"Topic2\", \"Topic2\", \"Topic2\", \"Topic2\", \"Topic2\", \"Topic2\", \"Topic2\", \"Topic2\", \"Topic2\", \"Topic2\", \"Topic2\", \"Topic2\", \"Topic2\", \"Topic2\", \"Topic2\", \"Topic2\", \"Topic2\", \"Topic2\", \"Topic2\", \"Topic2\", \"Topic2\", \"Topic2\", \"Topic2\", \"Topic2\", \"Topic2\", \"Topic2\", \"Topic2\", \"Topic2\", \"Topic2\", \"Topic2\", \"Topic2\", \"Topic2\", \"Topic2\", \"Topic3\", \"Topic3\", \"Topic3\", \"Topic3\", \"Topic3\", \"Topic3\", \"Topic3\", \"Topic3\", \"Topic3\", \"Topic3\", \"Topic3\", \"Topic3\", \"Topic3\", \"Topic3\", \"Topic3\", \"Topic3\", \"Topic3\", \"Topic3\", \"Topic3\", \"Topic3\", \"Topic3\", \"Topic3\", \"Topic3\", \"Topic3\", \"Topic3\", \"Topic3\", \"Topic3\", \"Topic3\", \"Topic3\", \"Topic3\", \"Topic3\", \"Topic3\", \"Topic3\", \"Topic3\", \"Topic3\", \"Topic3\", \"Topic3\", \"Topic3\", \"Topic3\", \"Topic3\", \"Topic3\", \"Topic3\", \"Topic3\", \"Topic3\", \"Topic3\", \"Topic3\", \"Topic3\", \"Topic3\", \"Topic3\", \"Topic3\", \"Topic3\", \"Topic3\", \"Topic3\", \"Topic3\", \"Topic3\", \"Topic3\", \"Topic3\", \"Topic3\", \"Topic3\", \"Topic3\", \"Topic3\", \"Topic3\", \"Topic3\", \"Topic3\", \"Topic3\", \"Topic3\", \"Topic3\", \"Topic3\", \"Topic3\", \"Topic3\", \"Topic3\", \"Topic3\", \"Topic3\", \"Topic3\", \"Topic3\", \"Topic4\", \"Topic4\", \"Topic4\", \"Topic4\", \"Topic4\", \"Topic4\", \"Topic4\", \"Topic4\", \"Topic4\", \"Topic4\", \"Topic4\", \"Topic4\", \"Topic4\", \"Topic4\", \"Topic4\", \"Topic4\", \"Topic4\", \"Topic4\", \"Topic4\", \"Topic4\", \"Topic4\", \"Topic4\", \"Topic4\", \"Topic4\", \"Topic4\", \"Topic4\", \"Topic4\", \"Topic4\", \"Topic4\", \"Topic4\", \"Topic4\", \"Topic4\", \"Topic4\", \"Topic4\", \"Topic4\", \"Topic4\", \"Topic4\", \"Topic4\", \"Topic4\", \"Topic4\", \"Topic4\", \"Topic4\", \"Topic4\", \"Topic4\", \"Topic4\", \"Topic4\", \"Topic4\", \"Topic4\", \"Topic4\", \"Topic4\", \"Topic4\", \"Topic4\", \"Topic4\", \"Topic4\", \"Topic4\", \"Topic4\", \"Topic4\", \"Topic4\", \"Topic4\", \"Topic4\", \"Topic4\", \"Topic4\", \"Topic4\", \"Topic4\", \"Topic4\", \"Topic4\", \"Topic4\", \"Topic4\", \"Topic4\", \"Topic4\", \"Topic4\", \"Topic4\", \"Topic4\", \"Topic4\", \"Topic4\", \"Topic4\", \"Topic4\", \"Topic5\", \"Topic5\", \"Topic5\", \"Topic5\", \"Topic5\", \"Topic5\", \"Topic5\", \"Topic5\", \"Topic5\", \"Topic5\", \"Topic5\", \"Topic5\", \"Topic5\", \"Topic5\", \"Topic5\", \"Topic5\", \"Topic5\", \"Topic5\", \"Topic5\", \"Topic5\", \"Topic5\", \"Topic5\", \"Topic5\", \"Topic5\", \"Topic5\", \"Topic5\", \"Topic5\", \"Topic5\", \"Topic5\", \"Topic5\", \"Topic5\", \"Topic5\", \"Topic5\", \"Topic5\", \"Topic5\", \"Topic5\", \"Topic5\", \"Topic5\", \"Topic5\", \"Topic5\", \"Topic5\", \"Topic5\", \"Topic5\", \"Topic5\", \"Topic5\", \"Topic5\", \"Topic5\", \"Topic5\", \"Topic5\", \"Topic5\", \"Topic5\", \"Topic5\", \"Topic5\", \"Topic5\", \"Topic5\", \"Topic5\", \"Topic5\", \"Topic5\", \"Topic5\", \"Topic5\", \"Topic5\", \"Topic5\", \"Topic5\", \"Topic5\", \"Topic5\", \"Topic5\", \"Topic5\", \"Topic5\", \"Topic5\", \"Topic5\", \"Topic5\", \"Topic5\", \"Topic5\", \"Topic5\", \"Topic5\", \"Topic5\"], \"logprob\": [30.0, 29.0, 28.0, 27.0, 26.0, 25.0, 24.0, 23.0, 22.0, 21.0, 20.0, 19.0, 18.0, 17.0, 16.0, 15.0, 14.0, 13.0, 12.0, 11.0, 10.0, 9.0, 8.0, 7.0, 6.0, 5.0, 4.0, 3.0, 2.0, 1.0, -6.6472, -7.3239, -7.175, -7.4778, -6.2137, -7.6041, -7.6315, -7.5654, -6.8352, -7.7968, -7.8643, -7.8643, -7.4705, -7.9001, -7.0581, -8.0566, -7.4736, -8.1451, -8.1925, -8.1689, -8.2175, -8.2681, -8.2946, -8.1948, -8.3507, -8.3788, -7.6738, -8.4085, -8.4401, -8.503, -5.8328, -6.4186, -7.3997, -6.941, -6.3901, -6.3483, -6.5021, -6.0565, -6.2568, -7.0026, -6.3213, -7.0651, -5.9459, -6.0708, -6.035, -7.0618, -6.5154, -5.8864, -6.197, -5.1142, -6.9954, -5.9605, -5.9258, -6.5002, -3.4569, -6.0727, -6.1943, -6.4813, -6.7534, -6.3675, -6.4743, -5.9881, -5.6707, -5.6959, -4.8021, -5.5345, -5.8198, -6.1086, -6.1214, -6.2394, -5.7539, -5.907, -5.7124, -5.4652, -5.9099, -5.7281, -6.0171, -6.0295, -6.0597, -5.9585, -5.9704, -6.0895, -6.2383, -6.4063, -6.5744, -6.7303, -6.8043, -6.2656, -7.0306, -7.1516, -6.8137, -7.2889, -7.2889, -7.2889, -7.3473, -7.4891, -7.5609, -7.5177, -7.5911, -7.6382, -7.6382, -7.6544, -6.5516, -7.6876, -5.4155, -7.7759, -7.758, -7.7945, -7.7945, -7.7945, -7.7946, -7.8525, -6.0856, -6.925, -6.8692, -7.3551, -6.904, -5.7844, -6.7976, -6.5328, -6.5218, -6.734, -7.06, -7.1955, -5.1182, -4.9703, -6.2485, -6.4478, -6.798, -6.329, -6.666, -6.8559, -5.5617, -6.5178, -5.9307, -6.5988, -5.5486, -5.9508, -6.0301, -6.179, -6.3772, -6.0721, -6.3592, -5.5904, -5.802, -5.2228, -4.01, -5.4621, -6.0961, -5.0498, -5.3623, -5.5927, -5.5471, -5.6006, -5.8642, -5.6876, -5.9886, -5.9226, -5.6276, -6.0579, -6.0586, -6.0879, -6.0896, -6.1652, -6.4936, -6.724, -6.7533, -6.2258, -6.9858, -6.9983, -7.0501, -6.099, -7.0508, -7.1189, -7.1189, -7.1933, -5.5686, -7.3593, -7.4152, -7.4152, -7.495, -7.5159, -6.552, -7.6278, -7.6518, -7.4191, -7.6519, -7.6764, -7.7016, -7.728, -7.7812, -7.7812, -7.7814, -5.0605, -5.9652, -6.161, -7.4039, -6.642, -6.9554, -5.8193, -6.2451, -6.3505, -6.8197, -5.7104, -5.4495, -5.0761, -6.2499, -5.5398, -5.2118, -6.089, -5.6897, -5.6296, -6.2293, -4.9958, -6.088, -5.6377, -6.4342, -5.6249, -5.9992, -4.8554, -5.0638, -5.6873, -5.536, -5.8589, -5.5534, -5.2654, -4.6451, -5.542, -5.3551, -5.2378, -5.7819, -5.8966, -5.7364, -5.7816, -5.7533, -5.8121, -5.7542, -5.7895, -6.8479, -7.0787, -7.2273, -7.3603, -7.4019, -7.5876, -6.8695, -7.7847, -7.7851, -7.8822, -7.8193, -7.9532, -7.9904, -6.7113, -8.0294, -7.9216, -8.1121, -8.1562, -8.1565, -8.2025, -8.2027, -7.0309, -8.0759, -8.3016, -8.302, -8.3548, -8.355, -8.412, -8.4123, -8.4127, -6.4482, -5.0464, -6.5272, -5.1907, -5.5338, -4.7962, -6.2467, -4.9969, -4.9138, -7.3811, -7.3285, -7.1108, -7.641, -6.5087, -5.7888, -6.6803, -6.8375, -6.8039, -5.7787, -6.0695, -5.6078, -6.444, -6.2164, -6.195, -4.6888, -5.9156, -5.7951, -5.5356, -6.3017, -5.9616, -6.2942, -6.2618, -4.4461, -5.8181, -5.889, -5.8318, -5.7895, -5.6734, -5.5207, -5.7765, -6.0569, -5.711, -5.9618, -5.9401, -5.9002, -6.0365, -6.0462, -6.15, -5.7655, -6.6958, -6.751, -6.7271, -6.9381, -6.9727, -6.939, -7.0852, -7.2584, -7.3064, -7.3572, -7.3577, -7.4672, -7.527, -7.527, -7.5271, -7.5279, -7.4716, -7.5907, -7.5909, -7.591, -7.5913, -7.6588, -7.6598, -7.1907, -7.7318, -7.7319, -7.7319, -6.4593, -6.3902, -6.5695, -6.7926, -6.0506, -6.7238, -6.499, -7.3146, -6.3054, -7.1804, -6.3025, -6.6793, -6.9231, -6.9826, -6.6162, -5.8857, -6.4385, -5.1724, -7.0224, -6.3169, -5.7256, -6.2906, -6.3517, -5.2628, -5.5249, -4.5692, -5.9769, -5.6022, -5.771, -6.2769, -6.1065, -5.738, -5.8145, -6.0555, -5.9105, -6.1381, -5.9928, -6.1327, -6.2133, -5.9983, -6.2423, -6.0856, -6.0756, -6.2195, -6.2177, -6.1922, -6.2898], \"loglift\": [30.0, 29.0, 28.0, 27.0, 26.0, 25.0, 24.0, 23.0, 22.0, 21.0, 20.0, 19.0, 18.0, 17.0, 16.0, 15.0, 14.0, 13.0, 12.0, 11.0, 10.0, 9.0, 8.0, 7.0, 6.0, 5.0, 4.0, 3.0, 2.0, 1.0, 1.1419, 1.138, 1.1374, 1.1366, 1.136, 1.1355, 1.1352, 1.1351, 1.1342, 1.1332, 1.1325, 1.1325, 1.1323, 1.1318, 1.1313, 1.1295, 1.1291, 1.1281, 1.1273, 1.1273, 1.1265, 1.1259, 1.1253, 1.125, 1.1235, 1.1234, 1.1229, 1.1228, 1.1212, 1.1207, 1.1019, 1.1048, 1.1139, 1.0995, 1.0864, 1.0842, 1.0827, 1.0664, 1.069, 1.092, 1.0557, 1.086, 1.0381, 1.0337, 1.0176, 1.0831, 1.0365, 0.9826, 1.0022, 0.8856, 1.0713, 0.9359, 0.9271, 0.9875, 0.4888, 0.9048, 0.9135, 0.9648, 1.0183, 0.9254, 0.9402, 0.7989, 0.6999, 0.6989, 0.3471, 0.5619, 0.6773, 0.8005, 0.7873, 0.8529, 0.5011, 0.5852, 0.4105, 0.0577, 0.4917, 0.1483, 0.552, 0.5367, 0.2278, -0.3513, -0.4576, -0.2691, 1.2757, 1.2752, 1.2745, 1.2738, 1.2734, 1.2725, 1.2721, 1.2711, 1.2711, 1.2702, 1.2702, 1.2701, 1.2696, 1.2683, 1.2675, 1.2674, 1.2672, 1.2666, 1.2666, 1.2664, 1.2664, 1.266, 1.2654, 1.2648, 1.2647, 1.2646, 1.2645, 1.2645, 1.2645, 1.2637, 1.2609, 1.2628, 1.2608, 1.2619, 1.2564, 1.2431, 1.2531, 1.242, 1.2331, 1.2329, 1.2449, 1.2472, 1.137, 1.125, 1.1968, 1.2012, 1.2218, 1.1818, 1.2064, 1.2223, 1.0709, 1.1785, 1.0904, 1.1867, 0.9927, 1.0541, 1.0619, 1.0786, 1.1186, 1.0166, 1.1002, 0.8285, 0.8539, 0.5678, -0.0643, 0.4973, 0.8785, 0.0994, 0.2449, 0.436, 0.2733, 0.2758, 0.537, 0.3109, 0.6578, 0.5439, -0.1048, 0.4886, 0.4146, 0.5324, 0.2641, 1.678, 1.6763, 1.6748, 1.6746, 1.6743, 1.6727, 1.6726, 1.6721, 1.6717, 1.6714, 1.6714, 1.6713, 1.67, 1.67, 1.6684, 1.6676, 1.6676, 1.6663, 1.6661, 1.6646, 1.6642, 1.6638, 1.6637, 1.6637, 1.6633, 1.6628, 1.6618, 1.6613, 1.6612, 1.6611, 1.6591, 1.6583, 1.6554, 1.6603, 1.649, 1.6551, 1.6316, 1.6369, 1.639, 1.6485, 1.6223, 1.6003, 1.5842, 1.6136, 1.5735, 1.5354, 1.5888, 1.5578, 1.517, 1.5761, 1.4356, 1.4989, 1.4112, 1.5267, 1.2262, 1.2804, 0.6574, 0.7268, 1.0875, 0.8637, 1.1069, 0.7016, 0.2574, -0.6994, 0.5544, 0.2521, -0.0887, 0.8394, 0.9731, 0.5006, 0.6237, 0.3696, 0.5733, 0.0661, 0.3484, 1.8006, 1.799, 1.7971, 1.7952, 1.7944, 1.7912, 1.791, 1.7865, 1.786, 1.7844, 1.7826, 1.7825, 1.7816, 1.7811, 1.7804, 1.7789, 1.7778, 1.7762, 1.776, 1.7744, 1.7743, 1.7736, 1.773, 1.7708, 1.7704, 1.7689, 1.7688, 1.7659, 1.7655, 1.7652, 1.7585, 1.6879, 1.7186, 1.6644, 1.6676, 1.6307, 1.6717, 1.5774, 1.5428, 1.7205, 1.7128, 1.6928, 1.7372, 1.637, 1.5459, 1.6262, 1.6433, 1.627, 1.4701, 1.4854, 1.3732, 1.5263, 1.4722, 1.3861, 0.8241, 1.2356, 1.1801, 0.9566, 1.2932, 1.0217, 1.2271, 1.2003, -0.5004, 0.751, 0.6407, 0.568, 0.498, 0.3265, 0.0021, 0.3614, 0.7394, -0.1038, 0.3697, 0.297, -0.0798, 0.3489, -0.0477, 2.9004, 2.8939, 2.8897, 2.8885, 2.8844, 2.8829, 2.882, 2.8818, 2.8781, 2.8708, 2.8691, 2.8667, 2.8662, 2.8612, 2.8582, 2.8581, 2.858, 2.8571, 2.856, 2.8545, 2.8543, 2.8542, 2.8538, 2.8503, 2.8491, 2.8478, 2.8456, 2.8456, 2.8455, 2.8453, 2.8152, 2.8138, 2.8068, 2.7732, 2.7964, 2.6659, 2.8044, 2.602, 2.7658, 2.5564, 2.6388, 2.6865, 2.6873, 2.5551, 2.28, 2.4839, 1.9984, 2.6722, 2.095, 1.5025, 1.9642, 1.9382, 0.6966, 0.9457, -0.6235, 1.2365, 0.4942, 0.7702, 1.4799, 1.0904, 0.1384, 0.2142, 0.5909, 0.088, 0.8643, 0.2622, 0.6545, 1.0495, -0.2078, 1.1324, -0.2652, -0.4684, 0.6768, 0.4382, -1.0431, 0.3693]}, \"token.table\": {\"Topic\": [1, 2, 3, 4, 5, 3, 4, 5, 2, 4, 2, 1, 5, 1, 1, 1, 4, 1, 2, 3, 1, 2, 5, 5, 3, 3, 5, 2, 3, 5, 2, 5, 1, 1, 4, 2, 2, 2, 1, 2, 3, 4, 5, 2, 2, 3, 1, 2, 3, 4, 5, 1, 2, 3, 1, 3, 4, 5, 1, 2, 3, 4, 1, 2, 3, 4, 5, 1, 2, 3, 4, 1, 2, 4, 3, 4, 4, 4, 1, 4, 1, 2, 3, 4, 3, 4, 1, 2, 4, 1, 2, 3, 4, 1, 2, 3, 4, 5, 5, 1, 2, 3, 4, 5, 2, 1, 2, 3, 4, 5, 1, 2, 3, 4, 4, 4, 2, 1, 2, 3, 5, 2, 3, 5, 1, 4, 5, 2, 5, 1, 3, 5, 5, 1, 2, 3, 5, 2, 2, 3, 1, 2, 3, 4, 5, 1, 3, 4, 5, 3, 1, 4, 3, 4, 1, 1, 1, 2, 3, 4, 5, 3, 1, 2, 3, 4, 5, 1, 2, 3, 4, 5, 1, 5, 2, 5, 1, 5, 5, 1, 2, 3, 4, 5, 1, 2, 1, 4, 1, 4, 3, 3, 4, 3, 4, 4, 5, 1, 2, 4, 5, 1, 2, 4, 3, 3, 3, 1, 2, 3, 4, 5, 1, 4, 5, 1, 1, 3, 4, 1, 4, 1, 2, 4, 1, 5, 1, 2, 3, 5, 4, 1, 3, 2, 1, 2, 3, 4, 5, 5, 2, 5, 2, 3, 3, 2, 3, 1, 2, 3, 4, 5, 5, 1, 3, 4, 5, 1, 2, 3, 4, 5, 1, 2, 5, 1, 2, 3, 4, 5, 1, 2, 3, 4, 5, 4, 2, 1, 2, 3, 4, 5, 1, 4, 5, 3, 5, 2, 3, 4, 5, 3, 4, 1, 2, 4, 1, 2, 3, 4, 5, 1, 3, 1, 1, 2, 3, 4, 5, 3, 4, 1, 4, 5, 1, 2, 3, 4, 5, 1, 3, 4, 5, 3, 3, 5, 3, 5, 4, 4, 1, 5, 3, 4, 1, 2, 3, 4, 1, 1, 2, 4, 2, 3, 4, 1, 4, 1, 1, 3, 4, 5, 1, 4, 5, 5, 1, 2, 3, 4, 5, 1, 1, 2, 3, 5, 1, 4, 1, 2, 1, 3, 5, 1, 5, 3, 4, 1, 2, 3, 4, 5, 1, 2, 3, 4, 5, 3, 1, 2, 5, 1, 2, 4, 2, 1, 1, 1, 2, 4, 5, 1, 2, 3, 4, 5, 1, 2, 3, 4, 5, 1, 2, 3, 4, 1, 2, 4, 1, 4, 1, 2, 3, 4, 5, 2, 4, 2, 5, 1, 2, 3, 4, 5, 1, 2, 3, 4, 5, 1, 4, 4, 2, 3, 4, 1, 2, 3, 4, 5, 5, 1, 2, 3, 4, 5, 1, 4, 1, 2, 3, 4, 5, 2, 1, 3, 4, 5, 5, 5, 1, 2, 4, 5, 1, 2, 3, 4, 5, 5, 5, 1, 2, 3, 4, 5, 5, 3, 3, 4, 1, 2, 3, 4, 5, 3, 4, 1, 4, 5, 5, 3, 4, 1, 2, 3, 4, 5, 2, 3, 1, 2, 3, 1, 2, 3, 4, 5, 1, 2, 3, 4, 1, 2, 3, 4, 5, 3, 2, 2, 5, 2, 1, 3, 2, 4, 1, 2, 3, 4, 5, 1, 2, 3, 4, 1, 2, 3, 4, 5, 2, 5, 2, 1, 2, 3, 4, 3, 4, 5, 5, 1, 3, 4, 1, 4, 1, 2, 3, 4, 5, 3, 4, 5, 1, 2, 3, 4, 1, 2, 3, 4, 5, 2, 3, 4, 5, 3, 1, 4, 5, 1, 4, 3, 2, 4, 1, 2, 3, 4, 5, 1, 4, 4, 1, 2, 3, 4, 1, 3, 4, 5, 1, 3, 4, 5, 3, 1, 2, 3, 4, 5, 4, 2, 1, 2, 3, 4, 2, 1, 4, 4, 4, 4, 1, 2, 3, 4, 5, 2, 5, 1, 1, 2, 3, 4, 5, 2, 5, 1, 2, 3, 5, 5, 1, 2, 3, 4, 4, 1, 2, 3, 4, 1, 2, 3, 4, 5, 1, 2, 3, 4, 5, 1, 3, 4, 2, 5, 4, 3, 4, 1, 2, 3, 4, 5, 1, 2, 3, 4, 5, 1, 2, 3, 4, 5, 1, 2, 3, 4, 1, 2, 3, 4, 5, 4, 1, 2, 3, 1, 2, 3, 4, 5, 3, 4, 5, 3, 2, 4, 5, 2, 5, 1, 2, 1, 2, 3, 4, 5, 2, 1, 2, 3, 4, 5, 1, 3, 4, 5, 1, 4, 1, 2, 3, 4, 5, 3, 5, 1, 2, 3, 4, 1, 4, 1, 2, 3, 4, 5, 1, 3, 4, 5, 4, 2, 5, 2, 1, 2, 3, 4, 5, 1, 2, 3, 4, 5, 2, 5, 1, 2, 3, 4, 5, 1, 1, 2, 3, 4, 5, 1, 2, 3, 4, 1, 2, 3, 4, 5, 1, 4, 1, 2, 3, 4, 5, 4, 1, 4, 5, 1, 2, 3, 4, 1, 2, 3, 4, 5, 1, 2, 3, 4, 1, 2, 3, 4, 5, 3, 4, 5, 1, 2, 3, 4, 1, 3, 5, 1, 2, 4, 1, 2, 1, 2, 4, 1, 2, 3, 4, 5, 2, 1, 2, 3, 4, 5, 1, 2, 3, 5, 3, 4, 4, 1, 2, 3, 4, 5, 1, 4, 5, 5, 3, 1, 2, 3, 4, 5, 1, 1, 1, 1, 2], \"Freq\": [0.5183465643562176, 0.261093084268317, 0.09238320361365585, 0.0991315988398423, 0.029087910457700202, 0.053495991265956715, 0.026747995632978357, 0.9094318515212642, 0.9931261059697678, 0.004226068536041566, 0.9967314012966494, 0.9860333537331905, 0.9823390732738378, 0.9907588704306417, 0.9666598784368601, 0.9887380621231021, 0.006504855671862514, 0.04950302441803209, 0.9059053468499872, 0.04455272197622888, 0.01819517646068352, 0.9643443524162265, 0.00909758823034176, 0.928149189814056, 0.9749109092507815, 0.9892486781850695, 0.006069010295613923, 0.26915716630120873, 0.015832774488306396, 0.6966420774854815, 0.18259671385909523, 0.7669061982081999, 0.9788176514120915, 0.021948172547309734, 0.9657195920816283, 0.9928379378084203, 0.9971495968569444, 0.9869612427209182, 0.16623203002807946, 0.2058110847966698, 0.03957905476859035, 0.06332648762974455, 0.5303593338991106, 0.9971478675679329, 0.9863554967671241, 0.012553615413399761, 0.25353439532236577, 0.475885415818986, 0.07728053761163022, 0.13964728726312126, 0.05287615731322067, 0.04934530844616883, 0.9087760972169426, 0.04112109037180736, 0.8097053093551664, 0.05561162838977791, 0.026693581627093396, 0.10677432650837358, 0.20350218108937046, 0.33608693543547546, 0.15108495262695684, 0.30987832120426867, 0.01577811713155504, 0.6679402919024966, 0.021037489508740053, 0.05259372377185013, 0.23667175697332557, 0.07732913650723176, 0.868195305331193, 0.03163464675295845, 0.02343307166885811, 0.10026049966549476, 0.015133660326867134, 0.883427421580869, 0.0857584924282494, 0.9090400197394436, 0.9762056816668677, 0.9683183991683981, 0.9823693340288192, 0.9901502047782555, 0.23053864282952724, 0.28392653906373355, 0.029120670673203442, 0.4537971179907536, 0.834280562452135, 0.16419351495068613, 0.309885665211068, 0.043577671670306434, 0.6464021297762121, 0.9577658898208836, 0.008328399041920728, 0.020820997604801817, 0.008328399041920728, 0.7074837567423767, 0.00675939894976793, 0.2027819684930379, 0.051822058614887465, 0.029290728782327698, 0.958730406000204, 0.12973730842059772, 0.06328649191248668, 0.07910811489060836, 0.7119730340154752, 0.01582162297812167, 0.9894999986179738, 0.049202954937259735, 0.03131097132371074, 0.17891983613548995, 0.5949084551505041, 0.14313586890839194, 0.06494937638802102, 0.9147037174646294, 0.02164979212934034, 0.005412448032335085, 0.9534726567397763, 0.9587000165371236, 0.9884754270865934, 0.011718070231487179, 0.8358890098460855, 0.0039060234104957266, 0.1484288895988376, 0.9440416665371378, 0.006840881641573463, 0.047886171491014234, 0.44052664126192004, 0.5568921691424272, 0.9468135899062082, 0.989608835803226, 0.011182020743539276, 0.9262250211205477, 0.05810267660165798, 0.013671218023919525, 0.9628069236228662, 0.15372039936972218, 0.7983543322104926, 0.004958722560313619, 0.04214914176266576, 0.9983900106857504, 0.987331681638052, 0.008092882636377474, 0.5577685089135332, 0.01099543655564313, 0.32386558582076125, 0.01899211768701995, 0.08896307758656713, 0.0028569251799221047, 0.8485067784368652, 0.1342754834563389, 0.014284625899610524, 0.9731024692719963, 0.2750618128786458, 0.7220372588064452, 0.9828634264222789, 0.01665870214275049, 0.9883037940093358, 0.9772054698127447, 0.00552101696040591, 0.01104203392081182, 0.8999257645461635, 0.060731186564465016, 0.02208406784162364, 0.9692070776673973, 0.6403329591790919, 0.12622579893468755, 0.04864952667274416, 0.15383769245165044, 0.030241597661435558, 0.791513746918341, 0.06870779053110598, 0.04672129756115207, 0.008244934863732718, 0.08244934863732718, 0.2812813227966514, 0.6923847945763727, 0.9839523818107055, 0.013956771373201497, 0.981893195095286, 0.01487716962265585, 0.9450542230672807, 0.6981260935814612, 0.10809694352229077, 0.07656866832828929, 0.07656866832828929, 0.04053635382085904, 0.9440145433228281, 0.0546124115971884, 0.1048718363570248, 0.8839197635806375, 0.16511766421499435, 0.835908175088409, 0.9841814420111038, 0.9758557358478256, 0.023015465468109095, 0.9866492171612147, 0.009396659211059187, 0.17812616267391865, 0.783755115765242, 0.09113198630219739, 0.030377328767399132, 0.43540837899938756, 0.43540837899938756, 0.8325526045259357, 0.16188522865782082, 0.9797376465138153, 0.9894161380841208, 0.9749145140925571, 0.9932617021022285, 0.9789688508511855, 0.04172416994677649, 0.9536953130691769, 0.005960595706682355, 0.9779147265001453, 0.9235332883426836, 0.05859274639032131, 0.016740784682948946, 0.9899563178629561, 0.956932000177327, 0.0023114299521191477, 0.03929430918602551, 0.20793739955121274, 0.7914516525553911, 0.1691604685834499, 0.8116285108801891, 0.018795607620383323, 0.9392781600783332, 0.05704118381042509, 0.8519020200364188, 0.012055217264666305, 0.09242333236244167, 0.04018405754888768, 0.9851633609398537, 0.9888793587641563, 0.008105568514460298, 0.9945430146194636, 0.2823950931679209, 0.3369486907117238, 0.09627105448906394, 0.12836140598541856, 0.1540336871825023, 0.9299488668017662, 0.21500349821069145, 0.7740125935584893, 0.9931499687494504, 0.9904167204588182, 0.9932615992086161, 0.8576991602617294, 0.14178496013639766, 0.13218750395654025, 0.6759588270504899, 0.015021307267788666, 0.018025568721346398, 0.16223011849211758, 0.9529534349430969, 0.5247703387451337, 0.3748359562465241, 0.029284059081759694, 0.07028174179622326, 0.1873900190599571, 0.4575802790998953, 0.17257313383196052, 0.07408442613998305, 0.10894768549997506, 0.06494089537198702, 0.9327874062521772, 0.005903717761089729, 0.9136730642020378, 0.0575542087686323, 0.010791414144118555, 0.014388552192158075, 0.0035971380480395187, 0.36605432894658846, 0.39078772955108765, 0.01236670030224961, 0.10388028253889672, 0.12861368314339594, 0.9683143369515335, 0.9829837782898326, 0.17408466935443329, 0.5558492951316992, 0.07940704216167131, 0.003054117006218128, 0.1863011373793058, 0.4301975103752554, 0.18821141078917422, 0.37642282157834844, 0.9918714241879523, 0.005332642065526625, 0.49103244463744455, 0.38428626102060875, 0.08024368285679379, 0.04417083460006997, 0.8578991100416153, 0.14190812346553036, 0.9962040256289315, 0.9853711444611025, 0.9590171234640763, 0.14495983361359727, 0.299123466186788, 0.3071767902764323, 0.21974070016029426, 0.028761871748729614, 0.9836797694535873, 0.9846997581516901, 0.9711240166672636, 0.20066583347341252, 0.4530658271391892, 0.16304098969714767, 0.14736397145703733, 0.03448944012824278, 0.9689984541046676, 0.026916623725129655, 0.7705294135018822, 0.22689323130208547, 0.0018151458504166837, 0.5351391505134139, 0.10000961173529374, 0.16317357704179505, 0.12457337602115535, 0.07895495663312663, 0.8984488086907517, 0.08256016079860962, 0.016997680164419625, 0.002428240023488518, 0.99035431712501, 0.9876630515012074, 0.9469573599972337, 0.9932632131970839, 0.9070522587400006, 0.9472850551096961, 0.9652689874401028, 0.24928612012317158, 0.7312392856946366, 0.9859809114706872, 0.9686224150498566, 0.8142239598129315, 0.05975955668351791, 0.08216939043983712, 0.04108469521991856, 0.9865087792471522, 0.04828624517571678, 0.08450092905750436, 0.8661345228394198, 0.9920842347585149, 0.985523274891744, 0.987779297399806, 0.1551774254891827, 0.8379580976415866, 0.980716385742421, 0.803542355938467, 0.10581627732523022, 0.08597572532674956, 0.0033067586664134443, 0.1503598591016245, 0.10023990606774967, 0.7517992955081225, 0.9282094039022304, 0.3934255786760745, 0.03338156425130329, 0.5627177973791126, 0.007153192339564992, 0.0047687948930433275, 0.9919016368732668, 0.01215278999835935, 0.8506952998851546, 0.01215278999835935, 0.12557882998304662, 0.05322377640358258, 0.9314160870626951, 0.9802991582182473, 0.012253739477728091, 0.9387215398190919, 0.05756311329079337, 0.00442793179159949, 0.9568257977473219, 0.04190477946338636, 0.9942760498908975, 0.9800559470185267, 0.09896297155202025, 0.8172426037844253, 0.009577061763098733, 0.015961769605164555, 0.057462370578592395, 0.3514039404210533, 0.033696268259553054, 0.0697994128233599, 0.5319196632400875, 0.014441257825522738, 0.9712002591394043, 0.9924360923281584, 0.09392533125405926, 0.8453279812865333, 0.016494343904752365, 0.03298868780950473, 0.948424774523261, 0.9937484857287245, 0.9789768081239374, 0.9899699611015748, 0.16135265677193406, 0.002781942358136794, 0.8345827074410381, 0.9745021779052299, 0.3689935223681359, 0.36658704287443067, 0.14358660979107896, 0.05855766768016069, 0.06256846683633609, 0.7864539547149314, 0.00964974177564333, 0.012062177219554163, 0.10855959497598747, 0.08443524053687915, 0.3501675971420473, 0.06888542894597652, 0.01722135723649413, 0.5625643363921415, 0.010498327206260826, 0.9553477757697351, 0.031494981618782475, 0.12363311975987866, 0.8716134943071446, 0.09862571304063047, 0.33128124123904085, 0.3047281646511788, 0.2364488248538192, 0.029081941024801293, 0.9538591212287295, 0.03893302535627467, 0.051508284786252564, 0.9271491261525461, 0.8929820931434068, 0.01917446212271119, 0.010956835498692108, 0.07395863961617173, 0.002739208874673027, 0.2691803387216061, 0.39838690130797705, 0.025123498280683238, 0.13997377613523518, 0.16868634559887316, 0.02998651063790699, 0.9595683404130236, 0.9728109907437519, 0.005582154897816648, 0.9712949522200968, 0.016746464693449946, 0.305114100806572, 0.3619997806179668, 0.13057849229433802, 0.14867848132523634, 0.05300711073334513, 0.9282153989706953, 0.2302634912267374, 0.25631139747410586, 0.26360481122336904, 0.23443115622631633, 0.01562874374842109, 0.07600098294352751, 0.9120117953223301, 0.3022238691110702, 0.13341414041840036, 0.34714903884379683, 0.185146154050025, 0.032672850714710294, 0.9863573270021198, 0.6398665481034205, 0.32868934260470445, 0.0026941749393828234, 0.02694174939382823, 0.952798113825475, 0.9711396083893242, 0.00929922333197562, 0.7253394198940982, 0.021698187774609776, 0.2448795477420246, 0.5436498960930339, 0.11192791978385994, 0.15989702826265706, 0.16629290939316332, 0.017588673108892276, 0.9635951013774083, 0.928245761814616, 0.18800803495301482, 0.23892687775278965, 0.03133467249216913, 0.5444399345514387, 0.003916834061521142, 0.9469437147278148, 0.9976307660174565, 0.9903064140879839, 0.9841580312473096, 0.32437995056778646, 0.14191622837340656, 0.4308171218478414, 0.0963002978248116, 0.0067579156368288845, 0.9756188758972651, 0.024699212048032028, 0.5702202815014228, 0.4261802624763238, 0.002969897299486577, 0.9856838761002821, 0.9767335741357145, 0.022367944445856058, 0.5194710578791372, 0.1600459133935723, 0.2237930144910121, 0.07052870759716745, 0.024413783399019503, 0.9809510917981116, 0.9934517608254161, 0.008383793835486071, 0.21099214485973278, 0.7810901256727856, 0.0803242923176281, 0.04404880546450573, 0.7617852239155697, 0.09068871713280592, 0.02072884963035564, 0.04145226213278794, 0.005526968284371725, 0.8981323462104053, 0.05526968284371725, 0.33684009946118953, 0.2506586024418551, 0.24051960279252163, 0.16391382766422435, 0.007885888616148251, 0.9904174190980293, 0.9943820688163113, 0.9853144318342594, 0.015276192741616424, 0.9945385069788009, 0.9905826023706337, 0.007000583762336633, 0.973712526089077, 0.021167663610632107, 0.22369232278330112, 0.35545629373784837, 0.2390137147547601, 0.1470853629260062, 0.033707062337209756, 0.013052674000092005, 0.003263168500023001, 0.6689495425047153, 0.31326417600220813, 0.1609801324294272, 0.2165914509050475, 0.1463455749358429, 0.0760996989666383, 0.40098687532420957, 0.9976989978625379, 0.9554478663842736, 0.986355201452607, 0.22785762110164884, 0.004299200398144317, 0.001433066799381439, 0.7652576708696885, 0.10700604071502649, 0.015286577245003785, 0.8713349029652158, 0.9711541289733139, 0.027111223288713498, 0.9488928151049725, 0.019365159491938212, 0.9510409153614751, 0.05160687137620407, 0.20132301948157594, 0.06022960139615015, 0.3591468823992657, 0.37253123826507684, 0.00724985942731437, 0.8642080067078153, 0.1303018724082737, 0.00383240801200805, 0.5516342700665916, 0.03367534788197216, 0.0657471077695647, 0.3463750067859994, 0.015741041261780418, 0.6541277146562084, 0.18014747221815366, 0.06646217421640621, 0.0839522200628289, 0.637576597085023, 0.3215483703913644, 0.00414010777327937, 0.037260969959514334, 0.9903028360481759, 0.040361410007964185, 0.9081317251791943, 0.040361410007964185, 0.1518729779504495, 0.8461494485810758, 0.9838973520149655, 0.012982478614865955, 0.9866683747298126, 0.8485120974333002, 0.01515200173988036, 0.12121601391904288, 0.008658286708503063, 0.006493715031377297, 0.2310276481603359, 0.765494595396934, 0.9833868674527833, 0.0053547143159851495, 0.963848576877327, 0.01606414294795545, 0.010709428631970299, 0.9417421482311062, 0.035762360059409096, 0.003973595562156567, 0.01986797781078283, 0.029255677863538485, 0.9361816916332315, 0.017553406718123093, 0.017553406718123093, 0.9766334668686051, 0.5816963154971335, 0.05837091055161548, 0.016102320152169787, 0.342174303233608, 0.9298725338368751, 0.9590548398197876, 0.9863657289766307, 0.8790071730489449, 0.00780183881404389, 0.09622267870654132, 0.01560367762808778, 0.997150666447213, 0.938067448959559, 0.054268364815842254, 0.9863938359591206, 0.9892084604450097, 0.9766224360528588, 0.8671843079041947, 0.02408845299733874, 0.0843095854906856, 0.02408845299733874, 0.0030110566246673424, 0.9764061972835826, 0.01574848705296101, 0.9813750866332697, 0.06057326303114254, 0.41535951792783454, 0.09518655619179542, 0.03461329316065288, 0.3893995480573449, 0.9950245711736752, 0.9676010060867644, 0.6252409879801706, 0.08505664991615686, 0.28501438831554315, 0.002984443856707258, 0.9711600575959611, 0.13234874701468924, 0.19852312052203389, 0.013234874701468925, 0.6529204852724669, 0.9727968789628254, 0.014578824746803332, 0.03401725774254111, 0.908746742550741, 0.03887686599147555, 0.03466274798920656, 0.9204885299355963, 0.003851416443245173, 0.003851416443245173, 0.03466274798920656, 0.152459552023983, 0.5370734219026674, 0.15938953166143677, 0.05370734219026674, 0.09701971492435282, 0.9249108439345565, 0.03584925751684327, 0.03584925751684327, 0.012968638591540904, 0.9726478943655678, 0.9686229250861016, 0.9720616151422684, 0.019441232302845366, 0.2409806367443901, 0.0013538238019347758, 0.4413465594307369, 0.2883644698121072, 0.027076476038695514, 0.28045150039480066, 0.28335773355951366, 0.1976238552004813, 0.09881192760024066, 0.1394991919062221, 0.803001263706629, 0.002129976826808035, 0.1533583315301785, 0.010649884134040173, 0.029819675575312485, 0.17047221906969862, 0.42108095137728974, 0.31034686035765646, 0.09762084339888724, 0.07033152315746304, 0.8061074577278455, 0.018935410080855433, 0.07303658174044239, 0.029755644412772824, 0.9549949352750612, 0.04351455722397799, 0.9428154065195231, 0.007252426203996331, 0.17079169127111413, 0.6711391811921246, 0.06735446979705909, 0.07216550335399188, 0.01924413422773117, 0.9428537006446787, 0.003441071900163061, 0.05505715040260897, 0.9936637807044144, 0.9928665961481965, 0.08956069723376268, 0.8956069723376269, 0.20123884705488848, 0.8049553882195539, 0.012430803110977984, 0.9820334457672608, 0.007609208583480975, 0.9638330872409234, 0.0202912228892826, 0.002536402861160325, 0.00507280572232065, 0.982793197474004, 0.7469094210293126, 0.07036103241580481, 0.03788670976235643, 0.08118580663362093, 0.06494864530689674, 0.8807571327678476, 0.016013766050324504, 0.03736545411742384, 0.06939298621807284, 0.9926626201767274, 0.012255094076255893, 0.0182260327478569, 0.10935619648714141, 0.0182260327478569, 0.829284490027489, 0.027339049121785353, 0.09201684460581237, 0.889496164522853, 0.1819326595656185, 0.015161054963801542, 0.49165135382613573, 0.31188455925534597, 0.705847549255135, 0.2911122660769766, 0.04283823939642185, 0.829045927142517, 0.06551730731217459, 0.05039792870167276, 0.01259948217541819, 0.014055058025619974, 0.9065512426524883, 0.07730281914090986, 0.0017568822532024967, 0.9472799999966109, 0.09959503859786716, 0.8963553473808044, 0.9863559544516564, 0.19241536926009625, 0.4742870066849741, 0.14177974577059724, 0.1856639527948297, 0.006751416465266535, 0.3227134418472669, 0.4790051535939253, 0.12011307476826526, 0.030390055061850246, 0.04775580081147896, 0.055821058379533224, 0.8931369340725316, 0.24270299681549057, 0.3655713889533327, 0.1987130786426829, 0.1509309261446332, 0.04171457757766244, 0.9732376555845678, 0.399308227729387, 0.2456350613001987, 0.06655137128823117, 0.2686255350179513, 0.019360398920212706, 0.2357894759226649, 0.03929824598711082, 0.009824561496777705, 0.7122807085163836, 0.13163964106763681, 0.5305476443028999, 0.1396178011323421, 0.09374338076028683, 0.10371608084116841, 0.13448347470254518, 0.8645366230877906, 0.895561953801165, 0.008569970849771914, 0.06427478137328936, 0.029994897974201698, 0.004284985424885957, 0.9472923451052219, 0.32051984404085604, 0.016869465475834528, 0.6579091535575465, 0.010630792864934666, 0.30829299308310526, 0.633595254750106, 0.046775488605712526, 0.2718367069682297, 0.430641656056199, 0.12050493195498843, 0.11022931760223748, 0.06725856667255169, 0.4793399446593983, 0.09545741938613285, 0.2689230524641592, 0.15499000351942, 0.1359145876515483, 0.04924441581577836, 0.5515374571367176, 0.25016163234415406, 0.013788436428417941, 0.9206413102201106, 0.07780067410310794, 0.9068868865413606, 0.9640568876281521, 0.07901020699369245, 0.8817539100496077, 0.03476449107722467, 0.006637074355427963, 0.9557387071816266, 0.03318537177713981, 0.17579660198457148, 0.07162083784556615, 0.7552742900077886, 0.9639564394310308, 0.022417591614675134, 0.22378502894226351, 0.7684184728740373, 0.0053924103359581565, 0.16681159644259003, 0.23353623501962603, 0.3296197145705579, 0.23220174224808532, 0.03736579760314017, 0.9874030063538273, 0.03742871063241448, 0.7516932718676574, 0.012476236877471491, 0.08265506931324863, 0.11696472072629524, 0.03777191199109085, 0.9254118437817257, 0.018885955995545423, 0.018885955995545423, 0.9640984335096903, 0.03213661445032301, 0.9534747605757317, 0.2157018060611413, 0.3797439358807488, 0.1894188128856241, 0.15588533883410213, 0.058910157117538595, 0.04944400509713901, 0.024722002548569506, 0.9394360968456412, 0.9469682367995212, 0.9942851547222157, 0.4500647817713583, 0.30740858909964436, 0.17017953419261522, 0.053496072251892714, 0.01899498217639669, 0.9813746328523361, 0.986518819301087, 0.9939342450059054, 0.0208850863529256, 0.9711565154110403], \"Term\": [\"Dominant Topic\", \"Dominant Topic\", \"Dominant Topic\", \"Dominant Topic\", \"Dominant Topic\", \"accounting\", \"accounting\", \"accounting\", \"actor\", \"actor\", \"actress\", \"administration\", \"agassi\", \"airbus\", \"aircraft\", \"airline\", \"airline\", \"album\", \"album\", \"album\", \"andy\", \"andy\", \"andy\", \"anelka\", \"antivirus\", \"apple\", \"apple\", \"argentina\", \"argentina\", \"argentina\", \"argentine\", \"argentine\", \"assembly\", \"asylum\", \"asylum\", \"athens\", \"athlete\", \"athletics\", \"australian\", \"australian\", \"australian\", \"australian\", \"australian\", \"aviator\", \"award\", \"award\", \"back\", \"back\", \"back\", \"back\", \"back\", \"band\", \"band\", \"band\", \"bank\", \"bank\", \"bank\", \"bank\", \"bbc\", \"bbc\", \"bbc\", \"bbc\", \"beat\", \"beat\", \"beat\", \"beat\", \"beat\", \"best\", \"best\", \"best\", \"best\", \"blair\", \"blair\", \"blair\", \"blog\", \"blog\", \"blogger\", \"bluray\", \"boeing\", \"boerse\", \"britain\", \"britain\", \"britain\", \"britain\", \"broadband\", \"broadband\", \"brown\", \"brown\", \"brown\", \"budget\", \"budget\", \"budget\", \"budget\", \"business\", \"business\", \"business\", \"business\", \"business\", \"cabir\", \"campaign\", \"campaign\", \"campaign\", \"campaign\", \"campaign\", \"captain\", \"card\", \"card\", \"card\", \"card\", \"card\", \"career\", \"career\", \"career\", \"career\", \"cartridge\", \"casino\", \"celtic\", \"champion\", \"champion\", \"champion\", \"champion\", \"championship\", \"championship\", \"championship\", \"chancellor\", \"chancellor\", \"chartered\", \"chelsea\", \"chelsea\", \"china\", \"china\", \"china\", \"clijsters\", \"club\", \"club\", \"club\", \"club\", \"coach\", \"comedy\", \"comedy\", \"company\", \"company\", \"company\", \"company\", \"company\", \"computer\", \"computer\", \"computer\", \"computer\", \"computing\", \"conservative\", \"conservative\", \"console\", \"console\", \"constitution\", \"construction\", \"content\", \"content\", \"content\", \"content\", \"content\", \"copyright\", \"country\", \"country\", \"country\", \"country\", \"country\", \"court\", \"court\", \"court\", \"court\", \"court\", \"creditor\", \"creditor\", \"cup\", \"cup\", \"currency\", \"currency\", \"cyprus\", \"deal\", \"deal\", \"deal\", \"deal\", \"deal\", \"deficit\", \"deficit\", \"dem\", \"dem\", \"dems\", \"dems\", \"desktop\", \"device\", \"device\", \"digital\", \"digital\", \"directive\", \"directive\", \"disaster\", \"disaster\", \"disaster\", \"disaster\", \"dollar\", \"dollar\", \"domain\", \"download\", \"downloaded\", \"downloads\", \"drinking\", \"dvd\", \"dvd\", \"dvd\", \"ebbers\", \"economic\", \"economic\", \"economic\", \"economist\", \"economy\", \"economy\", \"economy\", \"election\", \"election\", \"england\", \"england\", \"england\", \"eu\", \"eu\", \"euro\", \"euro\", \"euro\", \"euro\", \"euronext\", \"export\", \"export\", \"fa\", \"face\", \"face\", \"face\", \"face\", \"face\", \"fannie\", \"federer\", \"federer\", \"festival\", \"fiat\", \"filesharing\", \"film\", \"film\", \"final\", \"final\", \"final\", \"final\", \"final\", \"firefox\", \"firm\", \"firm\", \"firm\", \"firm\", \"first\", \"first\", \"first\", \"first\", \"first\", \"football\", \"football\", \"football\", \"foreign\", \"foreign\", \"foreign\", \"foreign\", \"foreign\", \"former\", \"former\", \"former\", \"former\", \"former\", \"forsyth\", \"foxx\", \"france\", \"france\", \"france\", \"france\", \"france\", \"fraud\", \"fraud\", \"fraud\", \"gadget\", \"gadget\", \"game\", \"game\", \"game\", \"game\", \"gaming\", \"gaming\", \"gazprom\", \"gerrard\", \"gervais\", \"get\", \"get\", \"get\", \"get\", \"get\", \"glazer\", \"gm\", \"goldsmith\", \"good\", \"good\", \"good\", \"good\", \"good\", \"google\", \"google\", \"government\", \"government\", \"government\", \"group\", \"group\", \"group\", \"group\", \"group\", \"growth\", \"growth\", \"growth\", \"growth\", \"handheld\", \"handset\", \"hantuchova\", \"hardware\", \"harinordoquy\", \"hddvd\", \"hdtv\", \"hewitt\", \"hewitt\", \"highdefinition\", \"hotspot\", \"house\", \"house\", \"house\", \"house\", \"housing\", \"howard\", \"howard\", \"howard\", \"iaaf\", \"ibm\", \"id\", \"immigration\", \"immigration\", \"import\", \"increase\", \"increase\", \"increase\", \"increase\", \"indonesia\", \"indonesia\", \"indonesia\", \"indonesian\", \"industry\", \"industry\", \"industry\", \"industry\", \"industry\", \"inflation\", \"injury\", \"injury\", \"injury\", \"injury\", \"ink\", \"ink\", \"inquiry\", \"inquiry\", \"investment\", \"investment\", \"investment\", \"investor\", \"investor\", \"ipod\", \"iptv\", \"ireland\", \"ireland\", \"ireland\", \"ireland\", \"ireland\", \"issue\", \"issue\", \"issue\", \"issue\", \"issue\", \"itunes\", \"jet\", \"johansson\", \"johansson\", \"kennedy\", \"kennedy\", \"kennedy\", \"kenteris\", \"khodorkovsky\", \"kilroysilk\", \"labour\", \"labour\", \"labour\", \"lanka\", \"last\", \"last\", \"last\", \"last\", \"last\", \"law\", \"law\", \"law\", \"law\", \"law\", \"leader\", \"leader\", \"leader\", \"leader\", \"league\", \"league\", \"league\", \"lib\", \"lib\", \"like\", \"like\", \"like\", \"like\", \"like\", \"liverpool\", \"liverpool\", \"lleyton\", \"lleyton\", \"lord\", \"lord\", \"lord\", \"lord\", \"lord\", \"lost\", \"lost\", \"lost\", \"lost\", \"lost\", \"lse\", \"lse\", \"lycos\", \"machine\", \"machine\", \"machine\", \"made\", \"made\", \"made\", \"made\", \"made\", \"mae\", \"make\", \"make\", \"make\", \"make\", \"make\", \"manifesto\", \"manifesto\", \"many\", \"many\", \"many\", \"many\", \"many\", \"marathon\", \"market\", \"market\", \"market\", \"market\", \"marsh\", \"martinez\", \"match\", \"match\", \"match\", \"match\", \"may\", \"may\", \"may\", \"may\", \"may\", \"mcclaren\", \"melzer\", \"michael\", \"michael\", \"michael\", \"michael\", \"michael\", \"michalak\", \"microsoft\", \"microsofts\", \"milburn\", \"million\", \"million\", \"million\", \"million\", \"million\", \"mini\", \"mini\", \"minister\", \"minister\", \"minister\", \"mirza\", \"mobile\", \"mobile\", \"month\", \"month\", \"month\", \"month\", \"month\", \"mourinho\", \"multimedia\", \"music\", \"music\", \"music\", \"net\", \"net\", \"net\", \"net\", \"net\", \"network\", \"network\", \"network\", \"network\", \"new\", \"new\", \"new\", \"new\", \"new\", \"nintendo\", \"nominated\", \"nomination\", \"nomination\", \"nominee\", \"oil\", \"oil\", \"olympic\", \"olympic\", \"one\", \"one\", \"one\", \"one\", \"one\", \"online\", \"online\", \"online\", \"online\", \"open\", \"open\", \"open\", \"open\", \"open\", \"oscar\", \"parmalat\", \"parry\", \"party\", \"party\", \"party\", \"party\", \"patent\", \"patent\", \"patent\", \"patenting\", \"pc\", \"pc\", \"pc\", \"pension\", \"pension\", \"people\", \"people\", \"people\", \"people\", \"people\", \"phone\", \"phone\", \"phone\", \"plan\", \"plan\", \"plan\", \"plan\", \"play\", \"play\", \"play\", \"play\", \"play\", \"player\", \"player\", \"player\", \"player\", \"playstation\", \"pledge\", \"pledge\", \"pledge\", \"politics\", \"politics\", \"portable\", \"poster\", \"poster\", \"price\", \"price\", \"price\", \"price\", \"price\", \"prime\", \"prime\", \"printer\", \"prize\", \"prize\", \"prize\", \"prize\", \"profit\", \"profit\", \"profit\", \"profit\", \"program\", \"program\", \"program\", \"program\", \"psp\", \"public\", \"public\", \"public\", \"public\", \"qualifier\", \"qwest\", \"ranger\", \"rate\", \"rate\", \"rate\", \"rate\", \"referee\", \"reform\", \"reform\", \"refugee\", \"regiment\", \"rfid\", \"rise\", \"rise\", \"rise\", \"rise\", \"rise\", \"robinson\", \"robinson\", \"rosneft\", \"round\", \"round\", \"round\", \"round\", \"round\", \"rugby\", \"safin\", \"sale\", \"sale\", \"sale\", \"sale\", \"saulnier\", \"school\", \"school\", \"school\", \"school\", \"screensaver\", \"search\", \"search\", \"search\", \"search\", \"season\", \"season\", \"season\", \"season\", \"season\", \"second\", \"second\", \"second\", \"second\", \"second\", \"sector\", \"sector\", \"sector\", \"seed\", \"seed\", \"seeker\", \"server\", \"server\", \"service\", \"service\", \"service\", \"service\", \"service\", \"set\", \"set\", \"set\", \"set\", \"set\", \"share\", \"share\", \"share\", \"share\", \"share\", \"show\", \"show\", \"show\", \"show\", \"side\", \"side\", \"side\", \"side\", \"side\", \"silicon\", \"singer\", \"singer\", \"singer\", \"six\", \"six\", \"six\", \"six\", \"six\", \"software\", \"software\", \"software\", \"sony\", \"squad\", \"sri\", \"sri\", \"stade\", \"stade\", \"stadium\", \"stadium\", \"star\", \"star\", \"star\", \"star\", \"star\", \"starring\", \"state\", \"state\", \"state\", \"state\", \"state\", \"stock\", \"stock\", \"stock\", \"stock\", \"straw\", \"straw\", \"student\", \"student\", \"student\", \"student\", \"student\", \"sullivan\", \"sullivan\", \"system\", \"system\", \"system\", \"system\", \"tax\", \"tax\", \"team\", \"team\", \"team\", \"team\", \"team\", \"technology\", \"technology\", \"technology\", \"technology\", \"telewest\", \"thailand\", \"thailand\", \"thanou\", \"think\", \"think\", \"think\", \"think\", \"think\", \"three\", \"three\", \"three\", \"three\", \"three\", \"tiebreak\", \"tiebreak\", \"time\", \"time\", \"time\", \"time\", \"time\", \"tobacco\", \"told\", \"told\", \"told\", \"told\", \"told\", \"tony\", \"tony\", \"tony\", \"tony\", \"top\", \"top\", \"top\", \"top\", \"top\", \"tory\", \"tory\", \"trade\", \"trade\", \"trade\", \"trade\", \"trade\", \"tuition\", \"turkey\", \"turkey\", \"turkey\", \"tv\", \"tv\", \"tv\", \"tv\", \"two\", \"two\", \"two\", \"two\", \"two\", \"uk\", \"uk\", \"uk\", \"uk\", \"use\", \"use\", \"use\", \"use\", \"use\", \"user\", \"user\", \"valve\", \"veritas\", \"video\", \"video\", \"video\", \"virus\", \"virus\", \"virus\", \"voter\", \"voter\", \"voter\", \"wage\", \"wage\", \"wale\", \"wale\", \"wale\", \"way\", \"way\", \"way\", \"way\", \"way\", \"wenger\", \"win\", \"win\", \"win\", \"win\", \"win\", \"winner\", \"winner\", \"winner\", \"winner\", \"wireless\", \"wireless\", \"wmc\", \"world\", \"world\", \"world\", \"world\", \"world\", \"worldcom\", \"worldcom\", \"worldcom\", \"worldcoms\", \"xbox\", \"year\", \"year\", \"year\", \"year\", \"year\", \"yugansk\", \"yuganskneftegas\", \"yukos\", \"zealand\", \"zealand\"]}, \"R\": 30, \"lambda.step\": 0.01, \"plot.opts\": {\"xlab\": \"PC1\", \"ylab\": \"PC2\"}, \"topic.order\": [3, 5, 4, 2, 1]};\n",
              "\n",
              "function LDAvis_load_lib(url, callback){\n",
              "  var s = document.createElement('script');\n",
              "  s.src = url;\n",
              "  s.async = true;\n",
              "  s.onreadystatechange = s.onload = callback;\n",
              "  s.onerror = function(){console.warn(\"failed to load library \" + url);};\n",
              "  document.getElementsByTagName(\"head\")[0].appendChild(s);\n",
              "}\n",
              "\n",
              "if(typeof(LDAvis) !== \"undefined\"){\n",
              "   // already loaded: just create the visualization\n",
              "   !function(LDAvis){\n",
              "       new LDAvis(\"#\" + \"ldavis_el8081375378350674081496970592\", ldavis_el8081375378350674081496970592_data);\n",
              "   }(LDAvis);\n",
              "}else if(typeof define === \"function\" && define.amd){\n",
              "   // require.js is available: use it to load d3/LDAvis\n",
              "   require.config({paths: {d3: \"https://d3js.org/d3.v5\"}});\n",
              "   require([\"d3\"], function(d3){\n",
              "      window.d3 = d3;\n",
              "      LDAvis_load_lib(\"https://cdn.jsdelivr.net/gh/bmabey/pyLDAvis@3.4.0/pyLDAvis/js/ldavis.v3.0.0.js\", function(){\n",
              "        new LDAvis(\"#\" + \"ldavis_el8081375378350674081496970592\", ldavis_el8081375378350674081496970592_data);\n",
              "      });\n",
              "    });\n",
              "}else{\n",
              "    // require.js not available: dynamically load d3 & LDAvis\n",
              "    LDAvis_load_lib(\"https://d3js.org/d3.v5.js\", function(){\n",
              "         LDAvis_load_lib(\"https://cdn.jsdelivr.net/gh/bmabey/pyLDAvis@3.4.0/pyLDAvis/js/ldavis.v3.0.0.js\", function(){\n",
              "                 new LDAvis(\"#\" + \"ldavis_el8081375378350674081496970592\", ldavis_el8081375378350674081496970592_data);\n",
              "            })\n",
              "         });\n",
              "}\n",
              "</script>"
            ]
          },
          "metadata": {},
          "execution_count": 32
        }
      ],
      "source": [
        "# Get the topic-term distributions from the best LDA model\n",
        "topic_term_dists = best_lda_count_model.components_ / best_lda_count_model.components_.sum(axis=1)[:, np.newaxis]\n",
        "\n",
        "# Get the document-topic distributions from the best LDA model\n",
        "doc_topic_dists = best_lda_count_model.transform(count_vectorized_df)\n",
        "\n",
        "# Calculate the term frequency by summing the count vectorized data\n",
        "term_frequency = count_vectorized_df.sum(axis=0)\n",
        "\n",
        "# Get the feature names from the CountVectorizer\n",
        "feature_names = count_vectorized_df.columns\n",
        "\n",
        "# Prepare the data for visualization\n",
        "vis_data_count_vectorizer = pyLDAvis.prepare(topic_term_dists, doc_topic_dists, count_vectorized_df.sum(axis=1), feature_names, term_frequency)\n",
        "\n",
        "# Display the visualization\n",
        "pyLDAvis.display(vis_data_count_vectorizer)"
      ]
    },
    {
      "cell_type": "markdown",
      "metadata": {
        "id": "IrgryvXi_2cW"
      },
      "source": [
        "## Model -LDA Model for With TF-IDF Vectorizer"
      ]
    },
    {
      "cell_type": "code",
      "execution_count": null,
      "metadata": {
        "id": "W04qwfOooeqv",
        "colab": {
          "base_uri": "https://localhost:8080/"
        },
        "outputId": "a5c72630-5619-4ad5-ce30-12502c6b3e64"
      },
      "outputs": [
        {
          "output_type": "stream",
          "name": "stdout",
          "text": [
            "Best LDA model's params: {'n_components': 5}\n",
            "Best log likelihood Score for the LDA model: -51843.64814581839\n",
            "LDA model Perplexity on train data: 36923.61719334806\n"
          ]
        }
      ],
      "source": [
        "#creating LDA model with TF-IDF vectorizer\n",
        "\n",
        "# Define the parameter grid for grid search\n",
        "grid_params = {'n_components': list(range(5, 20))}\n",
        "\n",
        "# Create an instance of LDA\n",
        "lda = LatentDirichletAllocation()\n",
        "\n",
        "# Perform grid search to find the best LDA model\n",
        "lda_tfidf_model = GridSearchCV(lda, param_grid=grid_params)\n",
        "lda_tfidf_model.fit(tfidf_vectorized_df)\n",
        "\n",
        "# Get the best LDA model\n",
        "best_tfidf_lda_model = lda_tfidf_model.best_estimator_\n",
        "\n",
        "#best parameter\n",
        "best_tfidf_paramaters=lda_tfidf_model.best_params_\n",
        "tfidf_log_likelihhod_score=lda_tfidf_model.best_score_\n",
        "tfidf_perplexity=best_tfidf_lda_model.perplexity(tfidf_vectorized_df)\n",
        "\n",
        "# Print the best parameters and scores\n",
        "print(\"Best LDA model's params:\", best_tfidf_paramaters)\n",
        "print(\"Best log likelihood Score for the LDA model:\", tfidf_log_likelihhod_score)\n",
        "print(\"LDA model Perplexity on train data:\",tfidf_perplexity)"
      ]
    },
    {
      "cell_type": "code",
      "execution_count": null,
      "metadata": {
        "id": "6BmLB4F-D3ex",
        "colab": {
          "base_uri": "https://localhost:8080/",
          "height": 861
        },
        "outputId": "dd92c8ca-7973-4237-c24a-a109acd6f0ef"
      },
      "outputs": [
        {
          "output_type": "execute_result",
          "data": {
            "text/plain": [
              "<IPython.core.display.HTML object>"
            ],
            "text/html": [
              "\n",
              "<link rel=\"stylesheet\" type=\"text/css\" href=\"https://cdn.jsdelivr.net/gh/bmabey/pyLDAvis@3.4.0/pyLDAvis/js/ldavis.v1.0.0.css\">\n",
              "\n",
              "\n",
              "<div id=\"ldavis_el808137537835068304572138983\" style=\"background-color:white;\"></div>\n",
              "<script type=\"text/javascript\">\n",
              "\n",
              "var ldavis_el808137537835068304572138983_data = {\"mdsDat\": {\"x\": [0.1271741907504097, -0.036284111746362306, -0.03257842790269021, -0.02945055090665231, -0.028861100194704895], \"y\": [0.00034491178535334333, 0.01130439700045751, -0.007741615642497255, -0.0022328184219749486, -0.0016748747213386384], \"topics\": [1, 2, 3, 4, 5], \"cluster\": [1, 1, 1, 1, 1], \"Freq\": [88.23108074437724, 4.231767678697228, 2.9526468437591378, 2.341086635336968, 2.2434180978294327]}, \"tinfo\": {\"Term\": [\"england\", \"ireland\", \"race\", \"olympic\", \"robinson\", \"wale\", \"side\", \"rugby\", \"injury\", \"italy\", \"squad\", \"try\", \"penalty\", \"ball\", \"newcastle\", \"coach\", \"cup\", \"lion\", \"athlete\", \"athletics\", \"yukos\", \"captain\", \"athens\", \"championship\", \"arsenal\", \"minute\", \"leicester\", \"olympics\", \"goal\", \"cross\", \"year\", \"film\", \"people\", \"new\", \"one\", \"game\", \"government\", \"last\", \"world\", \"time\", \"company\", \"first\", \"labour\", \"uk\", \"best\", \"firm\", \"two\", \"election\", \"party\", \"sale\", \"award\", \"market\", \"number\", \"country\", \"make\", \"minister\", \"blair\", \"show\", \"service\", \"music\", \"player\", \"souness\", \"odriscoll\", \"ruddock\", \"henson\", \"hodgson\", \"wilkinson\", \"ogara\", \"flanker\", \"gloucester\", \"lewsey\", \"dallaglio\", \"mcclaren\", \"robben\", \"tait\", \"barkley\", \"flyhalf\", \"tindall\", \"capt\", \"gallas\", \"scrumhalf\", \"cueto\", \"osullivan\", \"oconnell\", \"corry\", \"fullback\", \"juninho\", \"bellamy\", \"easterby\", \"celtic\", \"dawson\", \"woodward\", \"moya\", \"bath\", \"robinson\", \"twickenham\", \"oconnor\", \"squad\", \"england\", \"ireland\", \"lion\", \"newcastle\", \"zealand\", \"penalty\", \"italy\", \"rugby\", \"wasp\", \"side\", \"wale\", \"injury\", \"kenteris\", \"iaaf\", \"thanou\", \"marathon\", \"radcliffe\", \"chepkemei\", \"gardener\", \"mcilroy\", \"lewisfrancis\", \"paula\", \"yelling\", \"greene\", \"medallist\", \"indoor\", \"tzekos\", \"kostas\", \"bekele\", \"bronze\", \"isinbayeva\", \"prix\", \"greek\", \"katerina\", \"kluft\", \"sotherton\", \"athens\", \"harrier\", \"pavey\", \"harinordoquy\", \"ceplak\", \"ambani\", \"holmes\", \"toulousain\", \"athletics\", \"aaa\", \"gb\", \"olympic\", \"race\", \"stade\", \"olympics\", \"athlete\", \"sprinter\", \"yukos\", \"gazprom\", \"yugansk\", \"rosneft\", \"khodorkovsky\", \"yuganskneftegas\", \"baikal\", \"rochus\", \"menatep\", \"adelaide\", \"southcorp\", \"yuganskneftegaz\", \"kronor\", \"sayeed\", \"ballet\", \"metlife\", \"nestle\", \"elgindy\", \"clijsters\", \"novartis\", \"melzer\", \"hardcourt\", \"aer\", \"lingus\", \"sina\", \"hodges\", \"camus\", \"titan\", \"benin\", \"dokic\", \"dtt\", \"kremlin\", \"scrushy\", \"chela\", \"bombardier\", \"glazer\", \"mirza\", \"swank\", \"capriati\", \"heninhardenne\", \"kuznetsova\", \"magnier\", \"mcmanus\", \"argonaut\", \"rossignol\", \"cocoa\", \"oracle\", \"diageo\", \"sharapova\", \"dechy\", \"mauresmo\", \"peoplesoft\", \"cantona\", \"soderling\", \"duchy\", \"gibraltar\", \"godzilla\", \"eerdekens\", \"quiksilver\", \"exel\", \"roxy\", \"rigoglioso\", \"bening\", \"justine\", \"gibraltarian\", \"axa\", \"staunton\", \"foxx\", \"aguilera\", \"kosslick\", \"imelda\"], \"Freq\": [12.0, 6.0, 4.0, 3.0, 2.0, 8.0, 8.0, 6.0, 7.0, 4.0, 2.0, 6.0, 2.0, 3.0, 2.0, 6.0, 8.0, 2.0, 2.0, 1.0, 1.0, 2.0, 1.0, 4.0, 4.0, 6.0, 2.0, 2.0, 5.0, 2.0, 31.027181093899475, 24.952158097261407, 24.48452878464027, 23.69385613090697, 21.129960145101567, 25.62062791875241, 20.032331988934523, 19.263082987284417, 19.066843124059744, 18.941497768028775, 18.47118163832799, 18.486081635932532, 18.01038350204878, 17.93286483117155, 17.31433891629711, 16.795572064550882, 16.81438025788121, 16.45783649557764, 16.22477670904645, 16.12023520990711, 15.640554101966158, 15.22232916161591, 15.091840364564803, 15.072779461770972, 14.947663606136016, 14.732096286107376, 14.712851623962498, 14.658087537173058, 14.60973585720481, 14.60038632268352, 15.422063922526757, 0.42015062087121635, 0.3633032095358972, 0.37311162447422874, 0.3521330352308062, 0.3789484793154979, 0.38621652169699383, 0.31777209543953266, 0.33516890170270314, 0.32164303870918687, 0.28507000053860504, 0.2901481483116353, 0.27455014910328995, 0.276227102212121, 0.2700458559425233, 0.2700170015882901, 0.3182946632072297, 0.26713639201586276, 0.2569205373015157, 0.24626153032869127, 0.22179095727983067, 0.2174487863897761, 0.33028463778164396, 0.21611138416661507, 0.21739756272420194, 0.2310045441299389, 0.20603882399197962, 0.3113913542488743, 0.20359671098257837, 0.40654443468433493, 0.28250307762657817, 0.3726574267374166, 0.358238188889331, 0.41776074363280186, 0.6204246873436793, 0.25480199857593067, 0.24393245363580252, 0.4452664774304124, 0.6942871886611637, 0.558325769920192, 0.37831116988691277, 0.35935113156629495, 0.3320684298278908, 0.34577428259641674, 0.3547146795898024, 0.3327989743836168, 0.29175749256308176, 0.32860565733580194, 0.3279782265778264, 0.3116941843085322, 0.4267762675847374, 0.4188273017832055, 0.3796392337021452, 0.35619509401138855, 0.32768411621150034, 0.20810493377398187, 0.20683706643976218, 0.2063393769300951, 0.21207974556165957, 0.19531150525387087, 0.16940025883215853, 0.16078305746445648, 0.172791889742408, 0.4795547184700347, 0.13933633490531502, 0.13183461982739025, 0.12930258491848243, 0.1443087735697712, 0.12740234347671928, 0.15810722391306015, 0.36596155673375186, 0.1252027611223548, 0.11884843528900856, 0.11500068832517041, 0.4738085689910675, 0.10742020638059283, 0.10436832328647687, 0.10306755789480042, 0.10014813600893367, 0.10315079876594475, 0.3441497909850349, 0.12212856575384007, 0.32408862660101956, 0.1399533348704491, 0.15626969885442415, 0.3242603294408113, 0.2679193971951788, 0.14559421141793835, 0.1609193615450693, 0.1516505784735936, 0.13904996454431257, 0.7350328040115293, 0.30378770628212937, 0.25423311146009364, 0.24800789958751068, 0.19975381329370479, 0.14852455748940305, 0.1384490851340512, 0.10948272790027762, 0.09720109064692421, 0.08970626874271423, 0.08441116383045588, 0.06746450614565468, 0.0719560973914602, 0.07226606252996791, 0.11803669095592094, 0.06380123166982536, 0.07293729719068173, 0.06298006051933253, 0.10341809760330885, 0.06177917503506051, 0.09611901618271829, 0.06119561947940211, 0.05743426701201171, 0.057434267012011694, 0.060255014197860765, 0.052291098843902185, 0.05124541331978263, 0.051342514710316894, 0.051342514710316804, 0.05172167757206967, 0.05404848001946677, 0.053482846059610324, 0.05297769631303113, 0.05203709745735992, 0.05266845111321884, 0.32594721282603645, 0.15073475212049628, 0.1558536645021886, 0.1078569885366891, 0.10544798586035256, 0.11439984501689911, 0.07835064078818389, 0.07835064076060501, 0.10037747642944424, 0.06794756466595153, 0.06701491243589687, 0.062494926811946475, 0.06704534383121392, 0.06554120152900789, 0.0875935841215392, 0.067716490453081, 0.0577087331099265, 0.059513278621735055, 0.05853591418646594, 0.05752931601279909, 0.05074330665226615, 0.06618706808251096, 0.049361269582640206, 0.0450813443214429, 0.05339349967935789, 0.0481234768236501, 0.042875468960884254, 0.0692148252469107, 0.04865477798957535, 0.041133578097981224, 0.057866962934013735, 0.07470838446971909, 0.07514689480738516, 0.0511091326296923, 0.05071150683626755, 0.05035229716743868], \"Total\": [12.0, 6.0, 4.0, 3.0, 2.0, 8.0, 8.0, 6.0, 7.0, 4.0, 2.0, 6.0, 2.0, 3.0, 2.0, 6.0, 8.0, 2.0, 2.0, 1.0, 1.0, 2.0, 1.0, 4.0, 4.0, 6.0, 2.0, 2.0, 5.0, 2.0, 31.104747866545893, 25.02968034873633, 24.56202021368855, 23.771433569415336, 21.207558032289707, 25.71964381455527, 20.109820499338888, 19.340798491600605, 19.14462305843533, 19.019108573023413, 18.548720001593235, 18.564490225242665, 18.087855297964897, 18.010360699773056, 17.39199372836424, 16.87310446003745, 16.89214413800219, 16.53530956821824, 16.302268796378858, 16.19786034453723, 15.718175386172943, 15.299827561503943, 15.169394431515494, 15.150365254188689, 15.025264761277915, 14.80958050814602, 14.790340989829867, 14.735629889915977, 14.687219395152548, 14.677874319821814, 15.543327454910548, 0.6401631923634742, 0.5586642496328813, 0.5782470076032858, 0.5489440712487105, 0.5948088766095979, 0.6120445804936022, 0.5129477740259591, 0.547055674422968, 0.5278600858922846, 0.48086869314398295, 0.48988560374524537, 0.4713185634655307, 0.4758988209954341, 0.46566801791639745, 0.46616594884922435, 0.5538100053729866, 0.46594498356216674, 0.46710998863399483, 0.45404903666199087, 0.4188872987904358, 0.4132272514962104, 0.6287403491980622, 0.4122878162446954, 0.41486162942310995, 0.44230778904783574, 0.40240819601956007, 0.6087254267773788, 0.39809686720407556, 0.8044981516818533, 0.5604384126382861, 0.8452144826053329, 0.8369862955526005, 1.0841863936618235, 2.9184867390281117, 0.5625970624526845, 0.5174862163686342, 2.9446458511864178, 12.235486935462625, 6.728744284399218, 2.1465710476874196, 2.5023025047590806, 1.714374255692597, 2.7561422882726077, 4.06170248527143, 6.026059114106832, 1.1103916066654782, 8.18023291428732, 8.966201476758048, 7.782633750640548, 0.6296506725494071, 0.6323679890972659, 0.5823857426472274, 0.5930686979597022, 0.5683240266621018, 0.4109460937808703, 0.41199903716008185, 0.4130724391469289, 0.4299813461022902, 0.40167915239984076, 0.3725827580573149, 0.3650722187971527, 0.39277564206344395, 1.0903618148942837, 0.34246513703838416, 0.3352536760370014, 0.33181781682844474, 0.3743382417727528, 0.3306919795639915, 0.4129959091974489, 0.9601622807312484, 0.32868034796848833, 0.3221050635406716, 0.32006465576794896, 1.319098966911113, 0.31032755565079306, 0.30759615520908185, 0.30518685723551275, 0.3035422550869071, 0.31437944597049866, 1.2153690594161441, 0.3923502921510963, 1.5786754254930027, 0.4824122630334111, 0.6348063004130524, 3.5536830685550997, 4.904688263638401, 0.8356300442309191, 2.127011749345293, 2.9890842826860986, 1.8034611222860675, 1.1049673218630003, 0.5245759847312879, 0.4649675339764883, 0.47141976090062665, 0.41825101741795323, 0.3608003276035477, 0.34872349358084664, 0.3184827763172199, 0.3071150254419649, 0.31696536590586993, 0.3025399645026042, 0.2792407871661628, 0.2980057930884047, 0.3074212725310122, 0.5061593861381887, 0.2749039086703539, 0.3175789531201875, 0.2743652027130329, 0.456485400462255, 0.28437877220393337, 0.45182144322606826, 0.2884431865783734, 0.27419469665900686, 0.274194696659007, 0.29087731048668847, 0.2660945649940764, 0.2617721116994279, 0.26411887562077613, 0.2641188756207768, 0.27007528947952997, 0.2848126722014858, 0.30423766418558545, 0.30785193312143266, 0.3021972125791155, 0.4329801630435312, 0.6553679894685859, 0.4119922490513548, 0.4419428231087782, 0.31773337832964654, 0.3466295023201952, 0.38100940914378945, 0.3081270331128554, 0.30812703334188557, 0.4073202447088564, 0.2765770669199268, 0.2878740668689579, 0.27149568871686863, 0.29550923495470466, 0.2973312358686976, 0.3984900851773323, 0.3099205482917606, 0.26692189977060177, 0.2753517232620879, 0.27299031270681245, 0.30293951282696896, 0.26921141933905207, 0.3540430320149941, 0.2772820275305196, 0.2549341325888786, 0.30415584117535593, 0.28071272181833085, 0.2506371099490197, 0.4296089821065935, 0.3084403038578525, 0.26316466163073676, 0.41672346015002226, 0.9325634336264276, 1.3675664148027686, 0.4264685138198836, 0.45123632298723615, 0.8349078002697751], \"Category\": [\"Default\", \"Default\", \"Default\", \"Default\", \"Default\", \"Default\", \"Default\", \"Default\", \"Default\", \"Default\", \"Default\", \"Default\", \"Default\", \"Default\", \"Default\", \"Default\", \"Default\", \"Default\", \"Default\", \"Default\", \"Default\", \"Default\", \"Default\", \"Default\", \"Default\", \"Default\", \"Default\", \"Default\", \"Default\", \"Default\", \"Topic1\", \"Topic1\", \"Topic1\", \"Topic1\", \"Topic1\", \"Topic1\", \"Topic1\", \"Topic1\", \"Topic1\", \"Topic1\", \"Topic1\", \"Topic1\", \"Topic1\", \"Topic1\", \"Topic1\", \"Topic1\", \"Topic1\", \"Topic1\", \"Topic1\", \"Topic1\", \"Topic1\", \"Topic1\", \"Topic1\", \"Topic1\", \"Topic1\", \"Topic1\", \"Topic1\", \"Topic1\", \"Topic1\", \"Topic1\", \"Topic1\", \"Topic2\", \"Topic2\", \"Topic2\", \"Topic2\", \"Topic2\", \"Topic2\", \"Topic2\", \"Topic2\", \"Topic2\", \"Topic2\", \"Topic2\", \"Topic2\", \"Topic2\", \"Topic2\", \"Topic2\", \"Topic2\", \"Topic2\", \"Topic2\", \"Topic2\", \"Topic2\", \"Topic2\", \"Topic2\", \"Topic2\", \"Topic2\", \"Topic2\", \"Topic2\", \"Topic2\", \"Topic2\", \"Topic2\", \"Topic2\", \"Topic2\", \"Topic2\", \"Topic2\", \"Topic2\", \"Topic2\", \"Topic2\", \"Topic2\", \"Topic2\", \"Topic2\", \"Topic2\", \"Topic2\", \"Topic2\", \"Topic2\", \"Topic2\", \"Topic2\", \"Topic2\", \"Topic2\", \"Topic2\", \"Topic2\", \"Topic3\", \"Topic3\", \"Topic3\", \"Topic3\", \"Topic3\", \"Topic3\", \"Topic3\", \"Topic3\", \"Topic3\", \"Topic3\", \"Topic3\", \"Topic3\", \"Topic3\", \"Topic3\", \"Topic3\", \"Topic3\", \"Topic3\", \"Topic3\", \"Topic3\", \"Topic3\", \"Topic3\", \"Topic3\", \"Topic3\", \"Topic3\", \"Topic3\", \"Topic3\", \"Topic3\", \"Topic3\", \"Topic3\", \"Topic3\", \"Topic3\", \"Topic3\", \"Topic3\", \"Topic3\", \"Topic3\", \"Topic3\", \"Topic3\", \"Topic3\", \"Topic3\", \"Topic3\", \"Topic3\", \"Topic4\", \"Topic4\", \"Topic4\", \"Topic4\", \"Topic4\", \"Topic4\", \"Topic4\", \"Topic4\", \"Topic4\", \"Topic4\", \"Topic4\", \"Topic4\", \"Topic4\", \"Topic4\", \"Topic4\", \"Topic4\", \"Topic4\", \"Topic4\", \"Topic4\", \"Topic4\", \"Topic4\", \"Topic4\", \"Topic4\", \"Topic4\", \"Topic4\", \"Topic4\", \"Topic4\", \"Topic4\", \"Topic4\", \"Topic4\", \"Topic4\", \"Topic4\", \"Topic4\", \"Topic4\", \"Topic4\", \"Topic5\", \"Topic5\", \"Topic5\", \"Topic5\", \"Topic5\", \"Topic5\", \"Topic5\", \"Topic5\", \"Topic5\", \"Topic5\", \"Topic5\", \"Topic5\", \"Topic5\", \"Topic5\", \"Topic5\", \"Topic5\", \"Topic5\", \"Topic5\", \"Topic5\", \"Topic5\", \"Topic5\", \"Topic5\", \"Topic5\", \"Topic5\", \"Topic5\", \"Topic5\", \"Topic5\", \"Topic5\", \"Topic5\", \"Topic5\", \"Topic5\", \"Topic5\", \"Topic5\", \"Topic5\", \"Topic5\", \"Topic5\"], \"logprob\": [30.0, 29.0, 28.0, 27.0, 26.0, 25.0, 24.0, 23.0, 22.0, 21.0, 20.0, 19.0, 18.0, 17.0, 16.0, 15.0, 14.0, 13.0, 12.0, 11.0, 10.0, 9.0, 8.0, 7.0, 6.0, 5.0, 4.0, 3.0, 2.0, 1.0, -6.3023, -6.5202, -6.5391, -6.572, -6.6865, -6.4938, -6.7398, -6.779, -6.7892, -6.7958, -6.821, -6.8202, -6.8462, -6.8505, -6.8856, -6.9161, -6.9149, -6.9364, -6.9506, -6.9571, -6.9873, -7.0144, -7.023, -7.0243, -7.0326, -7.0472, -7.0485, -7.0522, -7.0555, -7.0561, -7.0014, -7.567, -7.7124, -7.6857, -7.7436, -7.6702, -7.6512, -7.8463, -7.793, -7.8342, -7.9549, -7.9372, -7.9925, -7.9864, -8.009, -8.0091, -7.8446, -8.0198, -8.0588, -8.1012, -8.2059, -8.2256, -7.8076, -8.2318, -8.2259, -8.1652, -8.2795, -7.8665, -8.2915, -7.5999, -7.9639, -7.6869, -7.7264, -7.5727, -7.1772, -8.0671, -8.1107, -7.5089, -7.0647, -7.2827, -7.6719, -7.7233, -7.8023, -7.7618, -7.7363, -7.8001, -7.9317, -7.8127, -7.8147, -7.8656, -7.1914, -7.2102, -7.3085, -7.3722, -7.4556, -7.9096, -7.9158, -7.9182, -7.8907, -7.9731, -8.1154, -8.1676, -8.0956, -7.0748, -8.3108, -8.3661, -8.3855, -8.2757, -8.4003, -8.1844, -7.3452, -8.4177, -8.4698, -8.5027, -7.0869, -8.5709, -8.5998, -8.6123, -8.641, -8.6115, -7.4066, -8.4426, -7.4667, -8.3064, -8.1961, -7.4661, -7.657, -8.2669, -8.1668, -8.2261, -8.3128, -6.4157, -7.2993, -7.4773, -7.5021, -7.7185, -8.0148, -8.0851, -8.3198, -8.4388, -8.5191, -8.5799, -8.804, -8.7395, -8.7352, -8.2446, -8.8598, -8.726, -8.8728, -8.3768, -8.892, -8.45, -8.9015, -8.965, -8.965, -8.917, -9.0588, -9.079, -9.0771, -9.0771, -9.0697, -9.0257, -9.0362, -9.0457, -9.0636, -9.0516, -7.1862, -7.9575, -7.9241, -8.2922, -8.3148, -8.2333, -8.6118, -8.6118, -8.364, -8.7542, -8.7681, -8.8379, -8.7676, -8.7903, -8.5003, -8.7577, -8.9176, -8.8868, -8.9033, -8.9207, -9.0462, -8.7805, -9.0738, -9.1645, -8.9953, -9.0992, -9.2147, -8.7358, -9.0882, -9.2562, -8.9148, -8.6594, -8.6535, -9.039, -9.0468, -9.0539], \"loglift\": [30.0, 29.0, 28.0, 27.0, 26.0, 25.0, 24.0, 23.0, 22.0, 21.0, 20.0, 19.0, 18.0, 17.0, 16.0, 15.0, 14.0, 13.0, 12.0, 11.0, 10.0, 9.0, 8.0, 7.0, 6.0, 5.0, 4.0, 3.0, 2.0, 1.0, 0.1227, 0.1221, 0.1221, 0.1219, 0.1215, 0.1214, 0.1214, 0.1212, 0.1211, 0.1211, 0.121, 0.121, 0.1209, 0.1209, 0.1207, 0.1206, 0.1206, 0.1205, 0.1204, 0.1204, 0.1203, 0.1201, 0.1201, 0.1201, 0.12, 0.12, 0.12, 0.1199, 0.1199, 0.1199, 0.1174, 2.7414, 2.7322, 2.7244, 2.7186, 2.7117, 2.7021, 2.6837, 2.6726, 2.6672, 2.6397, 2.6388, 2.6222, 2.6186, 2.6177, 2.6165, 2.6087, 2.6062, 2.5648, 2.5507, 2.5267, 2.5205, 2.5188, 2.5166, 2.5163, 2.513, 2.4931, 2.4922, 2.492, 2.48, 2.4775, 2.3436, 2.3139, 2.2089, 1.6141, 2.3705, 2.4105, 1.2735, 0.2933, 0.6733, 1.4266, 1.2219, 1.5211, 1.0867, 0.7245, 0.2662, 1.826, -0.0521, -0.1457, -0.0551, 3.1336, 3.1105, 3.0946, 3.0126, 2.9718, 2.842, 2.8334, 2.8284, 2.8157, 2.8014, 2.7343, 2.7024, 2.7013, 2.7011, 2.6232, 2.5891, 2.58, 2.5693, 2.5686, 2.5623, 2.5579, 2.5573, 2.5254, 2.4989, 2.4986, 2.4616, 2.4416, 2.4369, 2.4136, 2.4081, 2.2607, 2.3554, 1.9391, 2.285, 2.1207, 1.1283, 0.6152, 1.7751, 0.9409, 0.5413, 0.9598, 3.3469, 3.2083, 3.1508, 3.1123, 3.0156, 2.867, 2.8308, 2.6868, 2.6041, 2.4923, 2.478, 2.3341, 2.3335, 2.3067, 2.2987, 2.2939, 2.2834, 2.2829, 2.2698, 2.2278, 2.2069, 2.2041, 2.1914, 2.1914, 2.1802, 2.1275, 2.1237, 2.1167, 2.1167, 2.1017, 2.0926, 2.0161, 1.9948, 1.9954, 1.6479, 3.0987, 2.7917, 2.7549, 2.7168, 2.6071, 2.594, 2.4279, 2.4279, 2.3965, 2.3934, 2.3396, 2.3283, 2.3138, 2.285, 2.2822, 2.2762, 2.2656, 2.2653, 2.2574, 2.1359, 2.1285, 2.1202, 2.0713, 2.0646, 2.0573, 2.0336, 2.0315, 1.9715, 1.9504, 1.9412, 1.8229, 1.2728, 0.8958, 1.6756, 1.6113, 0.9889]}, \"token.table\": {\"Topic\": [1, 1, 1, 1, 1, 1, 1, 1, 1, 1, 1, 1, 1, 1, 1, 1, 1, 1, 2, 1, 1, 1, 1, 1, 1, 1, 1, 1, 1, 1, 1, 1, 2, 1, 1, 1, 1, 1, 1, 1, 1, 1, 1, 1, 1, 1, 1, 1, 1, 1, 1, 1, 1, 1, 1, 2, 1, 1, 1, 1, 1, 1, 1, 1, 1, 1, 1, 1, 1, 1, 1, 1, 1, 4, 1], \"Freq\": [1.029983036818817, 0.7580932326417208, 1.0036518599950925, 0.6334424314533883, 1.0179298555273135, 0.8115754579318505, 0.9223506270195062, 0.9774612540409932, 1.0141754007101187, 1.0174061092379383, 0.8545616974266891, 1.0135640423271337, 0.9704173656432302, 0.9900751399939275, 1.0415941056928446, 0.9613233175404896, 0.9676262747903351, 0.8990242936812134, 0.08172948124374667, 0.9988141938561421, 1.0075205804754597, 0.9695930123373325, 0.7312259128155181, 1.0109004692081338, 1.0017124481742647, 0.9945389617305387, 1.041490610564718, 0.8227953412606981, 1.1977370431524061, 0.9171267613557754, 0.8994384451695246, 0.8916968376865158, 0.1486161396144193, 0.9848087137117562, 0.9951428570984432, 0.9823792956765147, 0.9155794921025948, 0.9317185201741512, 0.9983185147363908, 0.9804032064872193, 1.0128578585834513, 0.8967732339373965, 1.021946344079481, 1.0096151723419298, 0.7992638764482867, 0.9888331447718464, 0.8441945840769016, 0.9402862963101225, 0.9902130159458393, 0.9814584828557115, 0.725651940580138, 0.9771183229718484, 0.9650443280895497, 1.0194327817056603, 0.6852866498430698, 0.3426433249215349, 0.9956755960050528, 0.9877847851303423, 1.0212961076179392, 1.0179408760982074, 0.9779672637471567, 1.108978716139331, 0.6791988242641085, 1.1967018262493907, 1.0723131145206222, 0.9989952960755207, 0.9895539965462687, 1.0063849716836815, 0.9994247366865237, 1.0037695475982291, 0.9005831762390696, 0.992445760985009, 0.9966324155079054, 0.9050041392300878, 0.5833032062161981], \"Term\": [\"arsenal\", \"athens\", \"athlete\", \"athletics\", \"award\", \"ball\", \"bath\", \"best\", \"blair\", \"captain\", \"championship\", \"coach\", \"company\", \"country\", \"cross\", \"cup\", \"election\", \"england\", \"england\", \"film\", \"firm\", \"first\", \"foxx\", \"game\", \"goal\", \"government\", \"greek\", \"holmes\", \"imelda\", \"indoor\", \"injury\", \"ireland\", \"ireland\", \"italy\", \"labour\", \"last\", \"leicester\", \"lion\", \"make\", \"market\", \"minister\", \"minute\", \"music\", \"new\", \"newcastle\", \"number\", \"olympic\", \"olympics\", \"one\", \"party\", \"penalty\", \"people\", \"player\", \"race\", \"robinson\", \"robinson\", \"rugby\", \"sale\", \"service\", \"show\", \"side\", \"sprinter\", \"squad\", \"stade\", \"staunton\", \"time\", \"try\", \"two\", \"uk\", \"wale\", \"wasp\", \"world\", \"year\", \"yukos\", \"zealand\"]}, \"R\": 30, \"lambda.step\": 0.01, \"plot.opts\": {\"xlab\": \"PC1\", \"ylab\": \"PC2\"}, \"topic.order\": [5, 4, 2, 3, 1]};\n",
              "\n",
              "function LDAvis_load_lib(url, callback){\n",
              "  var s = document.createElement('script');\n",
              "  s.src = url;\n",
              "  s.async = true;\n",
              "  s.onreadystatechange = s.onload = callback;\n",
              "  s.onerror = function(){console.warn(\"failed to load library \" + url);};\n",
              "  document.getElementsByTagName(\"head\")[0].appendChild(s);\n",
              "}\n",
              "\n",
              "if(typeof(LDAvis) !== \"undefined\"){\n",
              "   // already loaded: just create the visualization\n",
              "   !function(LDAvis){\n",
              "       new LDAvis(\"#\" + \"ldavis_el808137537835068304572138983\", ldavis_el808137537835068304572138983_data);\n",
              "   }(LDAvis);\n",
              "}else if(typeof define === \"function\" && define.amd){\n",
              "   // require.js is available: use it to load d3/LDAvis\n",
              "   require.config({paths: {d3: \"https://d3js.org/d3.v5\"}});\n",
              "   require([\"d3\"], function(d3){\n",
              "      window.d3 = d3;\n",
              "      LDAvis_load_lib(\"https://cdn.jsdelivr.net/gh/bmabey/pyLDAvis@3.4.0/pyLDAvis/js/ldavis.v3.0.0.js\", function(){\n",
              "        new LDAvis(\"#\" + \"ldavis_el808137537835068304572138983\", ldavis_el808137537835068304572138983_data);\n",
              "      });\n",
              "    });\n",
              "}else{\n",
              "    // require.js not available: dynamically load d3 & LDAvis\n",
              "    LDAvis_load_lib(\"https://d3js.org/d3.v5.js\", function(){\n",
              "         LDAvis_load_lib(\"https://cdn.jsdelivr.net/gh/bmabey/pyLDAvis@3.4.0/pyLDAvis/js/ldavis.v3.0.0.js\", function(){\n",
              "                 new LDAvis(\"#\" + \"ldavis_el808137537835068304572138983\", ldavis_el808137537835068304572138983_data);\n",
              "            })\n",
              "         });\n",
              "}\n",
              "</script>"
            ]
          },
          "metadata": {},
          "execution_count": 34
        }
      ],
      "source": [
        "#Plotting TF-IDF LDA model with pyLDAvis\n",
        "\n",
        "# Get the topic-term distributions from the best LDA model\n",
        "topic_term_dists = best_tfidf_lda_model.components_ / best_tfidf_lda_model.components_.sum(axis=1)[:, np.newaxis]\n",
        "\n",
        "# Get the document-topic distributions from the best LDA model\n",
        "doc_topic_dists = best_tfidf_lda_model.transform(tfidf_vectorized_df)\n",
        "\n",
        "# Calculate the term frequency by summing the count vectorized data\n",
        "term_frequency = tfidf_vectorized_df.sum(axis=0)\n",
        "\n",
        "# Get the feature names from the CountVectorizer\n",
        "feature_names = tfidf_vectorized_df.columns\n",
        "\n",
        "# Prepare the data for visualization\n",
        "vis_data_tfidf_vectorizer = pyLDAvis.prepare(topic_term_dists, doc_topic_dists, tfidf_vectorized_df.sum(axis=1), feature_names, term_frequency)\n",
        "\n",
        "# Display the visualization\n",
        "pyLDAvis.display(vis_data_tfidf_vectorizer)\n"
      ]
    },
    {
      "cell_type": "markdown",
      "metadata": {
        "id": "JgR79jd5hVNx"
      },
      "source": [
        "Out of above 3 models we find out that count vectorize text with LDA provided good result where acutal topic and resulted topic were 5 and with good perplexity score(lesser the better). Now we"
      ]
    },
    {
      "cell_type": "markdown",
      "metadata": {
        "id": "gCX9965dhzqZ"
      },
      "source": [
        "# **Conclusion**"
      ]
    },
    {
      "cell_type": "markdown",
      "metadata": {
        "id": "Fjb1IsQkh3yE"
      },
      "source": [
        "##### In this project we perform 3 different text vectorization method and applied LDA model on it.\n",
        "\n",
        "1. BoW with LDA- After applying LDA algorithm with BoW we got highest coherence score for 9 topics. We are off by 4 number of topics in this Model.\n",
        "\n",
        "\n",
        "2. Count Vectorizer with LDA- After applying LDA algorithm on count vectorize data , we got best perplexity score and log likelihood score for 5 topics. And originally our data has 5 topics.\n",
        "##### **Metrics Score-**\n",
        "##### **Best log likelihood Score for the LDA model: -907800.6320079308**\n",
        "##### **LDA model Perplexity on train data: 4053.4538213406518**\n",
        "\n",
        "3. TF-IDF Vectorizer with LDA- After applying LDA algorithm on TF-IDF Vectorize data, we again got best perplexity score and likehood score for 5 topics. ANd our original data also had 5 topics\n",
        "##### **Metrics Score-**\n",
        "##### **Best log likelihood Score for the LDA model: -52647.09447054107**\n",
        "##### **LDA model Perplexity on train data: 38301.55576010121**\n",
        "\n",
        "Out of above 3 models we find out that LDA with count vectorizer and TF-IDF model guessed topics accurately. But amoung these two model, count vectorize with LDA model perform better with metrics of\n",
        "##### **Best log likelihood Score for the LDA model: -907800.6320079308** (Higher the Better)\n",
        "##### **LDA model Perplexity on train data: 4053.4538213406518** (Lower the better)"
      ]
    }
  ],
  "metadata": {
    "colab": {
      "provenance": [],
      "include_colab_link": true
    },
    "gpuClass": "standard",
    "kernelspec": {
      "display_name": "Python 3",
      "name": "python3"
    },
    "language_info": {
      "name": "python"
    }
  },
  "nbformat": 4,
  "nbformat_minor": 0
}